{
 "cells": [
  {
   "cell_type": "markdown",
   "metadata": {},
   "source": [
    "# Notes on Scripts"
   ]
  },
  {
   "cell_type": "markdown",
   "metadata": {},
   "source": [
    "## FEM files"
   ]
  },
  {
   "cell_type": "markdown",
   "metadata": {},
   "source": [
    "``` python\n",
    "Core FEM files are\n",
    "\n",
    "* Output_Integrator.csv: 2752 rows (I think these are the integrals of the nodes wrt the elemnt surface ??)\n",
    "gradNa_node1_x,gradNa_node1_y,gradNa_node2_x,gradNa_node2_y,gradNa_node3_x,gradNa_node3_y,qpWeight\n",
    "\n",
    "* output_elements.csv: 2752 rows\n",
    "node1,node2,node3\n",
    "144,441,443\n",
    "....\n",
    "\n",
    "* output_nodes.csv: 1441 rows\n",
    "x,y,ux,uy,fintx,finty,bcx,bcy,ux_orig,uy_orig\n",
    "\n",
    "* output_reactions.csv: \n",
    "forces\n",
    "-1.78184371484038400757e-01\n",
    "1.78184350922636763892e-01\n",
    "-1.99714523760122358853e-01\n",
    "1.99713058872547727374e-01\n"
   ]
  },
  {
   "cell_type": "markdown",
   "metadata": {},
   "source": [
    "## Drivers"
   ]
  },
  {
   "cell_type": "markdown",
   "metadata": {},
   "source": [
    "### Train.py"
   ]
  },
  {
   "cell_type": "markdown",
   "metadata": {},
   "source": [
    "```python\n",
    "# Forward pass NN to obtain W_NN\n",
    "W_NN = model(torch.cat((F11,F12,F21,F22),dim=1))\n",
    "```\n",
    "\n",
    "--------------------------------------------------\n",
    "\n",
    "When printing the shape of this, it is: \n",
    "```python\n",
    "\n",
    "Model output shape \n",
    "torch.Size([2752, 1])\n",
    "\n",
    "Model input shape \n",
    "torch.Size([2752, 4])\n",
    "```\n",
    "\n",
    "So it prints I think, the energy density per node?"
   ]
  },
  {
   "cell_type": "markdown",
   "metadata": {
    "vscode": {
     "languageId": "plaintext"
    }
   },
   "source": [
    "Vars they work with:\n",
    "```python\n",
    "dict_keys(['path', 'numNodes', 'x_nodes', 'u_nodes', 'dirichlet_nodes', 'reactions', 'numElements', 'qpWeights', 'connectivity', 'gradNa', 'F', 'J', 'C', 'I1', 'I2', 'I3', 'dI1dF', 'dI2dF', 'dI3dF', 'featureSet'])"
   ]
  },
  {
   "cell_type": "markdown",
   "metadata": {},
   "source": [
    "```python\n",
    "\n",
    "OK by printing: print(data.numElements)\n",
    "we get that there are 2752 elements.\n",
    "By printing numNodes we find 1441 nodes.\n",
    "Printing dirichletNodes shape we find torch.Size([1441, 2])\n",
    "Printing x_nodes shape we find torch.Size([1441, 2])\n",
    "Printing u_nodes shape we find torch.Size([1441, 2])"
   ]
  },
  {
   "cell_type": "code",
   "execution_count": 2,
   "metadata": {},
   "outputs": [
    {
     "data": {
      "text/plain": [
       "1.9097848716169328"
      ]
     },
     "execution_count": 2,
     "metadata": {},
     "output_type": "execute_result"
    }
   ],
   "source": [
    "2752/1441"
   ]
  },
  {
   "cell_type": "markdown",
   "metadata": {},
   "source": [
    "Calculate first Piola–Kirchhoff stress:\n",
    "\n",
    "``` python\n",
    "\n",
    "# Get gradients of W w.r.t F\n",
    "dW_NN_dF11 = torch.autograd.grad(W_NN,F11,torch.ones(F11.shape[0],1),create_graph=True)[0]\n",
    "dW_NN_dF12 = torch.autograd.grad(W_NN,F12,torch.ones(F12.shape[0],1),create_graph=True)[0]\n",
    "dW_NN_dF21 = torch.autograd.grad(W_NN,F21,torch.ones(F21.shape[0],1),create_graph=True)[0]\n",
    "dW_NN_dF22 = torch.autograd.grad(W_NN,F22,torch.ones(F22.shape[0],1),create_graph=True)[0]\n",
    "\n",
    "# Assemble First Piola-Kirchhoff stress components\n",
    "P_NN = torch.cat((dW_NN_dF11,dW_NN_dF12,dW_NN_dF21,dW_NN_dF22),dim=1)\n",
    "``` \n",
    "\n",
    "Correction is so that PK stress is 0 at reference state\n",
    "\n",
    "``` python\n",
    "\n",
    "# Forward pass to obtain zero deformation energy correction\n",
    "W_NN_0 = model(torch.cat((F11_0,F12_0,F21_0,F22_0),dim=1))\n",
    "\n",
    "# Get gradients of W_NN_0 w.r.t F\n",
    "dW_NN_dF11_0 = torch.autograd.grad(W_NN_0,F11_0,torch.ones(F11_0.shape[0],1),create_graph=True)[0]\n",
    "dW_NN_dF12_0 = torch.autograd.grad(W_NN_0,F12_0,torch.ones(F12_0.shape[0],1),create_graph=True)[0]\n",
    "dW_NN_dF21_0 = torch.autograd.grad(W_NN_0,F21_0,torch.ones(F21_0.shape[0],1),create_graph=True)[0]\n",
    "dW_NN_dF22_0 = torch.autograd.grad(W_NN_0,F22_0,torch.ones(F22_0.shape[0],1),create_graph=True)[0]\n",
    "\n",
    "# Get stress at zero deformation\n",
    "P_NN_0 = torch.cat((dW_NN_dF11_0,dW_NN_dF12_0,dW_NN_dF21_0,dW_NN_dF22_0),dim=1)\n",
    "\n",
    "# Initialize zero stress correction term\n",
    "P_cor = torch.zeros_like(P_NN)\n",
    "\n",
    "# Compute stress correction components according to Ansatz\n",
    "P_cor[:,0:1] = F11*-P_NN_0[:,0:1] + F12*-P_NN_0[:,2:3]\n",
    "P_cor[:,1:2] = F11*-P_NN_0[:,1:2] + F12*-P_NN_0[:,3:4]\n",
    "P_cor[:,2:3] = F21*-P_NN_0[:,0:1] + F22*-P_NN_0[:,2:3]\n",
    "P_cor[:,3:4] = F21*-P_NN_0[:,1:2] + F22*-P_NN_0[:,3:4]\n",
    "\n",
    "# Compute final stress (NN + correction)\n",
    "P = P_NN + P_cor\n"
   ]
  },
  {
   "cell_type": "markdown",
   "metadata": {},
   "source": [
    "## FEM data"
   ]
  },
  {
   "cell_type": "markdown",
   "metadata": {},
   "source": [
    "## Core"
   ]
  },
  {
   "cell_type": "markdown",
   "metadata": {},
   "source": []
  }
 ],
 "metadata": {
  "kernelspec": {
   "display_name": "EUCLID",
   "language": "python",
   "name": "python3"
  },
  "language_info": {
   "codemirror_mode": {
    "name": "ipython",
    "version": 3
   },
   "file_extension": ".py",
   "mimetype": "text/x-python",
   "name": "python",
   "nbconvert_exporter": "python",
   "pygments_lexer": "ipython3",
   "version": "3.9.0"
  }
 },
 "nbformat": 4,
 "nbformat_minor": 2
}
