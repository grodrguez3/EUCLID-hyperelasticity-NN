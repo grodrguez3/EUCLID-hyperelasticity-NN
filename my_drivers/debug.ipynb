{
 "cells": [
  {
   "cell_type": "markdown",
   "metadata": {},
   "source": [
    "# Setting up my own pipeline 786"
   ]
  },
  {
   "cell_type": "code",
   "execution_count": 7,
   "metadata": {},
   "outputs": [],
   "source": [
    "import numpy as np\n",
    "import torch"
   ]
  },
  {
   "cell_type": "markdown",
   "metadata": {},
   "source": [
    "## Read Data"
   ]
  },
  {
   "cell_type": "code",
   "execution_count": 3,
   "metadata": {},
   "outputs": [
    {
     "name": "stdout",
     "output_type": "stream",
     "text": [
      "   1  1.00198  0.000370964  -0.0102491  0.000370964.1  1.00198.1  \\\n",
      "0  2  1.00138     0.000164   -0.006888      -0.000303    1.00194   \n",
      "1  3  1.00104     0.000081   -0.004466      -0.000219    1.00207   \n",
      "2  4  1.00089     0.000045   -0.002534      -0.000129    1.00212   \n",
      "3  5  1.00082     0.000015   -0.000823      -0.000042    1.00214   \n",
      "4  6  1.00082    -0.000015    0.000823       0.000042    1.00214   \n",
      "\n",
      "   -0.0102491.1  0.000866093  0.000866093.1  0.994611  \n",
      "0     -0.010181     0.000096       0.000846  0.995574  \n",
      "1     -0.010703     0.000090       0.000831  0.995760  \n",
      "2     -0.011051     0.000034       0.000829  0.995884  \n",
      "3     -0.011222     0.000012       0.000830  0.995929  \n",
      "4     -0.011222    -0.000012       0.000830  0.995929  \n"
     ]
    }
   ],
   "source": [
    "import pandas as pd\n",
    "\n",
    "# Read just the first row as a DataFrame\n",
    "df_first = pd.read_csv(\"/home/feolalab/Desktop/EUCLID-hyperelasticity-NN/my_data/Cube/jobs/outputs/F_last\")\n",
    "\n",
    "# If your file has a header row you want to treat as data, keep header=None.\n",
    "# If it already has column names in row 1 and you want those as column names:\n",
    "# df_first = pd.read_csv(\"file.txt\", nrows=1)\n",
    "\n",
    "print(df_first.head())\n"
   ]
  },
  {
   "cell_type": "code",
   "execution_count": 8,
   "metadata": {},
   "outputs": [
    {
     "data": {
      "text/plain": [
       "torch.Size([1330, 3])"
      ]
     },
     "execution_count": 8,
     "metadata": {},
     "output_type": "execute_result"
    }
   ],
   "source": [
    "#Read position\n",
    "displacement_last = pd.read_csv(\"/home/feolalab/Desktop/EUCLID-hyperelasticity-NN/my_data/Cube/jobs/outputs/displacement_last\")\n",
    "\n",
    "# Drop the first column, then convert to an (N×9) Python list:\n",
    "displacement =torch.tensor( displacement_last.iloc[:, 1:].to_numpy())   # shape = (N, 9)\n",
    "\n",
    "displacement.shape"
   ]
  },
  {
   "cell_type": "code",
   "execution_count": null,
   "metadata": {},
   "outputs": [
    {
     "data": {
      "text/plain": [
       "torch.Size([999, 9])"
      ]
     },
     "execution_count": 5,
     "metadata": {},
     "output_type": "execute_result"
    }
   ],
   "source": [
    "\n",
    "#Read position\n",
    "F_last = pd.read_csv(\"/home/feolalab/Desktop/EUCLID-hyperelasticity-NN/my_data/Cube/jobs/outputs/F_last\")\n",
    "\n",
    "# Drop the first column, then convert to an (N×9) Python list:\n",
    "F_last = torch.tensor(F_last.iloc[:, 1:].to_numpy())   # shape = (N, 9))\n",
    "\n",
    "# Now `list_9` is a list of N rows, each row itself a list of length 9.\n",
    "F_last.shape"
   ]
  },
  {
   "cell_type": "code",
   "execution_count": 15,
   "metadata": {},
   "outputs": [
    {
     "data": {
      "text/plain": [
       "torch.Size([999, 8])"
      ]
     },
     "execution_count": 15,
     "metadata": {},
     "output_type": "execute_result"
    }
   ],
   "source": [
    "\n",
    "#Read connectivity\n",
    "connectivity = pd.read_csv(\"/home/feolalab/Desktop/EUCLID-hyperelasticity-NN/my_data/Cube/jobs/outputs/connectivity\")\n",
    "\n",
    "# Drop the first column, then convert to an (N×9) Python list:\n",
    "connectivity = torch.tensor(connectivity.iloc[:, 1:].to_numpy())   # shape = (N, 9))\n",
    "\n",
    "# Now `list_9` is a list of N rows, each row itself a list of length 9.\n",
    "connectivity.shape"
   ]
  },
  {
   "cell_type": "code",
   "execution_count": 20,
   "metadata": {},
   "outputs": [
    {
     "data": {
      "text/plain": [
       "torch.Size([999, 1])"
      ]
     },
     "execution_count": 20,
     "metadata": {},
     "output_type": "execute_result"
    }
   ],
   "source": [
    "#Read volume\n",
    "vol = pd.read_csv(\"/home/feolalab/Desktop/EUCLID-hyperelasticity-NN/my_data/Cube/jobs/outputs/vol_last\")\n",
    "\n",
    "# Drop the first column, then convert to an (N×9) Python list:\n",
    "vol = torch.tensor(vol.iloc[:, 1:].to_numpy())   # shape = (N, 9))\n",
    "\n",
    "vol.shape"
   ]
  },
  {
   "cell_type": "code",
   "execution_count": 16,
   "metadata": {},
   "outputs": [
    {
     "data": {
      "text/plain": [
       "(1330, 999)"
      ]
     },
     "execution_count": 16,
     "metadata": {},
     "output_type": "execute_result"
    }
   ],
   "source": [
    "numNodes=displacement.shape[0]\n",
    "numElements=F_last.shape[0]\n",
    "num_nodes_per_element=8\n",
    "numNodes, numElements"
   ]
  },
  {
   "cell_type": "markdown",
   "metadata": {},
   "source": [
    "## Set up architecture of network"
   ]
  },
  {
   "cell_type": "code",
   "execution_count": 1,
   "metadata": {},
   "outputs": [],
   "source": [
    "from model import *\n",
    "\n",
    "model = ICNN3D(n_input=9,\n",
    "                n_hidden=[64,64,64],\n",
    "                n_output=1,\n",
    "                use_dropout=True,\n",
    "                dropout_rate=0.2)"
   ]
  },
  {
   "cell_type": "code",
   "execution_count": 6,
   "metadata": {},
   "outputs": [
    {
     "data": {
      "text/plain": [
       "=================================================================\n",
       "Layer (type:depth-idx)                   Param #\n",
       "=================================================================\n",
       "ICNN3D                                   --\n",
       "├─ModuleDict: 1-1                        --\n",
       "│    └─Linear: 2-1                       640\n",
       "│    └─convexLinear: 2-2                 4,096\n",
       "│    └─convexLinear: 2-3                 4,096\n",
       "│    └─convexLinear: 2-4                 64\n",
       "├─ModuleDict: 1-2                        --\n",
       "│    └─Linear: 2-5                       640\n",
       "│    └─Linear: 2-6                       640\n",
       "│    └─convexLinear: 2-7                 9\n",
       "=================================================================\n",
       "Total params: 10,185\n",
       "Trainable params: 10,185\n",
       "Non-trainable params: 0\n",
       "================================================================="
      ]
     },
     "execution_count": 6,
     "metadata": {},
     "output_type": "execute_result"
    }
   ],
   "source": [
    "from torchinfo import summary\n",
    "model = model.to(\"cuda\")\n",
    "summary(model)\n"
   ]
  },
  {
   "cell_type": "markdown",
   "metadata": {},
   "source": [
    "## Virtual Fields"
   ]
  },
  {
   "cell_type": "code",
   "execution_count": null,
   "metadata": {},
   "outputs": [],
   "source": [
    "v_x_star1 = torch.zeros_like(displacement[:,0]) \n",
    "v_y_star1 = -displacement[:,1] #corrected\n",
    "v_z_star1 = torch.zeros_like(displacement[:,0]) \n",
    "\n",
    "\n",
    "virtual_displacement1 = torch.stack([v_x_star1, v_y_star1, v_z_star1], dim=1)  #torch.Size([Nodes, 2])\n",
    "\n",
    "zeros = torch.zeros_like(displacement[:, 0])\n",
    "twos = torch.ones_like(displacement[:, 0]) * 2\n",
    "\n",
    "# ∂v_x/∂x, ∂v_x/∂y, ∂v_y/∂x, ∂v_y/∂y\n",
    "# Row-major order: [vx,x, vx,y, vx,z, vy,x, vy,y, vy,z, vz,x, vz,y, vz,z]\n",
    "gradient_virtual_displacement1 = torch.stack([\n",
    "    zeros,  # ∂v_x/∂x\n",
    "    zeros,  # ∂v_x/∂y\n",
    "    zeros,  # ∂v_x/∂z\n",
    "    zeros,  # ∂v_y/∂x\n",
    "    twos,   # ∂v_y/∂y\n",
    "    zeros,  # ∂v_y/∂z\n",
    "    zeros,  # ∂v_z/∂x\n",
    "    zeros,  # ∂v_z/∂y\n",
    "    zeros   # ∂v_z/∂z\n",
    "], dim=1)  # shape: [N, 9]\n"
   ]
  },
  {
   "cell_type": "markdown",
   "metadata": {},
   "source": [
    "## Internal Virtual Work"
   ]
  },
  {
   "cell_type": "markdown",
   "metadata": {},
   "source": [
    "$$\n",
    "\\text{IVW}_k(\\mathcal{Q}, \\mathbf{v}^*) \n",
    "= V_k \\, \\xi^{*k}_{ij} \\, \\sigma^k_{ij}(\\mathcal{Q}) \n",
    "= V_k \\, \\xi^{*k}_{ij} \\left( \\frac{1}{J_k} P^k_{im} F^k_{jm} \\right)\n",
    "$$\n",
    "Where:\n",
    "* k is each element"
   ]
  },
  {
   "cell_type": "code",
   "execution_count": 22,
   "metadata": {},
   "outputs": [
    {
     "data": {
      "text/plain": [
       "torch.Size([999, 3, 3])"
      ]
     },
     "execution_count": 22,
     "metadata": {},
     "output_type": "execute_result"
    }
   ],
   "source": [
    "F_mat = torch.stack([\n",
    "    torch.stack([F_last[:,0:1], F_last[:,1:2],F_last[:,2:3]], dim=-1),\n",
    "    torch.stack([F_last[:,3:4], F_last[:,4:5],F_last[:,5:6]], dim=-1),\n",
    "    torch.stack([F_last[:,6:7], F_last[:,7:8],F_last[:,8:9]], dim=-1)\n",
    "], dim=-2).squeeze() #torch.Size([2752, 2, 2]) after squeeze \n",
    "P_mat=torch.zeros_like(F_mat)\n",
    "J = torch.det(F_mat)         # [nElem]\n",
    "F_mat.shape"
   ]
  },
  {
   "cell_type": "code",
   "execution_count": 36,
   "metadata": {},
   "outputs": [
    {
     "data": {
      "text/plain": [
       "(torch.Size([999, 8]), 0, torch.Size([999]))"
      ]
     },
     "execution_count": 36,
     "metadata": {},
     "output_type": "execute_result"
    }
   ],
   "source": [
    "connectivity.shape, a, connectivity[:,a].shape"
   ]
  },
  {
   "cell_type": "code",
   "execution_count": 39,
   "metadata": {},
   "outputs": [
    {
     "data": {
      "text/plain": [
       "(tensor([[   9,   10,  514,  ...,  118,  604,  603],\n",
       "         [  10,   11,  515,  ...,  119,  605,  604],\n",
       "         [  11,   12,  516,  ...,  120,  606,  605],\n",
       "         ...,\n",
       "         [1329, 1330,  352,  ...,  601,   97,   96],\n",
       "         [1330, 1331,  351,  ...,  602,   98,   97],\n",
       "         [1331,  278,   62,  ...,   63,    7,   98]]),\n",
       " torch.Size([999, 8]))"
      ]
     },
     "execution_count": 39,
     "metadata": {},
     "output_type": "execute_result"
    }
   ],
   "source": [
    "connectivity, connectivity.shape\n"
   ]
  },
  {
   "cell_type": "code",
   "execution_count": 31,
   "metadata": {},
   "outputs": [
    {
     "data": {
      "text/plain": [
       "torch.Size([1330, 9])"
      ]
     },
     "execution_count": 31,
     "metadata": {},
     "output_type": "execute_result"
    }
   ],
   "source": [
    "gradient_virtual_displacement1.shape"
   ]
  },
  {
   "cell_type": "code",
   "execution_count": null,
   "metadata": {},
   "outputs": [],
   "source": [
    " #connectivity is a list of 3 1D-matrix. Each matrix contains integers.\n",
    "#Length of each matrix is equal to numElements. \n",
    "#For 2D-triangular elements with a={0,1,2}:\n",
    "#connectivity[a][e]: is the index of the 'a'-th node of the 'e'-th element.\n",
    "#Note that node indices range from 0 to (numNodes-1)."
   ]
  },
  {
   "cell_type": "code",
   "execution_count": null,
   "metadata": {},
   "outputs": [
    {
     "name": "stdout",
     "output_type": "stream",
     "text": [
      "0\n"
     ]
    },
    {
     "ename": "IndexError",
     "evalue": "index 117 is out of bounds for dimension 0 with size 9",
     "output_type": "error",
     "traceback": [
      "\u001b[0;31m---------------------------------------------------------------------------\u001b[0m",
      "\u001b[0;31mIndexError\u001b[0m                                Traceback (most recent call last)",
      "Cell \u001b[0;32mIn[33], line 10\u001b[0m\n\u001b[1;32m      7\u001b[0m \u001b[38;5;28mprint\u001b[39m(a)\n\u001b[1;32m      9\u001b[0m \u001b[38;5;66;03m# # Mapping from **nodes to elements**\u001b[39;00m\n\u001b[0;32m---> 10\u001b[0m element_ivf1 \u001b[38;5;241m=\u001b[39m \u001b[43mgradient_virtual_displacement1\u001b[49m\u001b[43m[\u001b[49m\u001b[43m:\u001b[49m\u001b[43m,\u001b[49m\u001b[43mconnectivity\u001b[49m\u001b[43m[\u001b[49m\u001b[43ma\u001b[49m\u001b[43m]\u001b[49m\u001b[43m]\u001b[49m  \n\u001b[1;32m     12\u001b[0m \u001b[38;5;66;03m# --- form Cauchy stress: σ = (1/J) P · Fᵀ ---\u001b[39;00m\n\u001b[1;32m     14\u001b[0m sigma \u001b[38;5;241m=\u001b[39m (P_mat \u001b[38;5;241m@\u001b[39m F_mat\u001b[38;5;241m.\u001b[39mtranspose(\u001b[38;5;241m-\u001b[39m\u001b[38;5;241m2\u001b[39m,\u001b[38;5;241m-\u001b[39m\u001b[38;5;241m1\u001b[39m)) \u001b[38;5;241m/\u001b[39m J\u001b[38;5;241m.\u001b[39mview(\u001b[38;5;241m-\u001b[39m\u001b[38;5;241m1\u001b[39m,\u001b[38;5;241m1\u001b[39m,\u001b[38;5;241m1\u001b[39m) \u001b[38;5;66;03m# [nElem,2,2]\u001b[39;00m\n",
      "\u001b[0;31mIndexError\u001b[0m: index 117 is out of bounds for dimension 0 with size 9"
     ]
    }
   ],
   "source": [
    "ewk=torch.zeros(numNodes)\n",
    "iwk=torch.zeros(numNodes)\n",
    "\n",
    "\n",
    "#Compute internal work\n",
    "for a in range(num_nodes_per_element): #this is 3\n",
    "    print(a)\n",
    "\n",
    "    # # Mapping from **nodes to elements**\n",
    "    element_ivf1 = gradient_virtual_displacement1[connectivity[a]]  #VD is in each node. \n",
    "\n",
    "    # --- form Cauchy stress: σ = (1/J) P · Fᵀ ---\n",
    "    \n",
    "    sigma = (P_mat @ F_mat.transpose(-2,-1)) / J.view(-1,1,1) # [nElem,2,2]\n",
    "                                \n",
    "    # --- flatten σᵢⱼ in the standard row‐major order [11,12,21,22] ---\n",
    "    sigma_flat = sigma.view(-1,9)   # [nElem,9]\t\n",
    "    #print(sigma_flat.shape)\t\t\t\t\n",
    "    correct_internal_virtual_work= (sigma_flat* (element_ivf1)).sum(dim=1)* vol\n",
    "\n",
    "    iwk.index_add_(0,connectivity[a],correct_internal_virtual_work) #Nodes "
   ]
  },
  {
   "cell_type": "code",
   "execution_count": 34,
   "metadata": {},
   "outputs": [
    {
     "data": {
      "text/plain": [
       "tensor([  9,  10, 514, 513, 117, 118, 604, 603])"
      ]
     },
     "execution_count": 34,
     "metadata": {},
     "output_type": "execute_result"
    }
   ],
   "source": [
    "connectivity[a]"
   ]
  },
  {
   "cell_type": "code",
   "execution_count": 28,
   "metadata": {},
   "outputs": [
    {
     "data": {
      "text/plain": [
       "(torch.Size([999, 9]), torch.Size([8, 9]), torch.Size([999, 1]))"
      ]
     },
     "execution_count": 28,
     "metadata": {},
     "output_type": "execute_result"
    }
   ],
   "source": [
    "sigma_flat.shape, element_ivf1.shape, vol.shape"
   ]
  },
  {
   "cell_type": "markdown",
   "metadata": {},
   "source": [
    "## Losses"
   ]
  },
  {
   "cell_type": "code",
   "execution_count": null,
   "metadata": {},
   "outputs": [],
   "source": []
  },
  {
   "cell_type": "markdown",
   "metadata": {},
   "source": [
    "## Simple training loop"
   ]
  },
  {
   "cell_type": "markdown",
   "metadata": {},
   "source": []
  },
  {
   "cell_type": "code",
   "execution_count": null,
   "metadata": {},
   "outputs": [],
   "source": []
  },
  {
   "cell_type": "markdown",
   "metadata": {},
   "source": [
    "## Test"
   ]
  },
  {
   "cell_type": "markdown",
   "metadata": {},
   "source": []
  }
 ],
 "metadata": {
  "kernelspec": {
   "display_name": "NNEUCLID",
   "language": "python",
   "name": "python3"
  },
  "language_info": {
   "codemirror_mode": {
    "name": "ipython",
    "version": 3
   },
   "file_extension": ".py",
   "mimetype": "text/x-python",
   "name": "python",
   "nbconvert_exporter": "python",
   "pygments_lexer": "ipython3",
   "version": "3.9.0"
  }
 },
 "nbformat": 4,
 "nbformat_minor": 2
}
