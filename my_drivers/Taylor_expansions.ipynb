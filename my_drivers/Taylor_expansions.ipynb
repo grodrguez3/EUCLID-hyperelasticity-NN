{
 "cells": [
  {
   "cell_type": "markdown",
   "metadata": {},
   "source": [
    "# Pseudo Virtual Fields: Neural Networks act as Taylor expansions to find optimal virtual fields via weak equilibrium minimization"
   ]
  },
  {
   "cell_type": "markdown",
   "metadata": {},
   "source": []
  },
  {
   "cell_type": "code",
   "execution_count": 1,
   "metadata": {},
   "outputs": [],
   "source": [
    "import numpy as np\n",
    "import torch\n",
    "import pandas as pd"
   ]
  },
  {
   "cell_type": "code",
   "execution_count": null,
   "metadata": {},
   "outputs": [],
   "source": [
    "import sys\n",
    "sys.path.insert(0, '../')\n",
    "from core import *\n",
    "#config\n",
    "from config import *\n",
    "#CUDA\n",
    "cuda=0\n",
    "device=initCUDA(cuda)\n",
    "#supporting files\n",
    "\n"
   ]
  },
  {
   "cell_type": "markdown",
   "metadata": {},
   "source": [
    "# Read FEBIO data"
   ]
  },
  {
   "cell_type": "markdown",
   "metadata": {},
   "source": [
    "### Function to read multiple states from FEBIO file"
   ]
  },
  {
   "cell_type": "code",
   "execution_count": 2,
   "metadata": {},
   "outputs": [],
   "source": [
    "import csv\n",
    "\n",
    "def read_states_to_dict(filename, delimiter=None):\n",
    "    \"\"\"\n",
    "    Reads a FEBio output file with columns:\n",
    "      <unused> x1 y1 z1 x2 y2 z2 … xN yN zN\n",
    "    and returns\n",
    "      {1: {'x': x1, 'y': y1, 'z': z1},\n",
    "       2: {'x': x2, 'y': y2, 'z': z2},\n",
    "       …\n",
    "      }\n",
    "    \"\"\"\n",
    "    state_dict = {}\n",
    "    with open(filename, newline='') as f:\n",
    "        reader = csv.reader(f, delimiter=delimiter)\n",
    "        # If there’s a header row, skip it here:\n",
    "        # next(reader, None)\n",
    "        for row in reader:\n",
    "            # drop the first column\n",
    "            vals = [float(v) for v in row[1:] if v.strip()!='']\n",
    "            n_states = len(vals) // 3\n",
    "            for i in range(n_states):\n",
    "                x, y, z = vals[3*i:3*i+3]\n",
    "                state_dict[i+1] = {'x': x, 'y': y, 'z': z}\n",
    "            # if you only want the first data row, break\n",
    "            break\n",
    "    return state_dict"
   ]
  },
  {
   "cell_type": "code",
   "execution_count": null,
   "metadata": {},
   "outputs": [],
   "source": []
  }
 ],
 "metadata": {
  "kernelspec": {
   "display_name": "NNEUCLID",
   "language": "python",
   "name": "python3"
  },
  "language_info": {
   "codemirror_mode": {
    "name": "ipython",
    "version": 3
   },
   "file_extension": ".py",
   "mimetype": "text/x-python",
   "name": "python",
   "nbconvert_exporter": "python",
   "pygments_lexer": "ipython3",
   "version": "3.9.0"
  }
 },
 "nbformat": 4,
 "nbformat_minor": 2
}
