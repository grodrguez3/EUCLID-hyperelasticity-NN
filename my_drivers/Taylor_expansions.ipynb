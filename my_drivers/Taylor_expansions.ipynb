{
 "cells": [
  {
   "cell_type": "markdown",
   "metadata": {},
   "source": [
    "# Pseudo Virtual Fields: Neural Networks act as Taylor expansions to find optimal virtual fields via weak equilibrium minimization"
   ]
  },
  {
   "cell_type": "code",
   "execution_count": 1,
   "metadata": {},
   "outputs": [],
   "source": [
    "import numpy as np\n",
    "import torch\n",
    "import pandas as pd"
   ]
  },
  {
   "cell_type": "code",
   "execution_count": 2,
   "metadata": {},
   "outputs": [],
   "source": [
    "%load_ext autoreload\n",
    "%autoreload 2"
   ]
  },
  {
   "cell_type": "code",
   "execution_count": 3,
   "metadata": {},
   "outputs": [],
   "source": [
    "from helper_FEBIO import *"
   ]
  },
  {
   "cell_type": "code",
   "execution_count": 4,
   "metadata": {},
   "outputs": [
    {
     "name": "stdout",
     "output_type": "stream",
     "text": [
      "\n",
      "-----------------------------------------------------\n",
      "Setting device to:  0\n",
      "Test:  cuda:0\n",
      "-----------------------------------------------------\n",
      "\n"
     ]
    },
    {
     "name": "stderr",
     "output_type": "stream",
     "text": [
      "/home/feolalab/anaconda3/envs/NNEUCLID/lib/python3.9/site-packages/torch/__init__.py:1144: UserWarning: torch.set_default_tensor_type() is deprecated as of PyTorch 2.1, please use torch.set_default_dtype() and torch.set_default_device() as alternatives. (Triggered internally at /opt/conda/conda-bld/pytorch_1729647380992/work/torch/csrc/tensor/python_tensor.cpp:432.)\n",
      "  _C._set_default_tensor_type(t)\n"
     ]
    }
   ],
   "source": [
    "import sys\n",
    "sys.path.insert(0, '../')\n",
    "from core import *\n",
    "#config\n",
    "from config import *\n",
    "#CUDA\n",
    "cuda=0\n",
    "device=initCUDA(cuda)\n",
    "#supporting files"
   ]
  },
  {
   "cell_type": "markdown",
   "metadata": {},
   "source": [
    "# Read FEBIO data"
   ]
  },
  {
   "cell_type": "code",
   "execution_count": 5,
   "metadata": {},
   "outputs": [
    {
     "data": {
      "text/html": [
       "<div>\n",
       "<style scoped>\n",
       "    .dataframe tbody tr th:only-of-type {\n",
       "        vertical-align: middle;\n",
       "    }\n",
       "\n",
       "    .dataframe tbody tr th {\n",
       "        vertical-align: top;\n",
       "    }\n",
       "\n",
       "    .dataframe thead th {\n",
       "        text-align: right;\n",
       "    }\n",
       "</style>\n",
       "<table border=\"1\" class=\"dataframe\">\n",
       "  <thead>\n",
       "    <tr style=\"text-align: right;\">\n",
       "      <th></th>\n",
       "      <th>1</th>\n",
       "      <th>1</th>\n",
       "      <th>9</th>\n",
       "      <th>513</th>\n",
       "      <th>107</th>\n",
       "      <th>44</th>\n",
       "      <th>117</th>\n",
       "      <th>603</th>\n",
       "      <th>368</th>\n",
       "    </tr>\n",
       "  </thead>\n",
       "  <tbody>\n",
       "    <tr>\n",
       "      <th>0</th>\n",
       "      <td>2</td>\n",
       "      <td>9</td>\n",
       "      <td>10</td>\n",
       "      <td>514</td>\n",
       "      <td>513</td>\n",
       "      <td>117</td>\n",
       "      <td>118</td>\n",
       "      <td>604</td>\n",
       "      <td>603</td>\n",
       "    </tr>\n",
       "    <tr>\n",
       "      <th>1</th>\n",
       "      <td>3</td>\n",
       "      <td>10</td>\n",
       "      <td>11</td>\n",
       "      <td>515</td>\n",
       "      <td>514</td>\n",
       "      <td>118</td>\n",
       "      <td>119</td>\n",
       "      <td>605</td>\n",
       "      <td>604</td>\n",
       "    </tr>\n",
       "    <tr>\n",
       "      <th>2</th>\n",
       "      <td>4</td>\n",
       "      <td>11</td>\n",
       "      <td>12</td>\n",
       "      <td>516</td>\n",
       "      <td>515</td>\n",
       "      <td>119</td>\n",
       "      <td>120</td>\n",
       "      <td>606</td>\n",
       "      <td>605</td>\n",
       "    </tr>\n",
       "    <tr>\n",
       "      <th>3</th>\n",
       "      <td>5</td>\n",
       "      <td>12</td>\n",
       "      <td>13</td>\n",
       "      <td>517</td>\n",
       "      <td>516</td>\n",
       "      <td>120</td>\n",
       "      <td>121</td>\n",
       "      <td>607</td>\n",
       "      <td>606</td>\n",
       "    </tr>\n",
       "    <tr>\n",
       "      <th>4</th>\n",
       "      <td>6</td>\n",
       "      <td>13</td>\n",
       "      <td>14</td>\n",
       "      <td>518</td>\n",
       "      <td>517</td>\n",
       "      <td>121</td>\n",
       "      <td>122</td>\n",
       "      <td>608</td>\n",
       "      <td>607</td>\n",
       "    </tr>\n",
       "    <tr>\n",
       "      <th>...</th>\n",
       "      <td>...</td>\n",
       "      <td>...</td>\n",
       "      <td>...</td>\n",
       "      <td>...</td>\n",
       "      <td>...</td>\n",
       "      <td>...</td>\n",
       "      <td>...</td>\n",
       "      <td>...</td>\n",
       "      <td>...</td>\n",
       "    </tr>\n",
       "    <tr>\n",
       "      <th>994</th>\n",
       "      <td>996</td>\n",
       "      <td>1327</td>\n",
       "      <td>1328</td>\n",
       "      <td>354</td>\n",
       "      <td>355</td>\n",
       "      <td>598</td>\n",
       "      <td>599</td>\n",
       "      <td>95</td>\n",
       "      <td>94</td>\n",
       "    </tr>\n",
       "    <tr>\n",
       "      <th>995</th>\n",
       "      <td>997</td>\n",
       "      <td>1328</td>\n",
       "      <td>1329</td>\n",
       "      <td>353</td>\n",
       "      <td>354</td>\n",
       "      <td>599</td>\n",
       "      <td>600</td>\n",
       "      <td>96</td>\n",
       "      <td>95</td>\n",
       "    </tr>\n",
       "    <tr>\n",
       "      <th>996</th>\n",
       "      <td>998</td>\n",
       "      <td>1329</td>\n",
       "      <td>1330</td>\n",
       "      <td>352</td>\n",
       "      <td>353</td>\n",
       "      <td>600</td>\n",
       "      <td>601</td>\n",
       "      <td>97</td>\n",
       "      <td>96</td>\n",
       "    </tr>\n",
       "    <tr>\n",
       "      <th>997</th>\n",
       "      <td>999</td>\n",
       "      <td>1330</td>\n",
       "      <td>1331</td>\n",
       "      <td>351</td>\n",
       "      <td>352</td>\n",
       "      <td>601</td>\n",
       "      <td>602</td>\n",
       "      <td>98</td>\n",
       "      <td>97</td>\n",
       "    </tr>\n",
       "    <tr>\n",
       "      <th>998</th>\n",
       "      <td>1000</td>\n",
       "      <td>1331</td>\n",
       "      <td>278</td>\n",
       "      <td>62</td>\n",
       "      <td>351</td>\n",
       "      <td>602</td>\n",
       "      <td>63</td>\n",
       "      <td>7</td>\n",
       "      <td>98</td>\n",
       "    </tr>\n",
       "  </tbody>\n",
       "</table>\n",
       "<p>999 rows × 9 columns</p>\n",
       "</div>"
      ],
      "text/plain": [
       "        1     1     9   513   107   44   117   603   368\n",
       "0       2     9    10   514   513  117   118   604   603\n",
       "1       3    10    11   515   514  118   119   605   604\n",
       "2       4    11    12   516   515  119   120   606   605\n",
       "3       5    12    13   517   516  120   121   607   606\n",
       "4       6    13    14   518   517  121   122   608   607\n",
       "..    ...   ...   ...   ...   ...  ...   ...   ...   ...\n",
       "994   996  1327  1328   354   355  598   599    95    94\n",
       "995   997  1328  1329   353   354  599   600    96    95\n",
       "996   998  1329  1330   352   353  600   601    97    96\n",
       "997   999  1330  1331   351   352  601   602    98    97\n",
       "998  1000  1331   278    62   351  602    63     7    98\n",
       "\n",
       "[999 rows x 9 columns]"
      ]
     },
     "execution_count": 5,
     "metadata": {},
     "output_type": "execute_result"
    }
   ],
   "source": [
    "\n",
    "#Read connectivity\n",
    "connectivity = pd.read_csv(\"/home/feolalab/Desktop/EUCLID-hyperelasticity-NN/my_data/Cube/jobs/outputs/connectivity\")\n",
    "connectivity"
   ]
  },
  {
   "cell_type": "markdown",
   "metadata": {},
   "source": [
    "### Function to read multiple states from FEBIO file"
   ]
  },
  {
   "cell_type": "code",
   "execution_count": 6,
   "metadata": {},
   "outputs": [
    {
     "name": "stdout",
     "output_type": "stream",
     "text": [
      "Detected 1-field blocks → ['element']\n",
      "Number of states: 11\n",
      " State 1: element=1000\n",
      " State 2: element=1000\n",
      " State 3: element=1000\n",
      " State 4: element=1000\n",
      " State 5: element=1000\n",
      " State 6: element=1000\n",
      " State 7: element=1000\n",
      " State 8: element=1000\n",
      " State 9: element=1000\n",
      " State 10: element=1000\n",
      " State 11: element=1000\n"
     ]
    }
   ],
   "source": [
    "volume_file=\"/home/feolalab/Desktop/EUCLID-hyperelasticity-NN/my_data/Cube/jobs/outputs/volume\"\n",
    "volume=read_multi_ste_output2(volume_file,p=True) "
   ]
  },
  {
   "cell_type": "code",
   "execution_count": 7,
   "metadata": {},
   "outputs": [
    {
     "name": "stdout",
     "output_type": "stream",
     "text": [
      "Detected 1-field blocks → ['element']\n",
      "Number of states: 11\n",
      " State 1: element=600\n",
      " State 2: element=600\n",
      " State 3: element=600\n",
      " State 4: element=600\n",
      " State 5: element=600\n",
      " State 6: element=600\n",
      " State 7: element=600\n",
      " State 8: element=600\n",
      " State 9: element=600\n",
      " State 10: element=600\n",
      " State 11: element=600\n"
     ]
    }
   ],
   "source": [
    "area_file=\"/home/feolalab/Desktop/EUCLID-hyperelasticity-NN/my_data/Cube/jobs/outputs/area\"\n",
    "area=read_multi_ste_output2(area_file,p=True) "
   ]
  },
  {
   "cell_type": "code",
   "execution_count": 8,
   "metadata": {},
   "outputs": [
    {
     "name": "stdout",
     "output_type": "stream",
     "text": [
      "Detected 6-field blocks → ['xx', 'yy', 'zz', 'xy', 'xz', 'yz']\n",
      "Number of states: 11\n",
      " State 1: xx=1000, yy=1000, zz=1000, xy=1000, xz=1000, yz=1000\n",
      " State 2: xx=1000, yy=1000, zz=1000, xy=1000, xz=1000, yz=1000\n",
      " State 3: xx=1000, yy=1000, zz=1000, xy=1000, xz=1000, yz=1000\n",
      " State 4: xx=1000, yy=1000, zz=1000, xy=1000, xz=1000, yz=1000\n",
      " State 5: xx=1000, yy=1000, zz=1000, xy=1000, xz=1000, yz=1000\n",
      " State 6: xx=1000, yy=1000, zz=1000, xy=1000, xz=1000, yz=1000\n",
      " State 7: xx=1000, yy=1000, zz=1000, xy=1000, xz=1000, yz=1000\n",
      " State 8: xx=1000, yy=1000, zz=1000, xy=1000, xz=1000, yz=1000\n",
      " State 9: xx=1000, yy=1000, zz=1000, xy=1000, xz=1000, yz=1000\n",
      " State 10: xx=1000, yy=1000, zz=1000, xy=1000, xz=1000, yz=1000\n",
      " State 11: xx=1000, yy=1000, zz=1000, xy=1000, xz=1000, yz=1000\n"
     ]
    }
   ],
   "source": [
    "stress_file=\"/home/feolalab/Desktop/EUCLID-hyperelasticity-NN/my_data/Cube/jobs/outputs/stress\"\n",
    "stress=read_multi_ste_output2(stress_file,p=True)"
   ]
  },
  {
   "cell_type": "code",
   "execution_count": 9,
   "metadata": {},
   "outputs": [
    {
     "name": "stdout",
     "output_type": "stream",
     "text": [
      "Detected 9-field blocks → ['F11', 'F12', 'F13', 'F21', 'F22', 'F23', 'F31', 'F32', 'F33']\n",
      "Number of states: 11\n",
      " State 1: F11=1000, F12=1000, F13=1000, F21=1000, F22=1000, F23=1000, F31=1000, F32=1000, F33=1000\n",
      " State 2: F11=1000, F12=1000, F13=1000, F21=1000, F22=1000, F23=1000, F31=1000, F32=1000, F33=1000\n",
      " State 3: F11=1000, F12=1000, F13=1000, F21=1000, F22=1000, F23=1000, F31=1000, F32=1000, F33=1000\n",
      " State 4: F11=1000, F12=1000, F13=1000, F21=1000, F22=1000, F23=1000, F31=1000, F32=1000, F33=1000\n",
      " State 5: F11=1000, F12=1000, F13=1000, F21=1000, F22=1000, F23=1000, F31=1000, F32=1000, F33=1000\n",
      " State 6: F11=1000, F12=1000, F13=1000, F21=1000, F22=1000, F23=1000, F31=1000, F32=1000, F33=1000\n",
      " State 7: F11=1000, F12=1000, F13=1000, F21=1000, F22=1000, F23=1000, F31=1000, F32=1000, F33=1000\n",
      " State 8: F11=1000, F12=1000, F13=1000, F21=1000, F22=1000, F23=1000, F31=1000, F32=1000, F33=1000\n",
      " State 9: F11=1000, F12=1000, F13=1000, F21=1000, F22=1000, F23=1000, F31=1000, F32=1000, F33=1000\n",
      " State 10: F11=1000, F12=1000, F13=1000, F21=1000, F22=1000, F23=1000, F31=1000, F32=1000, F33=1000\n",
      " State 11: F11=1000, F12=1000, F13=1000, F21=1000, F22=1000, F23=1000, F31=1000, F32=1000, F33=1000\n"
     ]
    }
   ],
   "source": [
    "F_file=\"/home/feolalab/Desktop/EUCLID-hyperelasticity-NN/my_data/Cube/jobs/outputs/F\"\n",
    "F=read_multi_ste_output2(F_file,p=True)"
   ]
  },
  {
   "cell_type": "code",
   "execution_count": 10,
   "metadata": {},
   "outputs": [
    {
     "name": "stdout",
     "output_type": "stream",
     "text": [
      "Detected 3-field blocks → ['x', 'y', 'z']\n",
      "Number of states: 11\n",
      " State 1: x=600, y=600, z=600\n",
      " State 2: x=600, y=600, z=600\n",
      " State 3: x=600, y=600, z=600\n",
      " State 4: x=600, y=600, z=600\n",
      " State 5: x=600, y=600, z=600\n",
      " State 6: x=600, y=600, z=600\n",
      " State 7: x=600, y=600, z=600\n",
      " State 8: x=600, y=600, z=600\n",
      " State 9: x=600, y=600, z=600\n",
      " State 10: x=600, y=600, z=600\n",
      " State 11: x=600, y=600, z=600\n"
     ]
    }
   ],
   "source": [
    "surface_normal_file=\"/home/feolalab/Desktop/EUCLID-hyperelasticity-NN/my_data/Cube/jobs/outputs/surface_normal\"\n",
    "surface_normal=read_multi_ste_output2(surface_normal_file,p=True)"
   ]
  },
  {
   "cell_type": "markdown",
   "metadata": {},
   "source": [
    "### Log file data"
   ]
  },
  {
   "cell_type": "code",
   "execution_count": 11,
   "metadata": {},
   "outputs": [
    {
     "name": "stdout",
     "output_type": "stream",
     "text": [
      "states found: [0, 1, 2, 3, 4, 5, 6, 7, 8, 9, 10]\n",
      " step  0: x=1000 pts, y=1000, z=1000\n",
      " step  1: x=1000 pts, y=1000, z=1000\n",
      " step  2: x=1000 pts, y=1000, z=1000\n",
      " step  3: x=1000 pts, y=1000, z=1000\n",
      " step  4: x=1000 pts, y=1000, z=1000\n",
      " step  5: x=1000 pts, y=1000, z=1000\n",
      " step  6: x=1000 pts, y=1000, z=1000\n",
      " step  7: x=1000 pts, y=1000, z=1000\n",
      " step  8: x=1000 pts, y=1000, z=1000\n",
      " step  9: x=1000 pts, y=1000, z=1000\n",
      " step 10: x=1000 pts, y=1000, z=1000\n"
     ]
    }
   ],
   "source": [
    "#Centroids from log file\n",
    "centroids_file='/home/feolalab/Desktop/EUCLID-hyperelasticity-NN/my_data/Cube/jobs/Model3.log'\n",
    "centroids_dict  = parse_states(centroids_file)\n",
    "\n",
    "#Should get 11 states, each with exactly 1000 x/y/z values:\n",
    "print(\"states found:\", sorted(centroids_dict.keys()))\n",
    "for step, d in centroids_dict.items():\n",
    "    print(f\" step {step:2d}: x={len(d['x'])} pts, y={len(d['y'])}, z={len(d['z'])}\")"
   ]
  },
  {
   "cell_type": "markdown",
   "metadata": {},
   "source": [
    "### State dict to tensor"
   ]
  },
  {
   "cell_type": "code",
   "execution_count": 12,
   "metadata": {},
   "outputs": [
    {
     "name": "stdout",
     "output_type": "stream",
     "text": [
      "centroids_tensor.shape: torch.Size([1000, 3, 11])\n",
      "stress_tensor.shape: torch.Size([1000, 6, 11])\n",
      "volume_tensor.shape: torch.Size([1000, 1, 11])\n",
      "F_tensor.shape: torch.Size([1000, 9, 11])\n",
      "surface_normal_tensor.shape: torch.Size([600, 3, 11])\n",
      "area_tensor.shape: torch.Size([600, 1, 11])\n"
     ]
    }
   ],
   "source": [
    "# 1) Build a (Nelements,3,nstates) tensor for centroids:\n",
    "centroids_tensor = states_to_tensor(centroids_dict, ['x','y','z'])\n",
    "print(\"centroids_tensor.shape:\", centroids_tensor.shape)\n",
    "# → (Nelements, 3, nstates)\n",
    "\n",
    "# 2) Build a (Nelements,6,nstates) tensor for volume‐stress:\n",
    "stress_tensor = states_to_tensor(stress,\n",
    "                                ['xx','yy','zz','xy','xz','yz'])\n",
    "print(\"stress_tensor.shape:\", stress_tensor.shape)\n",
    "# → (Nelements, 6, nstates)\n",
    "\n",
    "# 3) If you just want the x‐only channel across states:\n",
    "#x_only = states_to_tensor(centroids_dict, ['x'])\n",
    "#print(\"x_only.shape:\", x_only.shape)\n",
    "# → (Nelements, 1, nstates)\n",
    "\n",
    "# 3) Volume:\n",
    "volume_tensor = states_to_tensor(volume, ['element'])\n",
    "print(\"volume_tensor.shape:\", volume_tensor.shape)\n",
    "# → (Nelements, 1, nstates)\n",
    "\n",
    "# 4) Deformation tensor:\n",
    "F_tensor = states_to_tensor(F, ['F11','F12','F13','F21','F22','F23','F31','F32','F33'])\n",
    "print(\"F_tensor.shape:\", F_tensor.shape)\n",
    "\n",
    "# 4) Surface Normal:\n",
    "surface_normal_tensor = states_to_tensor(surface_normal, ['x','y','z'])\n",
    "print(\"surface_normal_tensor.shape:\", surface_normal_tensor.shape)\n",
    "\n",
    "\n",
    "# 5) Area:\n",
    "area_tensor = states_to_tensor(area, ['element'])\n",
    "print(\"area_tensor.shape:\", area_tensor.shape)"
   ]
  },
  {
   "cell_type": "code",
   "execution_count": 13,
   "metadata": {},
   "outputs": [],
   "source": [
    "Nelements=F_tensor.shape[0]"
   ]
  },
  {
   "cell_type": "markdown",
   "metadata": {},
   "source": [
    "## Where pressure is applied"
   ]
  },
  {
   "cell_type": "code",
   "execution_count": 14,
   "metadata": {},
   "outputs": [],
   "source": [
    "pressure_nodes = parse_quad4_from_feb(\"/home/feolalab/Desktop/EUCLID-hyperelasticity-NN/my_data/Cube/jobs/Model3.feb\", surface_name=\"Pressure1\")\n",
    "pressure_node_ids = list(pressure_nodes.keys())"
   ]
  },
  {
   "cell_type": "code",
   "execution_count": 15,
   "metadata": {},
   "outputs": [
    {
     "data": {
      "text/plain": [
       "([5, 35, 522, 108], dict)"
      ]
     },
     "execution_count": 15,
     "metadata": {},
     "output_type": "execute_result"
    }
   ],
   "source": [
    "pressure_nodes[1], type(pressure_nodes)"
   ]
  },
  {
   "cell_type": "code",
   "execution_count": 16,
   "metadata": {},
   "outputs": [],
   "source": [
    "def map_pressure_to_elements(connectivity, pressure_nodes):\n",
    "    \"\"\"\n",
    "    Parameters\n",
    "    ----------\n",
    "    connectivity : list of tuples\n",
    "        Each tuple is (elem_id, node1, node2, node3, ..., nodeK).\n",
    "    pressure_nodes : set or list of ints\n",
    "        Node IDs that carry a pressure boundary condition.\n",
    "\n",
    "    Returns\n",
    "    -------\n",
    "    mapping : dict\n",
    "        { elem_id: {\n",
    "            'all_nodes':    [n1, n2, …, nK],\n",
    "            'pressure_nodes': [ni, …]   # only those nodes in this element with pressure\n",
    "          }\n",
    "        }\n",
    "        Only elements with at least one pressure node are included.\n",
    "    \"\"\"\n",
    "    # convert to set for O(1) membership tests\n",
    "    P = set(pressure_nodes)\n",
    "\n",
    "    mapping = {}\n",
    "    for entry in connectivity:\n",
    "        elem_id, *nodes = entry\n",
    "        applied = [n for n in nodes if n in P]\n",
    "        if applied:\n",
    "            mapping[elem_id] = {\n",
    "                'all_nodes':     nodes,\n",
    "                'pressure_nodes': applied\n",
    "            }\n",
    "    return mapping"
   ]
  },
  {
   "cell_type": "code",
   "execution_count": 17,
   "metadata": {},
   "outputs": [
    {
     "name": "stdout",
     "output_type": "stream",
     "text": [
      "Element 901:\n",
      "  all_nodes:      [36, 189, 1251, 440, 5, 35, 522, 108]\n",
      "  pressure_nodes: [5, 35, 522, 108]\n",
      "Element 902:\n",
      "  all_nodes:      [189, 190, 1252, 1251, 35, 34, 523, 522]\n",
      "  pressure_nodes: [35, 34, 523, 522]\n",
      "Element 903:\n",
      "  all_nodes:      [190, 191, 1253, 1252, 34, 33, 524, 523]\n",
      "  pressure_nodes: [34, 33, 524, 523]\n",
      "Element 904:\n",
      "  all_nodes:      [191, 192, 1254, 1253, 33, 32, 525, 524]\n",
      "  pressure_nodes: [33, 32, 525, 524]\n",
      "Element 905:\n",
      "  all_nodes:      [192, 193, 1255, 1254, 32, 31, 526, 525]\n",
      "  pressure_nodes: [32, 31, 526, 525]\n",
      "Element 906:\n",
      "  all_nodes:      [193, 194, 1256, 1255, 31, 30, 527, 526]\n",
      "  pressure_nodes: [31, 30, 527, 526]\n",
      "Element 907:\n",
      "  all_nodes:      [194, 195, 1257, 1256, 30, 29, 528, 527]\n",
      "  pressure_nodes: [30, 29, 528, 527]\n",
      "Element 908:\n",
      "  all_nodes:      [195, 196, 1258, 1257, 29, 28, 529, 528]\n",
      "  pressure_nodes: [29, 28, 529, 528]\n",
      "Element 909:\n",
      "  all_nodes:      [196, 197, 1259, 1258, 28, 27, 530, 529]\n",
      "  pressure_nodes: [28, 27, 530, 529]\n",
      "Element 910:\n",
      "  all_nodes:      [197, 26, 270, 1259, 27, 6, 71, 530]\n",
      "  pressure_nodes: [27, 6, 71, 530]\n",
      "Element 911:\n",
      "  all_nodes:      [440, 1251, 1260, 439, 108, 522, 531, 109]\n",
      "  pressure_nodes: [108, 522, 531, 109]\n",
      "Element 912:\n",
      "  all_nodes:      [1251, 1252, 1261, 1260, 522, 523, 532, 531]\n",
      "  pressure_nodes: [522, 523, 532, 531]\n",
      "Element 913:\n",
      "  all_nodes:      [1252, 1253, 1262, 1261, 523, 524, 533, 532]\n",
      "  pressure_nodes: [523, 524, 533, 532]\n",
      "Element 914:\n",
      "  all_nodes:      [1253, 1254, 1263, 1262, 524, 525, 534, 533]\n",
      "  pressure_nodes: [524, 525, 534, 533]\n",
      "Element 915:\n",
      "  all_nodes:      [1254, 1255, 1264, 1263, 525, 526, 535, 534]\n",
      "  pressure_nodes: [525, 526, 535, 534]\n",
      "Element 916:\n",
      "  all_nodes:      [1255, 1256, 1265, 1264, 526, 527, 536, 535]\n",
      "  pressure_nodes: [526, 527, 536, 535]\n",
      "Element 917:\n",
      "  all_nodes:      [1256, 1257, 1266, 1265, 527, 528, 537, 536]\n",
      "  pressure_nodes: [527, 528, 537, 536]\n",
      "Element 918:\n",
      "  all_nodes:      [1257, 1258, 1267, 1266, 528, 529, 538, 537]\n",
      "  pressure_nodes: [528, 529, 538, 537]\n",
      "Element 919:\n",
      "  all_nodes:      [1258, 1259, 1268, 1267, 529, 530, 539, 538]\n",
      "  pressure_nodes: [529, 530, 539, 538]\n",
      "Element 920:\n",
      "  all_nodes:      [1259, 270, 271, 1268, 530, 71, 70, 539]\n",
      "  pressure_nodes: [530, 71, 70, 539]\n",
      "Element 921:\n",
      "  all_nodes:      [439, 1260, 1269, 438, 109, 531, 540, 110]\n",
      "  pressure_nodes: [109, 531, 540, 110]\n",
      "Element 922:\n",
      "  all_nodes:      [1260, 1261, 1270, 1269, 531, 532, 541, 540]\n",
      "  pressure_nodes: [531, 532, 541, 540]\n",
      "Element 923:\n",
      "  all_nodes:      [1261, 1262, 1271, 1270, 532, 533, 542, 541]\n",
      "  pressure_nodes: [532, 533, 542, 541]\n",
      "Element 924:\n",
      "  all_nodes:      [1262, 1263, 1272, 1271, 533, 534, 543, 542]\n",
      "  pressure_nodes: [533, 534, 543, 542]\n",
      "Element 925:\n",
      "  all_nodes:      [1263, 1264, 1273, 1272, 534, 535, 544, 543]\n",
      "  pressure_nodes: [534, 535, 544, 543]\n",
      "Element 926:\n",
      "  all_nodes:      [1264, 1265, 1274, 1273, 535, 536, 545, 544]\n",
      "  pressure_nodes: [535, 536, 545, 544]\n",
      "Element 927:\n",
      "  all_nodes:      [1265, 1266, 1275, 1274, 536, 537, 546, 545]\n",
      "  pressure_nodes: [536, 537, 546, 545]\n",
      "Element 928:\n",
      "  all_nodes:      [1266, 1267, 1276, 1275, 537, 538, 547, 546]\n",
      "  pressure_nodes: [537, 538, 547, 546]\n",
      "Element 929:\n",
      "  all_nodes:      [1267, 1268, 1277, 1276, 538, 539, 548, 547]\n",
      "  pressure_nodes: [538, 539, 548, 547]\n",
      "Element 930:\n",
      "  all_nodes:      [1268, 271, 272, 1277, 539, 70, 69, 548]\n",
      "  pressure_nodes: [539, 70, 69, 548]\n",
      "Element 931:\n",
      "  all_nodes:      [438, 1269, 1278, 437, 110, 540, 549, 111]\n",
      "  pressure_nodes: [110, 540, 549, 111]\n",
      "Element 932:\n",
      "  all_nodes:      [1269, 1270, 1279, 1278, 540, 541, 550, 549]\n",
      "  pressure_nodes: [540, 541, 550, 549]\n",
      "Element 933:\n",
      "  all_nodes:      [1270, 1271, 1280, 1279, 541, 542, 551, 550]\n",
      "  pressure_nodes: [541, 542, 551, 550]\n",
      "Element 934:\n",
      "  all_nodes:      [1271, 1272, 1281, 1280, 542, 543, 552, 551]\n",
      "  pressure_nodes: [542, 543, 552, 551]\n",
      "Element 935:\n",
      "  all_nodes:      [1272, 1273, 1282, 1281, 543, 544, 553, 552]\n",
      "  pressure_nodes: [543, 544, 553, 552]\n",
      "Element 936:\n",
      "  all_nodes:      [1273, 1274, 1283, 1282, 544, 545, 554, 553]\n",
      "  pressure_nodes: [544, 545, 554, 553]\n",
      "Element 937:\n",
      "  all_nodes:      [1274, 1275, 1284, 1283, 545, 546, 555, 554]\n",
      "  pressure_nodes: [545, 546, 555, 554]\n",
      "Element 938:\n",
      "  all_nodes:      [1275, 1276, 1285, 1284, 546, 547, 556, 555]\n",
      "  pressure_nodes: [546, 547, 556, 555]\n",
      "Element 939:\n",
      "  all_nodes:      [1276, 1277, 1286, 1285, 547, 548, 557, 556]\n",
      "  pressure_nodes: [547, 548, 557, 556]\n",
      "Element 940:\n",
      "  all_nodes:      [1277, 272, 273, 1286, 548, 69, 68, 557]\n",
      "  pressure_nodes: [548, 69, 68, 557]\n",
      "Element 941:\n",
      "  all_nodes:      [437, 1278, 1287, 436, 111, 549, 558, 112]\n",
      "  pressure_nodes: [111, 549, 558, 112]\n",
      "Element 942:\n",
      "  all_nodes:      [1278, 1279, 1288, 1287, 549, 550, 559, 558]\n",
      "  pressure_nodes: [549, 550, 559, 558]\n",
      "Element 943:\n",
      "  all_nodes:      [1279, 1280, 1289, 1288, 550, 551, 560, 559]\n",
      "  pressure_nodes: [550, 551, 560, 559]\n",
      "Element 944:\n",
      "  all_nodes:      [1280, 1281, 1290, 1289, 551, 552, 561, 560]\n",
      "  pressure_nodes: [551, 552, 561, 560]\n",
      "Element 945:\n",
      "  all_nodes:      [1281, 1282, 1291, 1290, 552, 553, 562, 561]\n",
      "  pressure_nodes: [552, 553, 562, 561]\n",
      "Element 946:\n",
      "  all_nodes:      [1282, 1283, 1292, 1291, 553, 554, 563, 562]\n",
      "  pressure_nodes: [553, 554, 563, 562]\n",
      "Element 947:\n",
      "  all_nodes:      [1283, 1284, 1293, 1292, 554, 555, 564, 563]\n",
      "  pressure_nodes: [554, 555, 564, 563]\n",
      "Element 948:\n",
      "  all_nodes:      [1284, 1285, 1294, 1293, 555, 556, 565, 564]\n",
      "  pressure_nodes: [555, 556, 565, 564]\n",
      "Element 949:\n",
      "  all_nodes:      [1285, 1286, 1295, 1294, 556, 557, 566, 565]\n",
      "  pressure_nodes: [556, 557, 566, 565]\n",
      "Element 950:\n",
      "  all_nodes:      [1286, 273, 274, 1295, 557, 68, 67, 566]\n",
      "  pressure_nodes: [557, 68, 67, 566]\n",
      "Element 951:\n",
      "  all_nodes:      [436, 1287, 1296, 435, 112, 558, 567, 113]\n",
      "  pressure_nodes: [112, 558, 567, 113]\n",
      "Element 952:\n",
      "  all_nodes:      [1287, 1288, 1297, 1296, 558, 559, 568, 567]\n",
      "  pressure_nodes: [558, 559, 568, 567]\n",
      "Element 953:\n",
      "  all_nodes:      [1288, 1289, 1298, 1297, 559, 560, 569, 568]\n",
      "  pressure_nodes: [559, 560, 569, 568]\n",
      "Element 954:\n",
      "  all_nodes:      [1289, 1290, 1299, 1298, 560, 561, 570, 569]\n",
      "  pressure_nodes: [560, 561, 570, 569]\n",
      "Element 955:\n",
      "  all_nodes:      [1290, 1291, 1300, 1299, 561, 562, 571, 570]\n",
      "  pressure_nodes: [561, 562, 571, 570]\n",
      "Element 956:\n",
      "  all_nodes:      [1291, 1292, 1301, 1300, 562, 563, 572, 571]\n",
      "  pressure_nodes: [562, 563, 572, 571]\n",
      "Element 957:\n",
      "  all_nodes:      [1292, 1293, 1302, 1301, 563, 564, 573, 572]\n",
      "  pressure_nodes: [563, 564, 573, 572]\n",
      "Element 958:\n",
      "  all_nodes:      [1293, 1294, 1303, 1302, 564, 565, 574, 573]\n",
      "  pressure_nodes: [564, 565, 574, 573]\n",
      "Element 959:\n",
      "  all_nodes:      [1294, 1295, 1304, 1303, 565, 566, 575, 574]\n",
      "  pressure_nodes: [565, 566, 575, 574]\n",
      "Element 960:\n",
      "  all_nodes:      [1295, 274, 275, 1304, 566, 67, 66, 575]\n",
      "  pressure_nodes: [566, 67, 66, 575]\n",
      "Element 961:\n",
      "  all_nodes:      [435, 1296, 1305, 434, 113, 567, 576, 114]\n",
      "  pressure_nodes: [113, 567, 576, 114]\n",
      "Element 962:\n",
      "  all_nodes:      [1296, 1297, 1306, 1305, 567, 568, 577, 576]\n",
      "  pressure_nodes: [567, 568, 577, 576]\n",
      "Element 963:\n",
      "  all_nodes:      [1297, 1298, 1307, 1306, 568, 569, 578, 577]\n",
      "  pressure_nodes: [568, 569, 578, 577]\n",
      "Element 964:\n",
      "  all_nodes:      [1298, 1299, 1308, 1307, 569, 570, 579, 578]\n",
      "  pressure_nodes: [569, 570, 579, 578]\n",
      "Element 965:\n",
      "  all_nodes:      [1299, 1300, 1309, 1308, 570, 571, 580, 579]\n",
      "  pressure_nodes: [570, 571, 580, 579]\n",
      "Element 966:\n",
      "  all_nodes:      [1300, 1301, 1310, 1309, 571, 572, 581, 580]\n",
      "  pressure_nodes: [571, 572, 581, 580]\n",
      "Element 967:\n",
      "  all_nodes:      [1301, 1302, 1311, 1310, 572, 573, 582, 581]\n",
      "  pressure_nodes: [572, 573, 582, 581]\n",
      "Element 968:\n",
      "  all_nodes:      [1302, 1303, 1312, 1311, 573, 574, 583, 582]\n",
      "  pressure_nodes: [573, 574, 583, 582]\n",
      "Element 969:\n",
      "  all_nodes:      [1303, 1304, 1313, 1312, 574, 575, 584, 583]\n",
      "  pressure_nodes: [574, 575, 584, 583]\n",
      "Element 970:\n",
      "  all_nodes:      [1304, 275, 276, 1313, 575, 66, 65, 584]\n",
      "  pressure_nodes: [575, 66, 65, 584]\n",
      "Element 971:\n",
      "  all_nodes:      [434, 1305, 1314, 433, 114, 576, 585, 115]\n",
      "  pressure_nodes: [114, 576, 585, 115]\n",
      "Element 972:\n",
      "  all_nodes:      [1305, 1306, 1315, 1314, 576, 577, 586, 585]\n",
      "  pressure_nodes: [576, 577, 586, 585]\n",
      "Element 973:\n",
      "  all_nodes:      [1306, 1307, 1316, 1315, 577, 578, 587, 586]\n",
      "  pressure_nodes: [577, 578, 587, 586]\n",
      "Element 974:\n",
      "  all_nodes:      [1307, 1308, 1317, 1316, 578, 579, 588, 587]\n",
      "  pressure_nodes: [578, 579, 588, 587]\n",
      "Element 975:\n",
      "  all_nodes:      [1308, 1309, 1318, 1317, 579, 580, 589, 588]\n",
      "  pressure_nodes: [579, 580, 589, 588]\n",
      "Element 976:\n",
      "  all_nodes:      [1309, 1310, 1319, 1318, 580, 581, 590, 589]\n",
      "  pressure_nodes: [580, 581, 590, 589]\n",
      "Element 977:\n",
      "  all_nodes:      [1310, 1311, 1320, 1319, 581, 582, 591, 590]\n",
      "  pressure_nodes: [581, 582, 591, 590]\n",
      "Element 978:\n",
      "  all_nodes:      [1311, 1312, 1321, 1320, 582, 583, 592, 591]\n",
      "  pressure_nodes: [582, 583, 592, 591]\n",
      "Element 979:\n",
      "  all_nodes:      [1312, 1313, 1322, 1321, 583, 584, 593, 592]\n",
      "  pressure_nodes: [583, 584, 593, 592]\n",
      "Element 980:\n",
      "  all_nodes:      [1313, 276, 277, 1322, 584, 65, 64, 593]\n",
      "  pressure_nodes: [584, 65, 64, 593]\n",
      "Element 981:\n",
      "  all_nodes:      [433, 1314, 1323, 432, 115, 585, 594, 116]\n",
      "  pressure_nodes: [115, 585, 594, 116]\n",
      "Element 982:\n",
      "  all_nodes:      [1314, 1315, 1324, 1323, 585, 586, 595, 594]\n",
      "  pressure_nodes: [585, 586, 595, 594]\n",
      "Element 983:\n",
      "  all_nodes:      [1315, 1316, 1325, 1324, 586, 587, 596, 595]\n",
      "  pressure_nodes: [586, 587, 596, 595]\n",
      "Element 984:\n",
      "  all_nodes:      [1316, 1317, 1326, 1325, 587, 588, 597, 596]\n",
      "  pressure_nodes: [587, 588, 597, 596]\n",
      "Element 985:\n",
      "  all_nodes:      [1317, 1318, 1327, 1326, 588, 589, 598, 597]\n",
      "  pressure_nodes: [588, 589, 598, 597]\n",
      "Element 986:\n",
      "  all_nodes:      [1318, 1319, 1328, 1327, 589, 590, 599, 598]\n",
      "  pressure_nodes: [589, 590, 599, 598]\n",
      "Element 987:\n",
      "  all_nodes:      [1319, 1320, 1329, 1328, 590, 591, 600, 599]\n",
      "  pressure_nodes: [590, 591, 600, 599]\n",
      "Element 988:\n",
      "  all_nodes:      [1320, 1321, 1330, 1329, 591, 592, 601, 600]\n",
      "  pressure_nodes: [591, 592, 601, 600]\n",
      "Element 989:\n",
      "  all_nodes:      [1321, 1322, 1331, 1330, 592, 593, 602, 601]\n",
      "  pressure_nodes: [592, 593, 602, 601]\n",
      "Element 990:\n",
      "  all_nodes:      [1322, 277, 278, 1331, 593, 64, 63, 602]\n",
      "  pressure_nodes: [593, 64, 63, 602]\n",
      "Element 991:\n",
      "  all_nodes:      [432, 1323, 359, 89, 116, 594, 90, 8]\n",
      "  pressure_nodes: [116, 594, 90, 8]\n",
      "Element 992:\n",
      "  all_nodes:      [1323, 1324, 358, 359, 594, 595, 91, 90]\n",
      "  pressure_nodes: [594, 595, 91, 90]\n",
      "Element 993:\n",
      "  all_nodes:      [1324, 1325, 357, 358, 595, 596, 92, 91]\n",
      "  pressure_nodes: [595, 596, 92, 91]\n",
      "Element 994:\n",
      "  all_nodes:      [1325, 1326, 356, 357, 596, 597, 93, 92]\n",
      "  pressure_nodes: [596, 597, 93, 92]\n",
      "Element 995:\n",
      "  all_nodes:      [1326, 1327, 355, 356, 597, 598, 94, 93]\n",
      "  pressure_nodes: [597, 598, 94, 93]\n",
      "Element 996:\n",
      "  all_nodes:      [1327, 1328, 354, 355, 598, 599, 95, 94]\n",
      "  pressure_nodes: [598, 599, 95, 94]\n",
      "Element 997:\n",
      "  all_nodes:      [1328, 1329, 353, 354, 599, 600, 96, 95]\n",
      "  pressure_nodes: [599, 600, 96, 95]\n",
      "Element 998:\n",
      "  all_nodes:      [1329, 1330, 352, 353, 600, 601, 97, 96]\n",
      "  pressure_nodes: [600, 601, 97, 96]\n",
      "Element 999:\n",
      "  all_nodes:      [1330, 1331, 351, 352, 601, 602, 98, 97]\n",
      "  pressure_nodes: [601, 602, 98, 97]\n",
      "Element 1000:\n",
      "  all_nodes:      [1331, 278, 62, 351, 602, 63, 7, 98]\n",
      "  pressure_nodes: [602, 63, 7, 98]\n"
     ]
    }
   ],
   "source": [
    "connectivity_list = [\n",
    "    tuple(map(int, row))           # ensure ints\n",
    "    for row in connectivity.values\n",
    "]\n",
    "\n",
    "# 2) Flatten pressure-node dict into a set of node IDs\n",
    "pressure_nodes_set = {\n",
    "    n\n",
    "    for nodes in pressure_nodes.values()\n",
    "    for n in nodes\n",
    "}\n",
    "\n",
    "mapping_element_pressure = map_pressure_to_elements(connectivity_list, pressure_nodes_set)\n",
    "#print(mapping.keys())\n",
    "# (3) inspect\n",
    "for eid, info in mapping_element_pressure.items():\n",
    "    print(f\"Element {eid}:\")\n",
    "    print(\"  all_nodes:     \", info['all_nodes'])\n",
    "    print(\"  pressure_nodes:\", info['pressure_nodes'])"
   ]
  },
  {
   "cell_type": "code",
   "execution_count": 18,
   "metadata": {},
   "outputs": [],
   "source": [
    "pressure_element_IDs=list(mapping_element_pressure.keys())\n",
    "\n",
    "pressure_element_IDs_final = torch.tensor([nid - 1 for nid in pressure_element_IDs], dtype=torch.long)\n",
    "\n",
    "#len(pressure_element_IDs_final)"
   ]
  },
  {
   "cell_type": "code",
   "execution_count": 20,
   "metadata": {},
   "outputs": [
    {
     "name": "stdout",
     "output_type": "stream",
     "text": [
      "torch.Size([100, 3, 11])\n"
     ]
    }
   ],
   "source": [
    "\n",
    "#Get normals of surfaces where pressure is applied\n",
    "# 1) zero‐based indices for those nodes:\n",
    "idx = torch.tensor([nid - 1 for nid in pressure_node_ids], dtype=torch.long)\n",
    "\n",
    "# 2) index into the first dimension:\n",
    "#    result has shape (100, 3, 11)\n",
    "pressure_normals = surface_normal_tensor[idx, :, :]\n",
    "area_normals = area_tensor[idx, :, :]\n",
    "\n",
    "print(pressure_normals.shape)  # → torch.Size([100, 3, 11])"
   ]
  },
  {
   "cell_type": "code",
   "execution_count": 19,
   "metadata": {},
   "outputs": [
    {
     "name": "stdout",
     "output_type": "stream",
     "text": [
      "max idx = 999\n",
      "min idx = 900\n"
     ]
    }
   ],
   "source": [
    "#print(\"VF.shape =\", VF.shape)\n",
    "print(\"max idx =\", max(pressure_element_IDs_final).item())\n",
    "print(\"min idx =\", min(pressure_element_IDs_final).item())\n"
   ]
  },
  {
   "cell_type": "markdown",
   "metadata": {},
   "source": [
    "# Architecture"
   ]
  },
  {
   "cell_type": "code",
   "execution_count": 21,
   "metadata": {},
   "outputs": [],
   "source": [
    "from model import *\n",
    "\n",
    "model = ICNN3D_global_Taylor(n_input=6,\n",
    "                n_hidden=[64,64,64],\n",
    "                n_output=30,\n",
    "                use_dropout=True,\n",
    "                dropout_rate=0.2)"
   ]
  },
  {
   "cell_type": "code",
   "execution_count": 22,
   "metadata": {},
   "outputs": [
    {
     "data": {
      "text/plain": [
       "=================================================================\n",
       "Layer (type:depth-idx)                   Param #\n",
       "=================================================================\n",
       "ICNN3D_global_Taylor                     --\n",
       "├─ModuleDict: 1-1                        --\n",
       "│    └─Linear: 2-1                       448\n",
       "│    └─convexLinear: 2-2                 4,096\n",
       "│    └─convexLinear: 2-3                 4,096\n",
       "│    └─convexLinear: 2-4                 1,920\n",
       "├─ModuleDict: 1-2                        --\n",
       "│    └─Linear: 2-5                       448\n",
       "│    └─Linear: 2-6                       448\n",
       "│    └─convexLinear: 2-7                 180\n",
       "├─AdaptiveAvgPool1d: 1-3                 --\n",
       "=================================================================\n",
       "Total params: 11,636\n",
       "Trainable params: 11,636\n",
       "Non-trainable params: 0\n",
       "================================================================="
      ]
     },
     "execution_count": 22,
     "metadata": {},
     "output_type": "execute_result"
    }
   ],
   "source": [
    "from torchinfo import summary\n",
    "model = model.to(device)\n",
    "summary(model)"
   ]
  },
  {
   "cell_type": "markdown",
   "metadata": {},
   "source": [
    "## Training loop"
   ]
  },
  {
   "cell_type": "code",
   "execution_count": 23,
   "metadata": {},
   "outputs": [
    {
     "data": {
      "text/plain": [
       "(torch.Size([1000, 9, 11]),\n",
       " torch.Size([1000, 6, 11]),\n",
       " torch.Size([1000, 3, 11]))"
      ]
     },
     "execution_count": 23,
     "metadata": {},
     "output_type": "execute_result"
    }
   ],
   "source": [
    "F_tensor.shape, stress_tensor.shape, centroids_tensor.shape"
   ]
  },
  {
   "cell_type": "code",
   "execution_count": 24,
   "metadata": {},
   "outputs": [
    {
     "data": {
      "text/plain": [
       "torch.Size([1000, 12, 11])"
      ]
     },
     "execution_count": 24,
     "metadata": {},
     "output_type": "execute_result"
    }
   ],
   "source": [
    "x_input= torch.cat(( F_tensor.to(device),centroids_tensor.to(device)), dim=1)\n",
    "x_input.shape"
   ]
  },
  {
   "cell_type": "code",
   "execution_count": 25,
   "metadata": {},
   "outputs": [],
   "source": [
    "def calculate_point(centroids, state):\n",
    "    delta=centroids[:,:,state]-centroids[:,:,0]\n",
    "    return delta"
   ]
  },
  {
   "cell_type": "code",
   "execution_count": 26,
   "metadata": {},
   "outputs": [],
   "source": [
    "def construct_VF(V_NN,delta_xyz):\n",
    "    Vf = (\n",
    "        V_NN[0]\n",
    "        + V_NN[1] * delta_xyz[:,0]\n",
    "        + V_NN[2] * delta_xyz[:,1]\n",
    "        + V_NN[3] * delta_xyz[:,2]\n",
    "        + V_NN[4] * delta_xyz[:,0]**2\n",
    "        + V_NN[5] * delta_xyz[:,1]**2\n",
    "        + V_NN[6] * delta_xyz[:,2]**2\n",
    "        + V_NN[7] * (delta_xyz[:,0] * delta_xyz[:,1])\n",
    "        + V_NN[8] * (delta_xyz[:,0] * delta_xyz[:,2])\n",
    "        + V_NN[9] * (delta_xyz[:,1] * delta_xyz[:,2])\n",
    "    )\n",
    "    return Vf"
   ]
  },
  {
   "cell_type": "code",
   "execution_count": 27,
   "metadata": {},
   "outputs": [],
   "source": [
    "def construct_VF_gradients(V_NN: torch.Tensor, delta_xyz: torch.Tensor) -> torch.Tensor:\n",
    "    \"\"\"\n",
    "    V_NN:  either shape (30,), (30,1), or (1,30)\n",
    "    delta_xyz: shape (Nelements, 3)\n",
    "    returns grad_V of shape (Nelements, 3, 3)\n",
    "    \"\"\"\n",
    "    # flatten to (30,)\n",
    "    coeffs = V_NN.squeeze()\n",
    "    if coeffs.numel() != 30:\n",
    "        raise ValueError(f\"expected 30 coefficients, got {coeffs.shape}\")\n",
    "\n",
    "    dx = delta_xyz[:, 0]\n",
    "    dy = delta_xyz[:, 1]\n",
    "    dz = delta_xyz[:, 2]\n",
    "\n",
    "    # split into three 10-coefficient chunks\n",
    "    a = coeffs[ 0:10]  # Vx\n",
    "    b = coeffs[10:20]  # Vy\n",
    "    c = coeffs[20:30]  # Vz\n",
    "\n",
    "    # alias the ones we need\n",
    "    a1,a2,a3 = a[1],a[2],a[3]\n",
    "    a4,a5,a6 = a[4],a[5],a[6]\n",
    "    a7,a8,a9 = a[7],a[8],a[9]\n",
    "\n",
    "    b1,b2,b3 = b[1],b[2],b[3]\n",
    "    b4,b5,b6 = b[4],b[5],b[6]\n",
    "    b7,b8,b9 = b[7],b[8],b[9]\n",
    "\n",
    "    c1,c2,c3 = c[1],c[2],c[3]\n",
    "    c4,c5,c6 = c[4],c[5],c[6]\n",
    "    c7,c8,c9 = c[7],c[8],c[9]\n",
    "\n",
    "    # compute the nine partials\n",
    "    dVx_dx = -a1 - 2*a4*dx -    a7*dy -    a8*dz\n",
    "    dVx_dy = -a2 -    a7*dx - 2*a5*dy -    a9*dz\n",
    "    dVx_dz = -a3 -    a8*dx -    a9*dy - 2*a6*dz\n",
    "\n",
    "    dVy_dx = -b1 - 2*b4*dx -    b7*dy -    b8*dz\n",
    "    dVy_dy = -b2 -    b7*dx - 2*b5*dy -    b9*dz\n",
    "    dVy_dz = -b3 -    b8*dx -    b9*dy - 2*b6*dz\n",
    "\n",
    "    dVz_dx = -c1 - 2*c4*dx -    c7*dy -    c8*dz\n",
    "    dVz_dy = -c2 -    c7*dx - 2*c5*dy -    c9*dz\n",
    "    dVz_dz = -c3 -    c8*dx -    c9*dy - 2*c6*dz\n",
    "\n",
    "    # pack into (Nelements, 3, 3)\n",
    "    row1 = torch.stack((dVx_dx, dVx_dy, dVx_dz), dim=1)\n",
    "    row2 = torch.stack((dVy_dx, dVy_dy, dVy_dz), dim=1)\n",
    "    row3 = torch.stack((dVz_dx, dVz_dy, dVz_dz), dim=1)\n",
    "    \n",
    "    return torch.stack((row1, row2, row3), dim=1)"
   ]
  },
  {
   "cell_type": "code",
   "execution_count": 28,
   "metadata": {},
   "outputs": [],
   "source": [
    "N = stress_tensor.shape[0]\n",
    "stress_tensor_3d = torch.zeros(N, 3, 3,11,\n",
    "                device=stress_tensor.device,\n",
    "                dtype=stress_tensor.dtype)\n",
    "\n",
    "# diagonals\n",
    "stress_tensor_3d[:,0,0] = stress_tensor[:,0]   # stress_tensor_3d_xx\n",
    "stress_tensor_3d[:,1,1] = stress_tensor[:,1]   # stress_tensor_3d_yy\n",
    "stress_tensor_3d[:,2,2] = stress_tensor[:,2]   # stress_tensor_3d_zz\n",
    "\n",
    "# off‐diagonals (symmetric)\n",
    "stress_tensor_3d[:,0,1] = stress_tensor[:,3]   # stress_tensor_3d_xy\n",
    "stress_tensor_3d[:,1,0] = stress_tensor[:,3]\n",
    "\n",
    "stress_tensor_3d[:,0,2] = stress_tensor[:,4]   # stress_tensor_3d_xz\n",
    "stress_tensor_3d[:,2,0] = stress_tensor[:,4]\n",
    "\n",
    "stress_tensor_3d[:,1,2] = stress_tensor[:,5]   # stress_tensor_3d_yz\n",
    "stress_tensor_3d[:,2,1] = stress_tensor[:,5]"
   ]
  },
  {
   "cell_type": "code",
   "execution_count": 29,
   "metadata": {},
   "outputs": [
    {
     "data": {
      "text/plain": [
       "torch.Size([1000, 3, 3, 11])"
      ]
     },
     "execution_count": 29,
     "metadata": {},
     "output_type": "execute_result"
    }
   ],
   "source": [
    "stress_tensor_3d.shape"
   ]
  },
  {
   "cell_type": "code",
   "execution_count": 41,
   "metadata": {},
   "outputs": [
    {
     "name": "stdout",
     "output_type": "stream",
     "text": [
      "Epoch 0 loss: 3547.1393432617188\n",
      "Epoch 10 loss: 3466.056297302246\n",
      "Epoch 20 loss: 3388.6058807373047\n",
      "Epoch 30 loss: 3307.7913703918457\n",
      "Epoch 40 loss: 3235.6099815368652\n",
      "Epoch 50 loss: 3164.383689880371\n",
      "Epoch 60 loss: 3096.6606407165527\n",
      "Epoch 70 loss: 3028.5219650268555\n",
      "Epoch 80 loss: 2965.4825477600098\n",
      "Epoch 90 loss: 2905.0577697753906\n",
      "Epoch 100 loss: 2845.9170684814453\n",
      "Epoch 110 loss: 2791.0321350097656\n",
      "Epoch 120 loss: 2733.3977241516113\n",
      "Epoch 130 loss: 2681.7697944641113\n",
      "Epoch 140 loss: 2631.2842979431152\n",
      "Epoch 150 loss: 2581.312187194824\n",
      "Epoch 160 loss: 2532.5510597229004\n",
      "Epoch 170 loss: 2486.8219451904297\n",
      "Epoch 180 loss: 2441.5628929138184\n",
      "Epoch 190 loss: 2397.986747741699\n",
      "Epoch 200 loss: 2353.6158752441406\n",
      "Epoch 210 loss: 2314.6105880737305\n",
      "Epoch 220 loss: 2273.7650413513184\n",
      "Epoch 230 loss: 2235.8950958251953\n",
      "Epoch 240 loss: 2198.2298126220703\n",
      "Epoch 250 loss: 2161.154567718506\n",
      "Epoch 260 loss: 2124.2845344543457\n",
      "Epoch 270 loss: 2088.6140632629395\n",
      "Epoch 280 loss: 2057.464744567871\n",
      "Epoch 290 loss: 2025.1717071533203\n",
      "Epoch 300 loss: 1991.6016807556152\n",
      "Epoch 310 loss: 1961.0163078308105\n",
      "Epoch 320 loss: 1931.9310836791992\n",
      "Epoch 330 loss: 1901.610263824463\n",
      "Epoch 340 loss: 1872.2319259643555\n",
      "Epoch 350 loss: 1844.0245399475098\n",
      "Epoch 360 loss: 1816.2120475769043\n",
      "Epoch 370 loss: 1790.3907890319824\n",
      "Epoch 380 loss: 1763.4469184875488\n",
      "Epoch 390 loss: 1737.643268585205\n",
      "Epoch 400 loss: 1712.0366592407227\n",
      "Epoch 410 loss: 1687.2977657318115\n",
      "Epoch 420 loss: 1664.0606517791748\n",
      "Epoch 430 loss: 1640.0959949493408\n",
      "Epoch 440 loss: 1618.5777626037598\n",
      "Epoch 450 loss: 1595.1110172271729\n",
      "Epoch 460 loss: 1573.1249694824219\n",
      "Epoch 470 loss: 1551.6999645233154\n",
      "Epoch 480 loss: 1529.8515911102295\n",
      "Epoch 490 loss: 1509.8265857696533\n"
     ]
    }
   ],
   "source": [
    "epoch=500\n",
    "# Adam with a learning rate:\n",
    "optimizer = torch.optim.Adam(model.parameters(), lr=1e-3)\n",
    "#Number of states:\n",
    "states=x_input.shape[2]\n",
    "\n",
    "for i in range(epoch):\n",
    "    optimizer.zero_grad()#reset gradients\n",
    "    loss = torch.tensor([0.])\n",
    "    #Estimate\n",
    "    for s in range(1,states):\n",
    "        V_NN=model(x_input[:,:,s]) #This is N elements x9 \n",
    "\n",
    "        delta_xyz=calculate_point(centroids_tensor, s) #This is N elements x3\n",
    "\n",
    "        Vx=construct_VF(V_NN[0:10],delta_xyz)\n",
    "        Vy=construct_VF(V_NN[10:20],delta_xyz)\n",
    "        Vz=construct_VF(V_NN[20:30],delta_xyz)\n",
    "\n",
    "        VF=torch.cat((Vx.unsqueeze(1),Vy.unsqueeze(1),Vz.unsqueeze(1)), dim=1)\n",
    "        grad_VF= construct_VF_gradients(V_NN, delta_xyz)\n",
    "\n",
    "        #Strain\n",
    "        virtual_strain=0.5*(grad_VF+grad_VF.transpose(1,2))\n",
    "\n",
    "        #Volume integral:\n",
    "        # element‐wise inner product σ^e : ∇v^e\n",
    "        integrand = torch.sum(stress_tensor_3d[:,:,:,s] * virtual_strain, dim=(1, 2))  # → shape [N]\n",
    "\n",
    "        a_uv = torch.sum(integrand * volume_tensor[:,:,s])  # scalar\n",
    "\n",
    "\n",
    "        # 3) Build the traction vector T_surf = [0, 0, -1000] for each boundary element:\n",
    "       # T_surf = torch.tensor([0.0, 0.0, -1000.0], device=device)  # [3]\n",
    "       # T_surf = T_surf.view(1,3).expand(Nelements, 3)  # → [nB, 3]\n",
    "        t_surface=pressure_normals[:,:,s]*1000 #normal times scalar amount tells quantity\n",
    "\n",
    "\n",
    "\n",
    "        L_uv=torch.sum(t_surface*VF[pressure_element_IDs_final,:]*area_normals[:,:,s])\n",
    "\n",
    "        #Loss:\n",
    "        loss+=(a_uv-L_uv)*1e-4\n",
    "\n",
    "    if i%10==0:\n",
    "        print(f'Epoch {i} loss: {loss.item()}')\n",
    "\n",
    "    loss.backward()\n",
    "\n",
    "    optimizer.step()"
   ]
  },
  {
   "cell_type": "code",
   "execution_count": 42,
   "metadata": {},
   "outputs": [
    {
     "data": {
      "image/png": "[encoded data removed]",
      "text/plain": [
       "<Figure size 600x500 with 2 Axes>"
      ]
     },
     "metadata": {},
     "output_type": "display_data"
    }
   ],
   "source": [
    "import torch\n",
    "import numpy as np\n",
    "import matplotlib.pyplot as plt\n",
    "\n",
    "# ── (Assume these are already in your workspace) ──\n",
    "# centroids:  (Nelements, 3) torch.Tensor [x_i, y_i, z_i]\n",
    "# VF:         (Nelements, 3) torch.Tensor [Vx_i, Vy_i, Vz_i]\n",
    "\n",
    "# 1) Convert to NumPy (if they’re still PyTorch tensors)\n",
    "centroids_np = centroids_tensor[pressure_element_IDs_final,:,10].detach().cpu().numpy()  # (Nelements, 3)\n",
    "VF_np        = VF[pressure_element_IDs_final,:].detach().cpu().numpy()         # (Nelements, 3)\n",
    "\n",
    "# 2) Extract x, y, and compute magnitude\n",
    "x = centroids_np[:, 0]      # (Nelements,)\n",
    "y = centroids_np[:, 1]      # (Nelements,)\n",
    "\n",
    "# magnitude of the 3‐D virtual field vector at each centroid:\n",
    "mag = np.sqrt((VF_np**2).sum(axis=1))  # (Nelements,)\n",
    "\n",
    "# 3) Make a scatter “heatmap” on the xy‐plane, colored by |V|\n",
    "plt.figure(figsize=(6,5))\n",
    "sc = plt.scatter(\n",
    "    x, \n",
    "    y, \n",
    "    c=mag, \n",
    "    cmap=\"inferno\",     # you can choose \"viridis\", \"plasma\", etc.\n",
    "    s=20,               # marker size: tweak if too big/small\n",
    "    marker=\"s\",         # square markers often look more heatmap‐like\n",
    "    edgecolors=\"none\"\n",
    ")\n",
    "plt.colorbar(sc, label=\"|V| (magnitude of virtual field)\")\n",
    "plt.xlabel(\"x\")\n",
    "plt.ylabel(\"y\")\n",
    "plt.title(\"Heatmap of |V| over element centroids\")\n",
    "plt.axis(\"equal\")       # ensures x- and y-scales match\n",
    "plt.tight_layout()\n",
    "plt.show()\n"
   ]
  },
  {
   "cell_type": "code",
   "execution_count": 45,
   "metadata": {},
   "outputs": [
    {
     "data": {
      "image/png": "[encoded data removed]",
      "text/plain": [
       "<Figure size 600x600 with 1 Axes>"
      ]
     },
     "metadata": {},
     "output_type": "display_data"
    }
   ],
   "source": [
    "x = centroids_np[:, 0]   # (Nelements,)\n",
    "y = centroids_np[:, 1]   # (Nelements,)\n",
    "u = VF_np[:, 0]          # Vx at each centroid\n",
    "v = VF_np[:, 1]          # Vy at each centroid\n",
    "\n",
    "plt.figure(figsize=(6,6))\n",
    "plt.quiver(\n",
    "    x, y,       # arrow‐base positions\n",
    "    u, v,       # arrow components\n",
    "    angles=\"xy\", scale_units=\"xy\")\n",
    "plt.axis(\"equal\")    # so that 1 unit in x = 1 unit in y\n",
    "plt.xlabel(\"x\")\n",
    "plt.ylabel(\"y\")\n",
    "plt.xlim(-1, 1)      # show only from -1 to 1 in x\n",
    "plt.ylim(-1, 1)      # show only from -1 to 1 in y\n",
    "plt.title(\"Quiver of (Vx, Vy) at each centroid\")\n",
    "plt.tight_layout()\n",
    "plt.show()"
   ]
  },
  {
   "cell_type": "code",
   "execution_count": null,
   "metadata": {},
   "outputs": [],
   "source": []
  }
 ],
 "metadata": {
  "kernelspec": {
   "display_name": "NNEUCLID",
   "language": "python",
   "name": "python3"
  },
  "language_info": {
   "codemirror_mode": {
    "name": "ipython",
    "version": 3
   },
   "file_extension": ".py",
   "mimetype": "text/x-python",
   "name": "python",
   "nbconvert_exporter": "python",
   "pygments_lexer": "ipython3",
   "version": "3.9.0"
  }
 },
 "nbformat": 4,
 "nbformat_minor": 2
}
