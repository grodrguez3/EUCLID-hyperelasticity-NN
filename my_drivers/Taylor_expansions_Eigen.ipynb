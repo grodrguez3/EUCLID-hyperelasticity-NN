{
 "cells": [
  {
   "cell_type": "markdown",
   "metadata": {},
   "source": [
    "# Pseudo Virtual Fields: Neural Networks act as Taylor expansions to find optimal virtual fields via weak equilibrium minimization"
   ]
  },
  {
   "cell_type": "code",
   "execution_count": 1,
   "metadata": {},
   "outputs": [],
   "source": [
    "import numpy as np\n",
    "import torch\n",
    "import pandas as pd\n",
    "import matplotlib.pyplot as plt"
   ]
  },
  {
   "cell_type": "code",
   "execution_count": 2,
   "metadata": {},
   "outputs": [],
   "source": [
    "%load_ext autoreload\n",
    "%autoreload 2"
   ]
  },
  {
   "cell_type": "code",
   "execution_count": 3,
   "metadata": {},
   "outputs": [],
   "source": [
    "from helper_FEBIO import *\n",
    "from VF_helper import *\n",
    "from model import *\n",
    "from plot_helper import *"
   ]
  },
  {
   "cell_type": "code",
   "execution_count": 4,
   "metadata": {},
   "outputs": [
    {
     "name": "stdout",
     "output_type": "stream",
     "text": [
      "\n",
      "-----------------------------------------------------\n",
      "Setting device to:  0\n"
     ]
    },
    {
     "name": "stderr",
     "output_type": "stream",
     "text": [
      "/home/feolalab/anaconda3/envs/NNEUCLID/lib/python3.9/site-packages/torch/__init__.py:1144: UserWarning: torch.set_default_tensor_type() is deprecated as of PyTorch 2.1, please use torch.set_default_dtype() and torch.set_default_device() as alternatives. (Triggered internally at /opt/conda/conda-bld/pytorch_1729647380992/work/torch/csrc/tensor/python_tensor.cpp:432.)\n",
      "  _C._set_default_tensor_type(t)\n"
     ]
    },
    {
     "name": "stdout",
     "output_type": "stream",
     "text": [
      "Test:  cuda:0\n",
      "-----------------------------------------------------\n",
      "\n"
     ]
    }
   ],
   "source": [
    "import sys\n",
    "sys.path.insert(0, '../')\n",
    "from core import *\n",
    "#config\n",
    "from config import *\n",
    "#CUDA\n",
    "cuda=0\n",
    "device=initCUDA(cuda)\n",
    "#supporting files"
   ]
  },
  {
   "cell_type": "markdown",
   "metadata": {},
   "source": [
    "# Read FEBIO data"
   ]
  },
  {
   "cell_type": "code",
   "execution_count": 5,
   "metadata": {},
   "outputs": [
    {
     "data": {
      "text/html": [
       "<div>\n",
       "<style scoped>\n",
       "    .dataframe tbody tr th:only-of-type {\n",
       "        vertical-align: middle;\n",
       "    }\n",
       "\n",
       "    .dataframe tbody tr th {\n",
       "        vertical-align: top;\n",
       "    }\n",
       "\n",
       "    .dataframe thead th {\n",
       "        text-align: right;\n",
       "    }\n",
       "</style>\n",
       "<table border=\"1\" class=\"dataframe\">\n",
       "  <thead>\n",
       "    <tr style=\"text-align: right;\">\n",
       "      <th></th>\n",
       "      <th>1</th>\n",
       "      <th>1</th>\n",
       "      <th>9</th>\n",
       "      <th>513</th>\n",
       "      <th>107</th>\n",
       "      <th>44</th>\n",
       "      <th>117</th>\n",
       "      <th>603</th>\n",
       "      <th>368</th>\n",
       "    </tr>\n",
       "  </thead>\n",
       "  <tbody>\n",
       "    <tr>\n",
       "      <th>0</th>\n",
       "      <td>2</td>\n",
       "      <td>9</td>\n",
       "      <td>10</td>\n",
       "      <td>514</td>\n",
       "      <td>513</td>\n",
       "      <td>117</td>\n",
       "      <td>118</td>\n",
       "      <td>604</td>\n",
       "      <td>603</td>\n",
       "    </tr>\n",
       "    <tr>\n",
       "      <th>1</th>\n",
       "      <td>3</td>\n",
       "      <td>10</td>\n",
       "      <td>11</td>\n",
       "      <td>515</td>\n",
       "      <td>514</td>\n",
       "      <td>118</td>\n",
       "      <td>119</td>\n",
       "      <td>605</td>\n",
       "      <td>604</td>\n",
       "    </tr>\n",
       "    <tr>\n",
       "      <th>2</th>\n",
       "      <td>4</td>\n",
       "      <td>11</td>\n",
       "      <td>12</td>\n",
       "      <td>516</td>\n",
       "      <td>515</td>\n",
       "      <td>119</td>\n",
       "      <td>120</td>\n",
       "      <td>606</td>\n",
       "      <td>605</td>\n",
       "    </tr>\n",
       "    <tr>\n",
       "      <th>3</th>\n",
       "      <td>5</td>\n",
       "      <td>12</td>\n",
       "      <td>13</td>\n",
       "      <td>517</td>\n",
       "      <td>516</td>\n",
       "      <td>120</td>\n",
       "      <td>121</td>\n",
       "      <td>607</td>\n",
       "      <td>606</td>\n",
       "    </tr>\n",
       "    <tr>\n",
       "      <th>4</th>\n",
       "      <td>6</td>\n",
       "      <td>13</td>\n",
       "      <td>14</td>\n",
       "      <td>518</td>\n",
       "      <td>517</td>\n",
       "      <td>121</td>\n",
       "      <td>122</td>\n",
       "      <td>608</td>\n",
       "      <td>607</td>\n",
       "    </tr>\n",
       "    <tr>\n",
       "      <th>...</th>\n",
       "      <td>...</td>\n",
       "      <td>...</td>\n",
       "      <td>...</td>\n",
       "      <td>...</td>\n",
       "      <td>...</td>\n",
       "      <td>...</td>\n",
       "      <td>...</td>\n",
       "      <td>...</td>\n",
       "      <td>...</td>\n",
       "    </tr>\n",
       "    <tr>\n",
       "      <th>994</th>\n",
       "      <td>996</td>\n",
       "      <td>1327</td>\n",
       "      <td>1328</td>\n",
       "      <td>354</td>\n",
       "      <td>355</td>\n",
       "      <td>598</td>\n",
       "      <td>599</td>\n",
       "      <td>95</td>\n",
       "      <td>94</td>\n",
       "    </tr>\n",
       "    <tr>\n",
       "      <th>995</th>\n",
       "      <td>997</td>\n",
       "      <td>1328</td>\n",
       "      <td>1329</td>\n",
       "      <td>353</td>\n",
       "      <td>354</td>\n",
       "      <td>599</td>\n",
       "      <td>600</td>\n",
       "      <td>96</td>\n",
       "      <td>95</td>\n",
       "    </tr>\n",
       "    <tr>\n",
       "      <th>996</th>\n",
       "      <td>998</td>\n",
       "      <td>1329</td>\n",
       "      <td>1330</td>\n",
       "      <td>352</td>\n",
       "      <td>353</td>\n",
       "      <td>600</td>\n",
       "      <td>601</td>\n",
       "      <td>97</td>\n",
       "      <td>96</td>\n",
       "    </tr>\n",
       "    <tr>\n",
       "      <th>997</th>\n",
       "      <td>999</td>\n",
       "      <td>1330</td>\n",
       "      <td>1331</td>\n",
       "      <td>351</td>\n",
       "      <td>352</td>\n",
       "      <td>601</td>\n",
       "      <td>602</td>\n",
       "      <td>98</td>\n",
       "      <td>97</td>\n",
       "    </tr>\n",
       "    <tr>\n",
       "      <th>998</th>\n",
       "      <td>1000</td>\n",
       "      <td>1331</td>\n",
       "      <td>278</td>\n",
       "      <td>62</td>\n",
       "      <td>351</td>\n",
       "      <td>602</td>\n",
       "      <td>63</td>\n",
       "      <td>7</td>\n",
       "      <td>98</td>\n",
       "    </tr>\n",
       "  </tbody>\n",
       "</table>\n",
       "<p>999 rows × 9 columns</p>\n",
       "</div>"
      ],
      "text/plain": [
       "        1     1     9   513   107   44   117   603   368\n",
       "0       2     9    10   514   513  117   118   604   603\n",
       "1       3    10    11   515   514  118   119   605   604\n",
       "2       4    11    12   516   515  119   120   606   605\n",
       "3       5    12    13   517   516  120   121   607   606\n",
       "4       6    13    14   518   517  121   122   608   607\n",
       "..    ...   ...   ...   ...   ...  ...   ...   ...   ...\n",
       "994   996  1327  1328   354   355  598   599    95    94\n",
       "995   997  1328  1329   353   354  599   600    96    95\n",
       "996   998  1329  1330   352   353  600   601    97    96\n",
       "997   999  1330  1331   351   352  601   602    98    97\n",
       "998  1000  1331   278    62   351  602    63     7    98\n",
       "\n",
       "[999 rows x 9 columns]"
      ]
     },
     "execution_count": 5,
     "metadata": {},
     "output_type": "execute_result"
    }
   ],
   "source": [
    "\n",
    "#Read connectivity\n",
    "connectivity = pd.read_csv(\"/home/feolalab/Desktop/EUCLID-hyperelasticity-NN/my_data/Cube/jobs/outputs/connectivity\")\n",
    "connectivity"
   ]
  },
  {
   "cell_type": "markdown",
   "metadata": {},
   "source": [
    "### Function to read multiple states from FEBIO file"
   ]
  },
  {
   "cell_type": "code",
   "execution_count": 6,
   "metadata": {},
   "outputs": [
    {
     "name": "stdout",
     "output_type": "stream",
     "text": [
      "Detected 1-field blocks → ['element']\n",
      "Number of states: 11\n",
      " State 1: element=1000\n",
      " State 2: element=1000\n",
      " State 3: element=1000\n",
      " State 4: element=1000\n",
      " State 5: element=1000\n",
      " State 6: element=1000\n",
      " State 7: element=1000\n",
      " State 8: element=1000\n",
      " State 9: element=1000\n",
      " State 10: element=1000\n",
      " State 11: element=1000\n"
     ]
    }
   ],
   "source": [
    "volume_file=\"/home/feolalab/Desktop/EUCLID-hyperelasticity-NN/my_data/Cube/jobs/outputs/volume\"\n",
    "volume=read_multi_ste_output2(volume_file,p=True) "
   ]
  },
  {
   "cell_type": "code",
   "execution_count": 7,
   "metadata": {},
   "outputs": [
    {
     "name": "stdout",
     "output_type": "stream",
     "text": [
      "Detected 1-field blocks → ['element']\n",
      "Number of states: 11\n",
      " State 1: element=600\n",
      " State 2: element=600\n",
      " State 3: element=600\n",
      " State 4: element=600\n",
      " State 5: element=600\n",
      " State 6: element=600\n",
      " State 7: element=600\n",
      " State 8: element=600\n",
      " State 9: element=600\n",
      " State 10: element=600\n",
      " State 11: element=600\n"
     ]
    }
   ],
   "source": [
    "area_file=\"/home/feolalab/Desktop/EUCLID-hyperelasticity-NN/my_data/Cube/jobs/outputs/area\"\n",
    "area=read_multi_ste_output2(area_file,p=True) "
   ]
  },
  {
   "cell_type": "code",
   "execution_count": 8,
   "metadata": {},
   "outputs": [
    {
     "name": "stdout",
     "output_type": "stream",
     "text": [
      "Detected 6-field blocks → ['xx', 'yy', 'zz', 'xy', 'xz', 'yz']\n",
      "Number of states: 11\n",
      " State 1: xx=1000, yy=1000, zz=1000, xy=1000, xz=1000, yz=1000\n",
      " State 2: xx=1000, yy=1000, zz=1000, xy=1000, xz=1000, yz=1000\n",
      " State 3: xx=1000, yy=1000, zz=1000, xy=1000, xz=1000, yz=1000\n",
      " State 4: xx=1000, yy=1000, zz=1000, xy=1000, xz=1000, yz=1000\n",
      " State 5: xx=1000, yy=1000, zz=1000, xy=1000, xz=1000, yz=1000\n",
      " State 6: xx=1000, yy=1000, zz=1000, xy=1000, xz=1000, yz=1000\n",
      " State 7: xx=1000, yy=1000, zz=1000, xy=1000, xz=1000, yz=1000\n",
      " State 8: xx=1000, yy=1000, zz=1000, xy=1000, xz=1000, yz=1000\n",
      " State 9: xx=1000, yy=1000, zz=1000, xy=1000, xz=1000, yz=1000\n",
      " State 10: xx=1000, yy=1000, zz=1000, xy=1000, xz=1000, yz=1000\n",
      " State 11: xx=1000, yy=1000, zz=1000, xy=1000, xz=1000, yz=1000\n"
     ]
    }
   ],
   "source": [
    "stress_file=\"/home/feolalab/Desktop/EUCLID-hyperelasticity-NN/my_data/Cube/jobs/outputs/stress\"\n",
    "stress=read_multi_ste_output2(stress_file,p=True)"
   ]
  },
  {
   "cell_type": "code",
   "execution_count": 9,
   "metadata": {},
   "outputs": [
    {
     "name": "stdout",
     "output_type": "stream",
     "text": [
      "Detected 9-field blocks → ['F11', 'F12', 'F13', 'F21', 'F22', 'F23', 'F31', 'F32', 'F33']\n",
      "Number of states: 11\n",
      " State 1: F11=1000, F12=1000, F13=1000, F21=1000, F22=1000, F23=1000, F31=1000, F32=1000, F33=1000\n",
      " State 2: F11=1000, F12=1000, F13=1000, F21=1000, F22=1000, F23=1000, F31=1000, F32=1000, F33=1000\n",
      " State 3: F11=1000, F12=1000, F13=1000, F21=1000, F22=1000, F23=1000, F31=1000, F32=1000, F33=1000\n",
      " State 4: F11=1000, F12=1000, F13=1000, F21=1000, F22=1000, F23=1000, F31=1000, F32=1000, F33=1000\n",
      " State 5: F11=1000, F12=1000, F13=1000, F21=1000, F22=1000, F23=1000, F31=1000, F32=1000, F33=1000\n",
      " State 6: F11=1000, F12=1000, F13=1000, F21=1000, F22=1000, F23=1000, F31=1000, F32=1000, F33=1000\n",
      " State 7: F11=1000, F12=1000, F13=1000, F21=1000, F22=1000, F23=1000, F31=1000, F32=1000, F33=1000\n",
      " State 8: F11=1000, F12=1000, F13=1000, F21=1000, F22=1000, F23=1000, F31=1000, F32=1000, F33=1000\n",
      " State 9: F11=1000, F12=1000, F13=1000, F21=1000, F22=1000, F23=1000, F31=1000, F32=1000, F33=1000\n",
      " State 10: F11=1000, F12=1000, F13=1000, F21=1000, F22=1000, F23=1000, F31=1000, F32=1000, F33=1000\n",
      " State 11: F11=1000, F12=1000, F13=1000, F21=1000, F22=1000, F23=1000, F31=1000, F32=1000, F33=1000\n"
     ]
    }
   ],
   "source": [
    "F_file=\"/home/feolalab/Desktop/EUCLID-hyperelasticity-NN/my_data/Cube/jobs/outputs/F\"\n",
    "F=read_multi_ste_output2(F_file,p=True)"
   ]
  },
  {
   "cell_type": "code",
   "execution_count": 10,
   "metadata": {},
   "outputs": [
    {
     "name": "stdout",
     "output_type": "stream",
     "text": [
      "Detected 3-field blocks → ['x', 'y', 'z']\n",
      "Number of states: 11\n",
      " State 1: x=600, y=600, z=600\n",
      " State 2: x=600, y=600, z=600\n",
      " State 3: x=600, y=600, z=600\n",
      " State 4: x=600, y=600, z=600\n",
      " State 5: x=600, y=600, z=600\n",
      " State 6: x=600, y=600, z=600\n",
      " State 7: x=600, y=600, z=600\n",
      " State 8: x=600, y=600, z=600\n",
      " State 9: x=600, y=600, z=600\n",
      " State 10: x=600, y=600, z=600\n",
      " State 11: x=600, y=600, z=600\n"
     ]
    }
   ],
   "source": [
    "surface_normal_file=\"/home/feolalab/Desktop/EUCLID-hyperelasticity-NN/my_data/Cube/jobs/outputs/surface_normal\"\n",
    "surface_normal=read_multi_ste_output2(surface_normal_file,p=True)"
   ]
  },
  {
   "cell_type": "code",
   "execution_count": 11,
   "metadata": {},
   "outputs": [
    {
     "name": "stdout",
     "output_type": "stream",
     "text": [
      "Detected 3-field blocks → ['x', 'y', 'z']\n",
      "Number of states: 11\n",
      " State 1: x=1331, y=1331, z=1331\n",
      " State 2: x=1331, y=1331, z=1331\n",
      " State 3: x=1331, y=1331, z=1331\n",
      " State 4: x=1331, y=1331, z=1331\n",
      " State 5: x=1331, y=1331, z=1331\n",
      " State 6: x=1331, y=1331, z=1331\n",
      " State 7: x=1331, y=1331, z=1331\n",
      " State 8: x=1331, y=1331, z=1331\n",
      " State 9: x=1331, y=1331, z=1331\n",
      " State 10: x=1331, y=1331, z=1331\n",
      " State 11: x=1331, y=1331, z=1331\n"
     ]
    }
   ],
   "source": [
    "position_file=\"/home/feolalab/Desktop/EUCLID-hyperelasticity-NN/my_data/Cube/jobs/outputs/position\"\n",
    "position=read_multi_ste_output2(position_file,p=True)"
   ]
  },
  {
   "cell_type": "code",
   "execution_count": 12,
   "metadata": {},
   "outputs": [
    {
     "name": "stdout",
     "output_type": "stream",
     "text": [
      "Detected 6-field blocks → ['xx', 'yy', 'zz', 'xy', 'xz', 'yz']\n",
      "Number of states: 11\n",
      " State 1: xx=1000, yy=1000, zz=1000, xy=1000, xz=1000, yz=1000\n",
      " State 2: xx=1000, yy=1000, zz=1000, xy=1000, xz=1000, yz=1000\n",
      " State 3: xx=1000, yy=1000, zz=1000, xy=1000, xz=1000, yz=1000\n",
      " State 4: xx=1000, yy=1000, zz=1000, xy=1000, xz=1000, yz=1000\n",
      " State 5: xx=1000, yy=1000, zz=1000, xy=1000, xz=1000, yz=1000\n",
      " State 6: xx=1000, yy=1000, zz=1000, xy=1000, xz=1000, yz=1000\n",
      " State 7: xx=1000, yy=1000, zz=1000, xy=1000, xz=1000, yz=1000\n",
      " State 8: xx=1000, yy=1000, zz=1000, xy=1000, xz=1000, yz=1000\n",
      " State 9: xx=1000, yy=1000, zz=1000, xy=1000, xz=1000, yz=1000\n",
      " State 10: xx=1000, yy=1000, zz=1000, xy=1000, xz=1000, yz=1000\n",
      " State 11: xx=1000, yy=1000, zz=1000, xy=1000, xz=1000, yz=1000\n"
     ]
    }
   ],
   "source": [
    "strain_file=\"/home/feolalab/Desktop/EUCLID-hyperelasticity-NN/my_data/Cube/jobs/outputs/lagrange_strain\"\n",
    "strain=read_multi_ste_output2(strain_file,p=True)"
   ]
  },
  {
   "cell_type": "markdown",
   "metadata": {},
   "source": [
    "### Log file data"
   ]
  },
  {
   "cell_type": "code",
   "execution_count": 13,
   "metadata": {},
   "outputs": [
    {
     "name": "stdout",
     "output_type": "stream",
     "text": [
      "states found: [0, 1, 2, 3, 4, 5, 6, 7, 8, 9, 10]\n",
      " step  0: x=1000 pts, y=1000, z=1000\n",
      " step  1: x=1000 pts, y=1000, z=1000\n",
      " step  2: x=1000 pts, y=1000, z=1000\n",
      " step  3: x=1000 pts, y=1000, z=1000\n",
      " step  4: x=1000 pts, y=1000, z=1000\n",
      " step  5: x=1000 pts, y=1000, z=1000\n",
      " step  6: x=1000 pts, y=1000, z=1000\n",
      " step  7: x=1000 pts, y=1000, z=1000\n",
      " step  8: x=1000 pts, y=1000, z=1000\n",
      " step  9: x=1000 pts, y=1000, z=1000\n",
      " step 10: x=1000 pts, y=1000, z=1000\n"
     ]
    }
   ],
   "source": [
    "#Centroids from log file\n",
    "centroids_file='/home/feolalab/Desktop/EUCLID-hyperelasticity-NN/my_data/Cube/jobs/Model3.log'\n",
    "centroids_dict  = parse_states(centroids_file)\n",
    "\n",
    "#Should get 11 states, each with exactly 1000 x/y/z values:\n",
    "print(\"states found:\", sorted(centroids_dict.keys()))\n",
    "for step, d in centroids_dict.items():\n",
    "    print(f\" step {step:2d}: x={len(d['x'])} pts, y={len(d['y'])}, z={len(d['z'])}\")"
   ]
  },
  {
   "cell_type": "markdown",
   "metadata": {},
   "source": [
    "### State dict to tensor"
   ]
  },
  {
   "cell_type": "code",
   "execution_count": 14,
   "metadata": {},
   "outputs": [
    {
     "name": "stdout",
     "output_type": "stream",
     "text": [
      "centroids_tensor.shape: torch.Size([1000, 3, 11])\n",
      "stress_tensor.shape: torch.Size([1000, 6, 11])\n",
      "volume_tensor.shape: torch.Size([1000, 1, 11])\n",
      "F_tensor.shape: torch.Size([1000, 9, 11])\n",
      "surface_normal_tensor.shape: torch.Size([600, 3, 11])\n",
      "area_tensor.shape: torch.Size([600, 1, 11])\n",
      "strain_tensor.shape: torch.Size([1000, 6, 11])\n"
     ]
    }
   ],
   "source": [
    "# 1) Build a (Nelements,3,nstates) tensor for centroids:\n",
    "centroids_tensor = states_to_tensor(centroids_dict, ['x','y','z'])\n",
    "print(\"centroids_tensor.shape:\", centroids_tensor.shape)\n",
    "# → (Nelements, 3, nstates)\n",
    "\n",
    "# 2) Build a (Nelements,6,nstates) tensor for volume‐stress:\n",
    "stress_tensor = states_to_tensor(stress,\n",
    "                                ['xx','yy','zz','xy','xz','yz'])\n",
    "print(\"stress_tensor.shape:\", stress_tensor.shape)\n",
    "# → (Nelements, 6, nstates)\n",
    "\n",
    "# 3) If you just want the x‐only channel across states:\n",
    "#x_only = states_to_tensor(centroids_dict, ['x'])\n",
    "#print(\"x_only.shape:\", x_only.shape)\n",
    "# → (Nelements, 1, nstates)\n",
    "\n",
    "# 3) Volume:\n",
    "volume_tensor = states_to_tensor(volume, ['element'])\n",
    "print(\"volume_tensor.shape:\", volume_tensor.shape)\n",
    "# → (Nelements, 1, nstates)\n",
    "\n",
    "# 4) Deformation tensor:\n",
    "F_tensor = states_to_tensor(F, ['F11','F12','F13','F21','F22','F23','F31','F32','F33'])\n",
    "print(\"F_tensor.shape:\", F_tensor.shape)\n",
    "\n",
    "# 4) Surface Normal:\n",
    "surface_normal_tensor = states_to_tensor(surface_normal, ['x','y','z'])\n",
    "print(\"surface_normal_tensor.shape:\", surface_normal_tensor.shape)\n",
    "\n",
    "\n",
    "# 5) Area:\n",
    "area_tensor = states_to_tensor(area, ['element'])\n",
    "print(\"area_tensor.shape:\", area_tensor.shape)\n",
    "\n",
    "\n",
    "# 6) Strain:\n",
    "#del strain[1]\n",
    "strain_tensor = states_to_tensor(strain, ['xx','yy','zz','xy','xz','yz'])\n",
    "print(\"strain_tensor.shape:\", strain_tensor.shape)"
   ]
  },
  {
   "cell_type": "code",
   "execution_count": 15,
   "metadata": {},
   "outputs": [
    {
     "data": {
      "text/plain": [
       "tensor(0., dtype=torch.float32)"
      ]
     },
     "execution_count": 15,
     "metadata": {},
     "output_type": "execute_result"
    }
   ],
   "source": [
    "torch.sum(centroids_tensor[:,:,0], dim=(0,1))"
   ]
  },
  {
   "cell_type": "code",
   "execution_count": 16,
   "metadata": {},
   "outputs": [
    {
     "data": {
      "text/plain": [
       "tensor([0., 0., 0.], dtype=torch.float32)"
      ]
     },
     "execution_count": 16,
     "metadata": {},
     "output_type": "execute_result"
    }
   ],
   "source": [
    "centroids_tensor[500, :,0]"
   ]
  },
  {
   "cell_type": "code",
   "execution_count": 17,
   "metadata": {},
   "outputs": [],
   "source": [
    "Nelements=F_tensor.shape[0]"
   ]
  },
  {
   "cell_type": "markdown",
   "metadata": {},
   "source": [
    "## Where pressure is applied and Zero Displacement Boundary Conditions"
   ]
  },
  {
   "cell_type": "code",
   "execution_count": 18,
   "metadata": {},
   "outputs": [],
   "source": [
    "pressure_nodes = parse_quad4_from_feb(\"/home/feolalab/Desktop/EUCLID-hyperelasticity-NN/my_data/Cube/jobs/Model3.feb\", surface_name=\"Pressure1\")\n",
    "pressure_node_ids = list(pressure_nodes.keys())"
   ]
  },
  {
   "cell_type": "code",
   "execution_count": 19,
   "metadata": {},
   "outputs": [
    {
     "data": {
      "text/plain": [
       "([5, 35, 522, 108], dict)"
      ]
     },
     "execution_count": 19,
     "metadata": {},
     "output_type": "execute_result"
    }
   ],
   "source": [
    "pressure_nodes[1], type(pressure_nodes)"
   ]
  },
  {
   "cell_type": "code",
   "execution_count": 20,
   "metadata": {},
   "outputs": [],
   "source": [
    "ZD_nodes = parse_quad4_from_feb(\"/home/feolalab/Desktop/EUCLID-hyperelasticity-NN/my_data/Cube/jobs/Model3.feb\", surface_name=\"ZeroDisplacement1\")\n",
    "ZD_node_ids = list(ZD_nodes.keys())"
   ]
  },
  {
   "cell_type": "code",
   "execution_count": 21,
   "metadata": {},
   "outputs": [
    {
     "data": {
      "text/plain": [
       "([4, 80, 441, 99], 100)"
      ]
     },
     "execution_count": 21,
     "metadata": {},
     "output_type": "execute_result"
    }
   ],
   "source": [
    "ZD_nodes[1], len(ZD_node_ids)"
   ]
  },
  {
   "cell_type": "code",
   "execution_count": 22,
   "metadata": {},
   "outputs": [],
   "source": [
    "connectivity_list = [\n",
    "    tuple(map(int, row))           # ensure ints\n",
    "    for row in connectivity.values\n",
    "]"
   ]
  },
  {
   "cell_type": "code",
   "execution_count": 23,
   "metadata": {},
   "outputs": [
    {
     "name": "stdout",
     "output_type": "stream",
     "text": [
      "Element 901:\n",
      "  all_nodes:      [36, 189, 1251, 440, 5, 35, 522, 108]\n",
      "  pressure_nodes: [5, 35, 522, 108]\n",
      "Element 902:\n",
      "  all_nodes:      [189, 190, 1252, 1251, 35, 34, 523, 522]\n",
      "  pressure_nodes: [35, 34, 523, 522]\n",
      "Element 903:\n",
      "  all_nodes:      [190, 191, 1253, 1252, 34, 33, 524, 523]\n",
      "  pressure_nodes: [34, 33, 524, 523]\n",
      "Element 904:\n",
      "  all_nodes:      [191, 192, 1254, 1253, 33, 32, 525, 524]\n",
      "  pressure_nodes: [33, 32, 525, 524]\n",
      "Element 905:\n",
      "  all_nodes:      [192, 193, 1255, 1254, 32, 31, 526, 525]\n",
      "  pressure_nodes: [32, 31, 526, 525]\n",
      "Element 906:\n",
      "  all_nodes:      [193, 194, 1256, 1255, 31, 30, 527, 526]\n",
      "  pressure_nodes: [31, 30, 527, 526]\n",
      "Element 907:\n",
      "  all_nodes:      [194, 195, 1257, 1256, 30, 29, 528, 527]\n",
      "  pressure_nodes: [30, 29, 528, 527]\n",
      "Element 908:\n",
      "  all_nodes:      [195, 196, 1258, 1257, 29, 28, 529, 528]\n",
      "  pressure_nodes: [29, 28, 529, 528]\n",
      "Element 909:\n",
      "  all_nodes:      [196, 197, 1259, 1258, 28, 27, 530, 529]\n",
      "  pressure_nodes: [28, 27, 530, 529]\n",
      "Element 910:\n",
      "  all_nodes:      [197, 26, 270, 1259, 27, 6, 71, 530]\n",
      "  pressure_nodes: [27, 6, 71, 530]\n",
      "Element 911:\n",
      "  all_nodes:      [440, 1251, 1260, 439, 108, 522, 531, 109]\n",
      "  pressure_nodes: [108, 522, 531, 109]\n",
      "Element 912:\n",
      "  all_nodes:      [1251, 1252, 1261, 1260, 522, 523, 532, 531]\n",
      "  pressure_nodes: [522, 523, 532, 531]\n",
      "Element 913:\n",
      "  all_nodes:      [1252, 1253, 1262, 1261, 523, 524, 533, 532]\n",
      "  pressure_nodes: [523, 524, 533, 532]\n",
      "Element 914:\n",
      "  all_nodes:      [1253, 1254, 1263, 1262, 524, 525, 534, 533]\n",
      "  pressure_nodes: [524, 525, 534, 533]\n",
      "Element 915:\n",
      "  all_nodes:      [1254, 1255, 1264, 1263, 525, 526, 535, 534]\n",
      "  pressure_nodes: [525, 526, 535, 534]\n",
      "Element 916:\n",
      "  all_nodes:      [1255, 1256, 1265, 1264, 526, 527, 536, 535]\n",
      "  pressure_nodes: [526, 527, 536, 535]\n",
      "Element 917:\n",
      "  all_nodes:      [1256, 1257, 1266, 1265, 527, 528, 537, 536]\n",
      "  pressure_nodes: [527, 528, 537, 536]\n",
      "Element 918:\n",
      "  all_nodes:      [1257, 1258, 1267, 1266, 528, 529, 538, 537]\n",
      "  pressure_nodes: [528, 529, 538, 537]\n",
      "Element 919:\n",
      "  all_nodes:      [1258, 1259, 1268, 1267, 529, 530, 539, 538]\n",
      "  pressure_nodes: [529, 530, 539, 538]\n",
      "Element 920:\n",
      "  all_nodes:      [1259, 270, 271, 1268, 530, 71, 70, 539]\n",
      "  pressure_nodes: [530, 71, 70, 539]\n",
      "Element 921:\n",
      "  all_nodes:      [439, 1260, 1269, 438, 109, 531, 540, 110]\n",
      "  pressure_nodes: [109, 531, 540, 110]\n",
      "Element 922:\n",
      "  all_nodes:      [1260, 1261, 1270, 1269, 531, 532, 541, 540]\n",
      "  pressure_nodes: [531, 532, 541, 540]\n",
      "Element 923:\n",
      "  all_nodes:      [1261, 1262, 1271, 1270, 532, 533, 542, 541]\n",
      "  pressure_nodes: [532, 533, 542, 541]\n",
      "Element 924:\n",
      "  all_nodes:      [1262, 1263, 1272, 1271, 533, 534, 543, 542]\n",
      "  pressure_nodes: [533, 534, 543, 542]\n",
      "Element 925:\n",
      "  all_nodes:      [1263, 1264, 1273, 1272, 534, 535, 544, 543]\n",
      "  pressure_nodes: [534, 535, 544, 543]\n",
      "Element 926:\n",
      "  all_nodes:      [1264, 1265, 1274, 1273, 535, 536, 545, 544]\n",
      "  pressure_nodes: [535, 536, 545, 544]\n",
      "Element 927:\n",
      "  all_nodes:      [1265, 1266, 1275, 1274, 536, 537, 546, 545]\n",
      "  pressure_nodes: [536, 537, 546, 545]\n",
      "Element 928:\n",
      "  all_nodes:      [1266, 1267, 1276, 1275, 537, 538, 547, 546]\n",
      "  pressure_nodes: [537, 538, 547, 546]\n",
      "Element 929:\n",
      "  all_nodes:      [1267, 1268, 1277, 1276, 538, 539, 548, 547]\n",
      "  pressure_nodes: [538, 539, 548, 547]\n",
      "Element 930:\n",
      "  all_nodes:      [1268, 271, 272, 1277, 539, 70, 69, 548]\n",
      "  pressure_nodes: [539, 70, 69, 548]\n",
      "Element 931:\n",
      "  all_nodes:      [438, 1269, 1278, 437, 110, 540, 549, 111]\n",
      "  pressure_nodes: [110, 540, 549, 111]\n",
      "Element 932:\n",
      "  all_nodes:      [1269, 1270, 1279, 1278, 540, 541, 550, 549]\n",
      "  pressure_nodes: [540, 541, 550, 549]\n",
      "Element 933:\n",
      "  all_nodes:      [1270, 1271, 1280, 1279, 541, 542, 551, 550]\n",
      "  pressure_nodes: [541, 542, 551, 550]\n",
      "Element 934:\n",
      "  all_nodes:      [1271, 1272, 1281, 1280, 542, 543, 552, 551]\n",
      "  pressure_nodes: [542, 543, 552, 551]\n",
      "Element 935:\n",
      "  all_nodes:      [1272, 1273, 1282, 1281, 543, 544, 553, 552]\n",
      "  pressure_nodes: [543, 544, 553, 552]\n",
      "Element 936:\n",
      "  all_nodes:      [1273, 1274, 1283, 1282, 544, 545, 554, 553]\n",
      "  pressure_nodes: [544, 545, 554, 553]\n",
      "Element 937:\n",
      "  all_nodes:      [1274, 1275, 1284, 1283, 545, 546, 555, 554]\n",
      "  pressure_nodes: [545, 546, 555, 554]\n",
      "Element 938:\n",
      "  all_nodes:      [1275, 1276, 1285, 1284, 546, 547, 556, 555]\n",
      "  pressure_nodes: [546, 547, 556, 555]\n",
      "Element 939:\n",
      "  all_nodes:      [1276, 1277, 1286, 1285, 547, 548, 557, 556]\n",
      "  pressure_nodes: [547, 548, 557, 556]\n",
      "Element 940:\n",
      "  all_nodes:      [1277, 272, 273, 1286, 548, 69, 68, 557]\n",
      "  pressure_nodes: [548, 69, 68, 557]\n",
      "Element 941:\n",
      "  all_nodes:      [437, 1278, 1287, 436, 111, 549, 558, 112]\n",
      "  pressure_nodes: [111, 549, 558, 112]\n",
      "Element 942:\n",
      "  all_nodes:      [1278, 1279, 1288, 1287, 549, 550, 559, 558]\n",
      "  pressure_nodes: [549, 550, 559, 558]\n",
      "Element 943:\n",
      "  all_nodes:      [1279, 1280, 1289, 1288, 550, 551, 560, 559]\n",
      "  pressure_nodes: [550, 551, 560, 559]\n",
      "Element 944:\n",
      "  all_nodes:      [1280, 1281, 1290, 1289, 551, 552, 561, 560]\n",
      "  pressure_nodes: [551, 552, 561, 560]\n",
      "Element 945:\n",
      "  all_nodes:      [1281, 1282, 1291, 1290, 552, 553, 562, 561]\n",
      "  pressure_nodes: [552, 553, 562, 561]\n",
      "Element 946:\n",
      "  all_nodes:      [1282, 1283, 1292, 1291, 553, 554, 563, 562]\n",
      "  pressure_nodes: [553, 554, 563, 562]\n",
      "Element 947:\n",
      "  all_nodes:      [1283, 1284, 1293, 1292, 554, 555, 564, 563]\n",
      "  pressure_nodes: [554, 555, 564, 563]\n",
      "Element 948:\n",
      "  all_nodes:      [1284, 1285, 1294, 1293, 555, 556, 565, 564]\n",
      "  pressure_nodes: [555, 556, 565, 564]\n",
      "Element 949:\n",
      "  all_nodes:      [1285, 1286, 1295, 1294, 556, 557, 566, 565]\n",
      "  pressure_nodes: [556, 557, 566, 565]\n",
      "Element 950:\n",
      "  all_nodes:      [1286, 273, 274, 1295, 557, 68, 67, 566]\n",
      "  pressure_nodes: [557, 68, 67, 566]\n",
      "Element 951:\n",
      "  all_nodes:      [436, 1287, 1296, 435, 112, 558, 567, 113]\n",
      "  pressure_nodes: [112, 558, 567, 113]\n",
      "Element 952:\n",
      "  all_nodes:      [1287, 1288, 1297, 1296, 558, 559, 568, 567]\n",
      "  pressure_nodes: [558, 559, 568, 567]\n",
      "Element 953:\n",
      "  all_nodes:      [1288, 1289, 1298, 1297, 559, 560, 569, 568]\n",
      "  pressure_nodes: [559, 560, 569, 568]\n",
      "Element 954:\n",
      "  all_nodes:      [1289, 1290, 1299, 1298, 560, 561, 570, 569]\n",
      "  pressure_nodes: [560, 561, 570, 569]\n",
      "Element 955:\n",
      "  all_nodes:      [1290, 1291, 1300, 1299, 561, 562, 571, 570]\n",
      "  pressure_nodes: [561, 562, 571, 570]\n",
      "Element 956:\n",
      "  all_nodes:      [1291, 1292, 1301, 1300, 562, 563, 572, 571]\n",
      "  pressure_nodes: [562, 563, 572, 571]\n",
      "Element 957:\n",
      "  all_nodes:      [1292, 1293, 1302, 1301, 563, 564, 573, 572]\n",
      "  pressure_nodes: [563, 564, 573, 572]\n",
      "Element 958:\n",
      "  all_nodes:      [1293, 1294, 1303, 1302, 564, 565, 574, 573]\n",
      "  pressure_nodes: [564, 565, 574, 573]\n",
      "Element 959:\n",
      "  all_nodes:      [1294, 1295, 1304, 1303, 565, 566, 575, 574]\n",
      "  pressure_nodes: [565, 566, 575, 574]\n",
      "Element 960:\n",
      "  all_nodes:      [1295, 274, 275, 1304, 566, 67, 66, 575]\n",
      "  pressure_nodes: [566, 67, 66, 575]\n",
      "Element 961:\n",
      "  all_nodes:      [435, 1296, 1305, 434, 113, 567, 576, 114]\n",
      "  pressure_nodes: [113, 567, 576, 114]\n",
      "Element 962:\n",
      "  all_nodes:      [1296, 1297, 1306, 1305, 567, 568, 577, 576]\n",
      "  pressure_nodes: [567, 568, 577, 576]\n",
      "Element 963:\n",
      "  all_nodes:      [1297, 1298, 1307, 1306, 568, 569, 578, 577]\n",
      "  pressure_nodes: [568, 569, 578, 577]\n",
      "Element 964:\n",
      "  all_nodes:      [1298, 1299, 1308, 1307, 569, 570, 579, 578]\n",
      "  pressure_nodes: [569, 570, 579, 578]\n",
      "Element 965:\n",
      "  all_nodes:      [1299, 1300, 1309, 1308, 570, 571, 580, 579]\n",
      "  pressure_nodes: [570, 571, 580, 579]\n",
      "Element 966:\n",
      "  all_nodes:      [1300, 1301, 1310, 1309, 571, 572, 581, 580]\n",
      "  pressure_nodes: [571, 572, 581, 580]\n",
      "Element 967:\n",
      "  all_nodes:      [1301, 1302, 1311, 1310, 572, 573, 582, 581]\n",
      "  pressure_nodes: [572, 573, 582, 581]\n",
      "Element 968:\n",
      "  all_nodes:      [1302, 1303, 1312, 1311, 573, 574, 583, 582]\n",
      "  pressure_nodes: [573, 574, 583, 582]\n",
      "Element 969:\n",
      "  all_nodes:      [1303, 1304, 1313, 1312, 574, 575, 584, 583]\n",
      "  pressure_nodes: [574, 575, 584, 583]\n",
      "Element 970:\n",
      "  all_nodes:      [1304, 275, 276, 1313, 575, 66, 65, 584]\n",
      "  pressure_nodes: [575, 66, 65, 584]\n",
      "Element 971:\n",
      "  all_nodes:      [434, 1305, 1314, 433, 114, 576, 585, 115]\n",
      "  pressure_nodes: [114, 576, 585, 115]\n",
      "Element 972:\n",
      "  all_nodes:      [1305, 1306, 1315, 1314, 576, 577, 586, 585]\n",
      "  pressure_nodes: [576, 577, 586, 585]\n",
      "Element 973:\n",
      "  all_nodes:      [1306, 1307, 1316, 1315, 577, 578, 587, 586]\n",
      "  pressure_nodes: [577, 578, 587, 586]\n",
      "Element 974:\n",
      "  all_nodes:      [1307, 1308, 1317, 1316, 578, 579, 588, 587]\n",
      "  pressure_nodes: [578, 579, 588, 587]\n",
      "Element 975:\n",
      "  all_nodes:      [1308, 1309, 1318, 1317, 579, 580, 589, 588]\n",
      "  pressure_nodes: [579, 580, 589, 588]\n",
      "Element 976:\n",
      "  all_nodes:      [1309, 1310, 1319, 1318, 580, 581, 590, 589]\n",
      "  pressure_nodes: [580, 581, 590, 589]\n",
      "Element 977:\n",
      "  all_nodes:      [1310, 1311, 1320, 1319, 581, 582, 591, 590]\n",
      "  pressure_nodes: [581, 582, 591, 590]\n",
      "Element 978:\n",
      "  all_nodes:      [1311, 1312, 1321, 1320, 582, 583, 592, 591]\n",
      "  pressure_nodes: [582, 583, 592, 591]\n",
      "Element 979:\n",
      "  all_nodes:      [1312, 1313, 1322, 1321, 583, 584, 593, 592]\n",
      "  pressure_nodes: [583, 584, 593, 592]\n",
      "Element 980:\n",
      "  all_nodes:      [1313, 276, 277, 1322, 584, 65, 64, 593]\n",
      "  pressure_nodes: [584, 65, 64, 593]\n",
      "Element 981:\n",
      "  all_nodes:      [433, 1314, 1323, 432, 115, 585, 594, 116]\n",
      "  pressure_nodes: [115, 585, 594, 116]\n",
      "Element 982:\n",
      "  all_nodes:      [1314, 1315, 1324, 1323, 585, 586, 595, 594]\n",
      "  pressure_nodes: [585, 586, 595, 594]\n",
      "Element 983:\n",
      "  all_nodes:      [1315, 1316, 1325, 1324, 586, 587, 596, 595]\n",
      "  pressure_nodes: [586, 587, 596, 595]\n",
      "Element 984:\n",
      "  all_nodes:      [1316, 1317, 1326, 1325, 587, 588, 597, 596]\n",
      "  pressure_nodes: [587, 588, 597, 596]\n",
      "Element 985:\n",
      "  all_nodes:      [1317, 1318, 1327, 1326, 588, 589, 598, 597]\n",
      "  pressure_nodes: [588, 589, 598, 597]\n",
      "Element 986:\n",
      "  all_nodes:      [1318, 1319, 1328, 1327, 589, 590, 599, 598]\n",
      "  pressure_nodes: [589, 590, 599, 598]\n",
      "Element 987:\n",
      "  all_nodes:      [1319, 1320, 1329, 1328, 590, 591, 600, 599]\n",
      "  pressure_nodes: [590, 591, 600, 599]\n",
      "Element 988:\n",
      "  all_nodes:      [1320, 1321, 1330, 1329, 591, 592, 601, 600]\n",
      "  pressure_nodes: [591, 592, 601, 600]\n",
      "Element 989:\n",
      "  all_nodes:      [1321, 1322, 1331, 1330, 592, 593, 602, 601]\n",
      "  pressure_nodes: [592, 593, 602, 601]\n",
      "Element 990:\n",
      "  all_nodes:      [1322, 277, 278, 1331, 593, 64, 63, 602]\n",
      "  pressure_nodes: [593, 64, 63, 602]\n",
      "Element 991:\n",
      "  all_nodes:      [432, 1323, 359, 89, 116, 594, 90, 8]\n",
      "  pressure_nodes: [116, 594, 90, 8]\n",
      "Element 992:\n",
      "  all_nodes:      [1323, 1324, 358, 359, 594, 595, 91, 90]\n",
      "  pressure_nodes: [594, 595, 91, 90]\n",
      "Element 993:\n",
      "  all_nodes:      [1324, 1325, 357, 358, 595, 596, 92, 91]\n",
      "  pressure_nodes: [595, 596, 92, 91]\n",
      "Element 994:\n",
      "  all_nodes:      [1325, 1326, 356, 357, 596, 597, 93, 92]\n",
      "  pressure_nodes: [596, 597, 93, 92]\n",
      "Element 995:\n",
      "  all_nodes:      [1326, 1327, 355, 356, 597, 598, 94, 93]\n",
      "  pressure_nodes: [597, 598, 94, 93]\n",
      "Element 996:\n",
      "  all_nodes:      [1327, 1328, 354, 355, 598, 599, 95, 94]\n",
      "  pressure_nodes: [598, 599, 95, 94]\n",
      "Element 997:\n",
      "  all_nodes:      [1328, 1329, 353, 354, 599, 600, 96, 95]\n",
      "  pressure_nodes: [599, 600, 96, 95]\n",
      "Element 998:\n",
      "  all_nodes:      [1329, 1330, 352, 353, 600, 601, 97, 96]\n",
      "  pressure_nodes: [600, 601, 97, 96]\n",
      "Element 999:\n",
      "  all_nodes:      [1330, 1331, 351, 352, 601, 602, 98, 97]\n",
      "  pressure_nodes: [601, 602, 98, 97]\n",
      "Element 1000:\n",
      "  all_nodes:      [1331, 278, 62, 351, 602, 63, 7, 98]\n",
      "  pressure_nodes: [602, 63, 7, 98]\n"
     ]
    }
   ],
   "source": [
    "# 2) Flatten pressure-node dict into a set of node IDs\n",
    "pressure_nodes_set = {\n",
    "    n\n",
    "    for nodes in pressure_nodes.values()\n",
    "    for n in nodes\n",
    "}\n",
    "\n",
    "mapping_element_pressure = map_pressure_to_elements(connectivity_list, pressure_nodes_set)\n",
    "#print(mapping.keys())\n",
    "# (3) inspect\n",
    "for eid, info in mapping_element_pressure.items():\n",
    "    print(f\"Element {eid}:\")\n",
    "    print(\"  all_nodes:     \", info['all_nodes'])\n",
    "    print(\"  pressure_nodes:\", info['pressure_nodes'])"
   ]
  },
  {
   "cell_type": "code",
   "execution_count": 24,
   "metadata": {},
   "outputs": [
    {
     "name": "stdout",
     "output_type": "stream",
     "text": [
      "Element 2:\n",
      "  all_nodes:      [9, 10, 514, 513, 117, 118, 604, 603]\n",
      "  pressure_nodes: [9, 10, 514, 513]\n",
      "Element 3:\n",
      "  all_nodes:      [10, 11, 515, 514, 118, 119, 605, 604]\n",
      "  pressure_nodes: [10, 11, 515, 514]\n",
      "Element 4:\n",
      "  all_nodes:      [11, 12, 516, 515, 119, 120, 606, 605]\n",
      "  pressure_nodes: [11, 12, 516, 515]\n",
      "Element 5:\n",
      "  all_nodes:      [12, 13, 517, 516, 120, 121, 607, 606]\n",
      "  pressure_nodes: [12, 13, 517, 516]\n",
      "Element 6:\n",
      "  all_nodes:      [13, 14, 518, 517, 121, 122, 608, 607]\n",
      "  pressure_nodes: [13, 14, 518, 517]\n",
      "Element 7:\n",
      "  all_nodes:      [14, 15, 519, 518, 122, 123, 609, 608]\n",
      "  pressure_nodes: [14, 15, 519, 518]\n",
      "Element 8:\n",
      "  all_nodes:      [15, 16, 520, 519, 123, 124, 610, 609]\n",
      "  pressure_nodes: [15, 16, 520, 519]\n",
      "Element 9:\n",
      "  all_nodes:      [16, 17, 521, 520, 124, 125, 611, 610]\n",
      "  pressure_nodes: [16, 17, 521, 520]\n",
      "Element 10:\n",
      "  all_nodes:      [17, 2, 45, 521, 125, 18, 198, 611]\n",
      "  pressure_nodes: [17, 2, 45, 521]\n",
      "Element 11:\n",
      "  all_nodes:      [107, 513, 504, 106, 368, 603, 612, 367]\n",
      "  pressure_nodes: [107, 513, 504, 106]\n",
      "Element 12:\n",
      "  all_nodes:      [513, 514, 505, 504, 603, 604, 613, 612]\n",
      "  pressure_nodes: [513, 514, 505, 504]\n",
      "Element 13:\n",
      "  all_nodes:      [514, 515, 506, 505, 604, 605, 614, 613]\n",
      "  pressure_nodes: [514, 515, 506, 505]\n",
      "Element 14:\n",
      "  all_nodes:      [515, 516, 507, 506, 605, 606, 615, 614]\n",
      "  pressure_nodes: [515, 516, 507, 506]\n",
      "Element 15:\n",
      "  all_nodes:      [516, 517, 508, 507, 606, 607, 616, 615]\n",
      "  pressure_nodes: [516, 517, 508, 507]\n",
      "Element 16:\n",
      "  all_nodes:      [517, 518, 509, 508, 607, 608, 617, 616]\n",
      "  pressure_nodes: [517, 518, 509, 508]\n",
      "Element 17:\n",
      "  all_nodes:      [518, 519, 510, 509, 608, 609, 618, 617]\n",
      "  pressure_nodes: [518, 519, 510, 509]\n",
      "Element 18:\n",
      "  all_nodes:      [519, 520, 511, 510, 609, 610, 619, 618]\n",
      "  pressure_nodes: [519, 520, 511, 510]\n",
      "Element 19:\n",
      "  all_nodes:      [520, 521, 512, 511, 610, 611, 620, 619]\n",
      "  pressure_nodes: [520, 521, 512, 511]\n",
      "Element 20:\n",
      "  all_nodes:      [521, 45, 46, 512, 611, 198, 199, 620]\n",
      "  pressure_nodes: [521, 45, 46, 512]\n",
      "Element 21:\n",
      "  all_nodes:      [106, 504, 495, 105, 367, 612, 621, 366]\n",
      "  pressure_nodes: [106, 504, 495, 105]\n",
      "Element 22:\n",
      "  all_nodes:      [504, 505, 496, 495, 612, 613, 622, 621]\n",
      "  pressure_nodes: [504, 505, 496, 495]\n",
      "Element 23:\n",
      "  all_nodes:      [505, 506, 497, 496, 613, 614, 623, 622]\n",
      "  pressure_nodes: [505, 506, 497, 496]\n",
      "Element 24:\n",
      "  all_nodes:      [506, 507, 498, 497, 614, 615, 624, 623]\n",
      "  pressure_nodes: [506, 507, 498, 497]\n",
      "Element 25:\n",
      "  all_nodes:      [507, 508, 499, 498, 615, 616, 625, 624]\n",
      "  pressure_nodes: [507, 508, 499, 498]\n",
      "Element 26:\n",
      "  all_nodes:      [508, 509, 500, 499, 616, 617, 626, 625]\n",
      "  pressure_nodes: [508, 509, 500, 499]\n",
      "Element 27:\n",
      "  all_nodes:      [509, 510, 501, 500, 617, 618, 627, 626]\n",
      "  pressure_nodes: [509, 510, 501, 500]\n",
      "Element 28:\n",
      "  all_nodes:      [510, 511, 502, 501, 618, 619, 628, 627]\n",
      "  pressure_nodes: [510, 511, 502, 501]\n",
      "Element 29:\n",
      "  all_nodes:      [511, 512, 503, 502, 619, 620, 629, 628]\n",
      "  pressure_nodes: [511, 512, 503, 502]\n",
      "Element 30:\n",
      "  all_nodes:      [512, 46, 47, 503, 620, 199, 200, 629]\n",
      "  pressure_nodes: [512, 46, 47, 503]\n",
      "Element 31:\n",
      "  all_nodes:      [105, 495, 486, 104, 366, 621, 630, 365]\n",
      "  pressure_nodes: [105, 495, 486, 104]\n",
      "Element 32:\n",
      "  all_nodes:      [495, 496, 487, 486, 621, 622, 631, 630]\n",
      "  pressure_nodes: [495, 496, 487, 486]\n",
      "Element 33:\n",
      "  all_nodes:      [496, 497, 488, 487, 622, 623, 632, 631]\n",
      "  pressure_nodes: [496, 497, 488, 487]\n",
      "Element 34:\n",
      "  all_nodes:      [497, 498, 489, 488, 623, 624, 633, 632]\n",
      "  pressure_nodes: [497, 498, 489, 488]\n",
      "Element 35:\n",
      "  all_nodes:      [498, 499, 490, 489, 624, 625, 634, 633]\n",
      "  pressure_nodes: [498, 499, 490, 489]\n",
      "Element 36:\n",
      "  all_nodes:      [499, 500, 491, 490, 625, 626, 635, 634]\n",
      "  pressure_nodes: [499, 500, 491, 490]\n",
      "Element 37:\n",
      "  all_nodes:      [500, 501, 492, 491, 626, 627, 636, 635]\n",
      "  pressure_nodes: [500, 501, 492, 491]\n",
      "Element 38:\n",
      "  all_nodes:      [501, 502, 493, 492, 627, 628, 637, 636]\n",
      "  pressure_nodes: [501, 502, 493, 492]\n",
      "Element 39:\n",
      "  all_nodes:      [502, 503, 494, 493, 628, 629, 638, 637]\n",
      "  pressure_nodes: [502, 503, 494, 493]\n",
      "Element 40:\n",
      "  all_nodes:      [503, 47, 48, 494, 629, 200, 201, 638]\n",
      "  pressure_nodes: [503, 47, 48, 494]\n",
      "Element 41:\n",
      "  all_nodes:      [104, 486, 477, 103, 365, 630, 639, 364]\n",
      "  pressure_nodes: [104, 486, 477, 103]\n",
      "Element 42:\n",
      "  all_nodes:      [486, 487, 478, 477, 630, 631, 640, 639]\n",
      "  pressure_nodes: [486, 487, 478, 477]\n",
      "Element 43:\n",
      "  all_nodes:      [487, 488, 479, 478, 631, 632, 641, 640]\n",
      "  pressure_nodes: [487, 488, 479, 478]\n",
      "Element 44:\n",
      "  all_nodes:      [488, 489, 480, 479, 632, 633, 642, 641]\n",
      "  pressure_nodes: [488, 489, 480, 479]\n",
      "Element 45:\n",
      "  all_nodes:      [489, 490, 481, 480, 633, 634, 643, 642]\n",
      "  pressure_nodes: [489, 490, 481, 480]\n",
      "Element 46:\n",
      "  all_nodes:      [490, 491, 482, 481, 634, 635, 644, 643]\n",
      "  pressure_nodes: [490, 491, 482, 481]\n",
      "Element 47:\n",
      "  all_nodes:      [491, 492, 483, 482, 635, 636, 645, 644]\n",
      "  pressure_nodes: [491, 492, 483, 482]\n",
      "Element 48:\n",
      "  all_nodes:      [492, 493, 484, 483, 636, 637, 646, 645]\n",
      "  pressure_nodes: [492, 493, 484, 483]\n",
      "Element 49:\n",
      "  all_nodes:      [493, 494, 485, 484, 637, 638, 647, 646]\n",
      "  pressure_nodes: [493, 494, 485, 484]\n",
      "Element 50:\n",
      "  all_nodes:      [494, 48, 49, 485, 638, 201, 202, 647]\n",
      "  pressure_nodes: [494, 48, 49, 485]\n",
      "Element 51:\n",
      "  all_nodes:      [103, 477, 468, 102, 364, 639, 648, 363]\n",
      "  pressure_nodes: [103, 477, 468, 102]\n",
      "Element 52:\n",
      "  all_nodes:      [477, 478, 469, 468, 639, 640, 649, 648]\n",
      "  pressure_nodes: [477, 478, 469, 468]\n",
      "Element 53:\n",
      "  all_nodes:      [478, 479, 470, 469, 640, 641, 650, 649]\n",
      "  pressure_nodes: [478, 479, 470, 469]\n",
      "Element 54:\n",
      "  all_nodes:      [479, 480, 471, 470, 641, 642, 651, 650]\n",
      "  pressure_nodes: [479, 480, 471, 470]\n",
      "Element 55:\n",
      "  all_nodes:      [480, 481, 472, 471, 642, 643, 652, 651]\n",
      "  pressure_nodes: [480, 481, 472, 471]\n",
      "Element 56:\n",
      "  all_nodes:      [481, 482, 473, 472, 643, 644, 653, 652]\n",
      "  pressure_nodes: [481, 482, 473, 472]\n",
      "Element 57:\n",
      "  all_nodes:      [482, 483, 474, 473, 644, 645, 654, 653]\n",
      "  pressure_nodes: [482, 483, 474, 473]\n",
      "Element 58:\n",
      "  all_nodes:      [483, 484, 475, 474, 645, 646, 655, 654]\n",
      "  pressure_nodes: [483, 484, 475, 474]\n",
      "Element 59:\n",
      "  all_nodes:      [484, 485, 476, 475, 646, 647, 656, 655]\n",
      "  pressure_nodes: [484, 485, 476, 475]\n",
      "Element 60:\n",
      "  all_nodes:      [485, 49, 50, 476, 647, 202, 203, 656]\n",
      "  pressure_nodes: [485, 49, 50, 476]\n",
      "Element 61:\n",
      "  all_nodes:      [102, 468, 459, 101, 363, 648, 657, 362]\n",
      "  pressure_nodes: [102, 468, 459, 101]\n",
      "Element 62:\n",
      "  all_nodes:      [468, 469, 460, 459, 648, 649, 658, 657]\n",
      "  pressure_nodes: [468, 469, 460, 459]\n",
      "Element 63:\n",
      "  all_nodes:      [469, 470, 461, 460, 649, 650, 659, 658]\n",
      "  pressure_nodes: [469, 470, 461, 460]\n",
      "Element 64:\n",
      "  all_nodes:      [470, 471, 462, 461, 650, 651, 660, 659]\n",
      "  pressure_nodes: [470, 471, 462, 461]\n",
      "Element 65:\n",
      "  all_nodes:      [471, 472, 463, 462, 651, 652, 661, 660]\n",
      "  pressure_nodes: [471, 472, 463, 462]\n",
      "Element 66:\n",
      "  all_nodes:      [472, 473, 464, 463, 652, 653, 662, 661]\n",
      "  pressure_nodes: [472, 473, 464, 463]\n",
      "Element 67:\n",
      "  all_nodes:      [473, 474, 465, 464, 653, 654, 663, 662]\n",
      "  pressure_nodes: [473, 474, 465, 464]\n",
      "Element 68:\n",
      "  all_nodes:      [474, 475, 466, 465, 654, 655, 664, 663]\n",
      "  pressure_nodes: [474, 475, 466, 465]\n",
      "Element 69:\n",
      "  all_nodes:      [475, 476, 467, 466, 655, 656, 665, 664]\n",
      "  pressure_nodes: [475, 476, 467, 466]\n",
      "Element 70:\n",
      "  all_nodes:      [476, 50, 51, 467, 656, 203, 204, 665]\n",
      "  pressure_nodes: [476, 50, 51, 467]\n",
      "Element 71:\n",
      "  all_nodes:      [101, 459, 450, 100, 362, 657, 666, 361]\n",
      "  pressure_nodes: [101, 459, 450, 100]\n",
      "Element 72:\n",
      "  all_nodes:      [459, 460, 451, 450, 657, 658, 667, 666]\n",
      "  pressure_nodes: [459, 460, 451, 450]\n",
      "Element 73:\n",
      "  all_nodes:      [460, 461, 452, 451, 658, 659, 668, 667]\n",
      "  pressure_nodes: [460, 461, 452, 451]\n",
      "Element 74:\n",
      "  all_nodes:      [461, 462, 453, 452, 659, 660, 669, 668]\n",
      "  pressure_nodes: [461, 462, 453, 452]\n",
      "Element 75:\n",
      "  all_nodes:      [462, 463, 454, 453, 660, 661, 670, 669]\n",
      "  pressure_nodes: [462, 463, 454, 453]\n",
      "Element 76:\n",
      "  all_nodes:      [463, 464, 455, 454, 661, 662, 671, 670]\n",
      "  pressure_nodes: [463, 464, 455, 454]\n",
      "Element 77:\n",
      "  all_nodes:      [464, 465, 456, 455, 662, 663, 672, 671]\n",
      "  pressure_nodes: [464, 465, 456, 455]\n",
      "Element 78:\n",
      "  all_nodes:      [465, 466, 457, 456, 663, 664, 673, 672]\n",
      "  pressure_nodes: [465, 466, 457, 456]\n",
      "Element 79:\n",
      "  all_nodes:      [466, 467, 458, 457, 664, 665, 674, 673]\n",
      "  pressure_nodes: [466, 467, 458, 457]\n",
      "Element 80:\n",
      "  all_nodes:      [467, 51, 52, 458, 665, 204, 205, 674]\n",
      "  pressure_nodes: [467, 51, 52, 458]\n",
      "Element 81:\n",
      "  all_nodes:      [100, 450, 441, 99, 361, 666, 675, 360]\n",
      "  pressure_nodes: [100, 450, 441, 99]\n",
      "Element 82:\n",
      "  all_nodes:      [450, 451, 442, 441, 666, 667, 676, 675]\n",
      "  pressure_nodes: [450, 451, 442, 441]\n",
      "Element 83:\n",
      "  all_nodes:      [451, 452, 443, 442, 667, 668, 677, 676]\n",
      "  pressure_nodes: [451, 452, 443, 442]\n",
      "Element 84:\n",
      "  all_nodes:      [452, 453, 444, 443, 668, 669, 678, 677]\n",
      "  pressure_nodes: [452, 453, 444, 443]\n",
      "Element 85:\n",
      "  all_nodes:      [453, 454, 445, 444, 669, 670, 679, 678]\n",
      "  pressure_nodes: [453, 454, 445, 444]\n",
      "Element 86:\n",
      "  all_nodes:      [454, 455, 446, 445, 670, 671, 680, 679]\n",
      "  pressure_nodes: [454, 455, 446, 445]\n",
      "Element 87:\n",
      "  all_nodes:      [455, 456, 447, 446, 671, 672, 681, 680]\n",
      "  pressure_nodes: [455, 456, 447, 446]\n",
      "Element 88:\n",
      "  all_nodes:      [456, 457, 448, 447, 672, 673, 682, 681]\n",
      "  pressure_nodes: [456, 457, 448, 447]\n",
      "Element 89:\n",
      "  all_nodes:      [457, 458, 449, 448, 673, 674, 683, 682]\n",
      "  pressure_nodes: [457, 458, 449, 448]\n",
      "Element 90:\n",
      "  all_nodes:      [458, 52, 53, 449, 674, 205, 206, 683]\n",
      "  pressure_nodes: [458, 52, 53, 449]\n",
      "Element 91:\n",
      "  all_nodes:      [99, 441, 80, 4, 360, 675, 287, 81]\n",
      "  pressure_nodes: [99, 441, 80, 4]\n",
      "Element 92:\n",
      "  all_nodes:      [441, 442, 79, 80, 675, 676, 286, 287]\n",
      "  pressure_nodes: [441, 442, 79, 80]\n",
      "Element 93:\n",
      "  all_nodes:      [442, 443, 78, 79, 676, 677, 285, 286]\n",
      "  pressure_nodes: [442, 443, 78, 79]\n",
      "Element 94:\n",
      "  all_nodes:      [443, 444, 77, 78, 677, 678, 284, 285]\n",
      "  pressure_nodes: [443, 444, 77, 78]\n",
      "Element 95:\n",
      "  all_nodes:      [444, 445, 76, 77, 678, 679, 283, 284]\n",
      "  pressure_nodes: [444, 445, 76, 77]\n",
      "Element 96:\n",
      "  all_nodes:      [445, 446, 75, 76, 679, 680, 282, 283]\n",
      "  pressure_nodes: [445, 446, 75, 76]\n",
      "Element 97:\n",
      "  all_nodes:      [446, 447, 74, 75, 680, 681, 281, 282]\n",
      "  pressure_nodes: [446, 447, 74, 75]\n",
      "Element 98:\n",
      "  all_nodes:      [447, 448, 73, 74, 681, 682, 280, 281]\n",
      "  pressure_nodes: [447, 448, 73, 74]\n",
      "Element 99:\n",
      "  all_nodes:      [448, 449, 72, 73, 682, 683, 279, 280]\n",
      "  pressure_nodes: [448, 449, 72, 73]\n",
      "Element 100:\n",
      "  all_nodes:      [449, 53, 3, 72, 683, 206, 54, 279]\n",
      "  pressure_nodes: [449, 53, 3, 72]\n"
     ]
    }
   ],
   "source": [
    "# 2) Flatten pressure-node dict into a set of node IDs\n",
    "ZD_nodes_set = {\n",
    "    n\n",
    "    for nodes in ZD_nodes.values()\n",
    "    for n in nodes\n",
    "}\n",
    "\n",
    "mapping_element_ZD = map_pressure_to_elements(connectivity_list, ZD_nodes_set)\n",
    "#print(mapping.keys())\n",
    "# (3) inspect\n",
    "for eid, info in mapping_element_ZD.items():\n",
    "    print(f\"Element {eid}:\")\n",
    "    print(\"  all_nodes:     \", info['all_nodes'])\n",
    "    print(\"  pressure_nodes:\", info['pressure_nodes'])"
   ]
  },
  {
   "cell_type": "code",
   "execution_count": 25,
   "metadata": {},
   "outputs": [],
   "source": [
    "pressure_element_IDs=list(mapping_element_pressure.keys())\n",
    "\n",
    "pressure_element_IDs_final = torch.tensor([nid - 1 for nid in pressure_element_IDs], dtype=torch.long)\n",
    "\n",
    "#len(pressure_element_IDs_final)"
   ]
  },
  {
   "cell_type": "code",
   "execution_count": 26,
   "metadata": {},
   "outputs": [],
   "source": [
    "ZD_element_IDs=list(mapping_element_ZD.keys())\n",
    "\n",
    "ZD_element_IDs_final = torch.tensor([nid - 1 for nid in ZD_element_IDs], dtype=torch.long)\n",
    "\n",
    "#len(pressure_element_IDs_final)"
   ]
  },
  {
   "cell_type": "code",
   "execution_count": 27,
   "metadata": {},
   "outputs": [
    {
     "data": {
      "text/plain": [
       "(tensor([ 1,  2,  3,  4,  5,  6,  7,  8,  9, 10, 11, 12, 13, 14, 15, 16, 17, 18,\n",
       "         19, 20, 21, 22, 23, 24, 25, 26, 27, 28, 29, 30, 31, 32, 33, 34, 35, 36,\n",
       "         37, 38, 39, 40, 41, 42, 43, 44, 45, 46, 47, 48, 49, 50, 51, 52, 53, 54,\n",
       "         55, 56, 57, 58, 59, 60, 61, 62, 63, 64, 65, 66, 67, 68, 69, 70, 71, 72,\n",
       "         73, 74, 75, 76, 77, 78, 79, 80, 81, 82, 83, 84, 85, 86, 87, 88, 89, 90,\n",
       "         91, 92, 93, 94, 95, 96, 97, 98, 99]),\n",
       " [2,\n",
       "  3,\n",
       "  4,\n",
       "  5,\n",
       "  6,\n",
       "  7,\n",
       "  8,\n",
       "  9,\n",
       "  10,\n",
       "  11,\n",
       "  12,\n",
       "  13,\n",
       "  14,\n",
       "  15,\n",
       "  16,\n",
       "  17,\n",
       "  18,\n",
       "  19,\n",
       "  20,\n",
       "  21,\n",
       "  22,\n",
       "  23,\n",
       "  24,\n",
       "  25,\n",
       "  26,\n",
       "  27,\n",
       "  28,\n",
       "  29,\n",
       "  30,\n",
       "  31,\n",
       "  32,\n",
       "  33,\n",
       "  34,\n",
       "  35,\n",
       "  36,\n",
       "  37,\n",
       "  38,\n",
       "  39,\n",
       "  40,\n",
       "  41,\n",
       "  42,\n",
       "  43,\n",
       "  44,\n",
       "  45,\n",
       "  46,\n",
       "  47,\n",
       "  48,\n",
       "  49,\n",
       "  50,\n",
       "  51,\n",
       "  52,\n",
       "  53,\n",
       "  54,\n",
       "  55,\n",
       "  56,\n",
       "  57,\n",
       "  58,\n",
       "  59,\n",
       "  60,\n",
       "  61,\n",
       "  62,\n",
       "  63,\n",
       "  64,\n",
       "  65,\n",
       "  66,\n",
       "  67,\n",
       "  68,\n",
       "  69,\n",
       "  70,\n",
       "  71,\n",
       "  72,\n",
       "  73,\n",
       "  74,\n",
       "  75,\n",
       "  76,\n",
       "  77,\n",
       "  78,\n",
       "  79,\n",
       "  80,\n",
       "  81,\n",
       "  82,\n",
       "  83,\n",
       "  84,\n",
       "  85,\n",
       "  86,\n",
       "  87,\n",
       "  88,\n",
       "  89,\n",
       "  90,\n",
       "  91,\n",
       "  92,\n",
       "  93,\n",
       "  94,\n",
       "  95,\n",
       "  96,\n",
       "  97,\n",
       "  98,\n",
       "  99,\n",
       "  100])"
      ]
     },
     "execution_count": 27,
     "metadata": {},
     "output_type": "execute_result"
    }
   ],
   "source": [
    "ZD_element_IDs_final, ZD_element_IDs"
   ]
  },
  {
   "cell_type": "code",
   "execution_count": 28,
   "metadata": {},
   "outputs": [
    {
     "name": "stdout",
     "output_type": "stream",
     "text": [
      "torch.Size([100, 3, 11])\n",
      "torch.Size([100, 3, 11])\n"
     ]
    }
   ],
   "source": [
    "\n",
    "#Get normals of surfaces where pressure is applied\n",
    "# 1) zero‐based indices for those nodes:\n",
    "idx = torch.tensor([nid - 1 for nid in pressure_node_ids], dtype=torch.long)\n",
    "idx_ZD = torch.tensor([nid - 1 for nid in ZD_node_ids], dtype=torch.long)\n",
    "\n",
    "# 2) index into the first dimension:\n",
    "#    result has shape (100, 3, 11)\n",
    "pressure_normals = surface_normal_tensor[idx, :, :]\n",
    "area_normals = area_tensor[idx, :, :]\n",
    "\n",
    "#ZD:\n",
    "ZD_normals = surface_normal_tensor[idx_ZD, :, :]\n",
    "ZD_areas = area_tensor[idx_ZD, :, :]\n",
    "\n",
    "\n",
    "print(pressure_normals.shape)  # → torch.Size([100, 3, 11])\n",
    "print(ZD_normals.shape)  # → torch.Size([100, 3, 11])"
   ]
  },
  {
   "cell_type": "code",
   "execution_count": 29,
   "metadata": {},
   "outputs": [
    {
     "name": "stdout",
     "output_type": "stream",
     "text": [
      "max idx = 999\n",
      "min idx = 900\n"
     ]
    }
   ],
   "source": [
    "#print(\"VF.shape =\", VF.shape)\n",
    "print(\"max idx =\", max(pressure_element_IDs_final).item())\n",
    "print(\"min idx =\", min(pressure_element_IDs_final).item())\n"
   ]
  },
  {
   "cell_type": "markdown",
   "metadata": {},
   "source": [
    "# Architecture"
   ]
  },
  {
   "cell_type": "code",
   "execution_count": 30,
   "metadata": {},
   "outputs": [
    {
     "name": "stdout",
     "output_type": "stream",
     "text": [
      "The autoreload extension is already loaded. To reload it, use:\n",
      "  %reload_ext autoreload\n"
     ]
    }
   ],
   "source": [
    "%load_ext autoreload\n",
    "%autoreload 2"
   ]
  },
  {
   "cell_type": "code",
   "execution_count": 31,
   "metadata": {},
   "outputs": [
    {
     "ename": "NameError",
     "evalue": "name 'model' is not defined",
     "output_type": "error",
     "traceback": [
      "\u001b[0;31m---------------------------------------------------------------------------\u001b[0m",
      "\u001b[0;31mNameError\u001b[0m                                 Traceback (most recent call last)",
      "Cell \u001b[0;32mIn[31], line 1\u001b[0m\n\u001b[0;32m----> 1\u001b[0m \u001b[38;5;28;01mdel\u001b[39;00m model\n",
      "\u001b[0;31mNameError\u001b[0m: name 'model' is not defined"
     ]
    }
   ],
   "source": [
    "del model"
   ]
  },
  {
   "cell_type": "code",
   "execution_count": 32,
   "metadata": {},
   "outputs": [],
   "source": [
    "from model import *\n",
    "\n",
    "vf_number=2 #linear elastic is 2 parameters\n",
    "model = ICNN3D_Taylor_multifield_with_neg(n_input=3,\n",
    "                n_hidden=[64,64,64],\n",
    "                n_output=30,\n",
    "                use_dropout=True,\n",
    "                dropout_rate=0.2,\n",
    "                centroids=True, p_fields=vf_number)"
   ]
  },
  {
   "cell_type": "code",
   "execution_count": 33,
   "metadata": {},
   "outputs": [
    {
     "data": {
      "text/plain": [
       "=================================================================\n",
       "Layer (type:depth-idx)                   Param #\n",
       "=================================================================\n",
       "ICNN3D_Taylor_multifield_with_neg        --\n",
       "├─ModuleDict: 1-1                        --\n",
       "│    └─Linear: 2-1                       448\n",
       "│    └─Linear: 2-2                       4,160\n",
       "│    └─Linear: 2-3                       4,160\n",
       "│    └─Linear: 2-4                       3,900\n",
       "├─ModuleDict: 1-2                        --\n",
       "│    └─Linear: 2-5                       448\n",
       "│    └─Linear: 2-6                       448\n",
       "│    └─Linear: 2-7                       420\n",
       "├─AdaptiveAvgPool1d: 1-3                 --\n",
       "=================================================================\n",
       "Total params: 13,984\n",
       "Trainable params: 13,984\n",
       "Non-trainable params: 0\n",
       "================================================================="
      ]
     },
     "execution_count": 33,
     "metadata": {},
     "output_type": "execute_result"
    }
   ],
   "source": [
    "from torchinfo import summary\n",
    "model = model.to(device)\n",
    "summary(model)"
   ]
  },
  {
   "cell_type": "markdown",
   "metadata": {},
   "source": [
    "## Training loop"
   ]
  },
  {
   "cell_type": "code",
   "execution_count": 34,
   "metadata": {},
   "outputs": [
    {
     "data": {
      "text/plain": [
       "(torch.Size([1000, 9, 11]),\n",
       " torch.Size([1000, 6, 11]),\n",
       " torch.Size([1000, 3, 11]))"
      ]
     },
     "execution_count": 34,
     "metadata": {},
     "output_type": "execute_result"
    }
   ],
   "source": [
    "F_tensor.shape, stress_tensor.shape, centroids_tensor.shape"
   ]
  },
  {
   "cell_type": "code",
   "execution_count": 35,
   "metadata": {},
   "outputs": [
    {
     "data": {
      "text/plain": [
       "torch.Size([1000, 12, 11])"
      ]
     },
     "execution_count": 35,
     "metadata": {},
     "output_type": "execute_result"
    }
   ],
   "source": [
    "x_input= torch.cat(( F_tensor.to(device),centroids_tensor.to(device)), dim=1)\n",
    "#x_input= F_tensor.to(device)\n",
    "x_input.shape"
   ]
  },
  {
   "cell_type": "code",
   "execution_count": null,
   "metadata": {},
   "outputs": [],
   "source": [
    "stress_tensor_3d=Voigt_to_3d(stress_tensor)"
   ]
  },
  {
   "cell_type": "code",
   "execution_count": 37,
   "metadata": {},
   "outputs": [
    {
     "data": {
      "text/plain": [
       "ICNN3D_Taylor_multifield_with_neg(\n",
       "  (layers): ModuleDict(\n",
       "    (0): Linear(in_features=6, out_features=64, bias=True)\n",
       "    (1): Linear(in_features=64, out_features=64, bias=True)\n",
       "    (2): Linear(in_features=64, out_features=64, bias=True)\n",
       "    (3): Linear(in_features=64, out_features=60, bias=True)\n",
       "  )\n",
       "  (skip_layers): ModuleDict(\n",
       "    (1): Linear(in_features=6, out_features=64, bias=True)\n",
       "    (2): Linear(in_features=6, out_features=64, bias=True)\n",
       "    (3): Linear(in_features=6, out_features=60, bias=True)\n",
       "  )\n",
       "  (global_pooling): AdaptiveAvgPool1d(output_size=1)\n",
       ")"
      ]
     },
     "execution_count": 37,
     "metadata": {},
     "output_type": "execute_result"
    }
   ],
   "source": [
    "model.apply(init_weights)"
   ]
  },
  {
   "cell_type": "code",
   "execution_count": 38,
   "metadata": {},
   "outputs": [],
   "source": [
    "\n",
    "def evaluate_vf_values(V_NN: torch.Tensor, delta_xyz: torch.Tensor):\n",
    "    \"\"\"\n",
    "    Evaluate p global Taylor‐expanded virtual fields at N points.\n",
    "\n",
    "    Args:\n",
    "        V_NN       (torch.Tensor): shape [p, 30], Taylor coefficients for p fields\n",
    "        delta_xyz  (torch.Tensor): shape [N,  3], the (x,y,z) offsets\n",
    "\n",
    "    Returns:\n",
    "        torch.Tensor: shape [p, N, 3], where each slice [k] is the (Vx,Vy,Vz)\n",
    "                      values of the k+th virtual field at all N points.\n",
    "    \"\"\"\n",
    "    # Split out the 10‐wide blocks for Vx, Vy, Vz respectively\n",
    "    Vx_coeff = V_NN[:,  0:10]   # [p,10]\n",
    "    Vy_coeff = V_NN[:, 10:20]\n",
    "    Vz_coeff = V_NN[:, 20:30]\n",
    "\n",
    "    # Build the N×10 design matrix of monomials\n",
    "    x, y, z = delta_xyz[:,0], delta_xyz[:,1], delta_xyz[:,2]\n",
    "    B = torch.stack([\n",
    "        torch.ones_like(x),\n",
    "        x, y, z,\n",
    "        x**2, y**2, z**2,\n",
    "        x*y, x*z, y*z\n",
    "    ], dim=1)  # [N,10]\n",
    "\n",
    "    # Multiply coefficients by monomials: (p×10) @ (10×N) → (p×N)\n",
    "    Vx_vals = Vx_coeff @ B.T\n",
    "    Vy_vals = Vy_coeff @ B.T\n",
    "    Vz_vals = Vz_coeff @ B.T\n",
    "\n",
    "    # Stack into (p, N, 3)\n",
    "    return torch.stack([Vx_vals, Vy_vals, Vz_vals], dim=2)\n"
   ]
  },
  {
   "cell_type": "code",
   "execution_count": 39,
   "metadata": {},
   "outputs": [],
   "source": [
    "import torch\n",
    "\n",
    "def construct_VF_gradients_batch(V_NN: torch.Tensor, delta_xyz: torch.Tensor) -> torch.Tensor:\n",
    "    \"\"\"\n",
    "    Vectorized gradient of p global Taylor‐expanded VFs at N points.\n",
    "\n",
    "    Args:\n",
    "        V_NN       (torch.Tensor): shape [p, 30], Taylor coefficients for p VFs\n",
    "        delta_xyz  (torch.Tensor): shape [N,  3], the (x,y,z) offsets\n",
    "\n",
    "    Returns:\n",
    "        torch.Tensor: shape [p, N, 3, 3], where\n",
    "                      out[k,i] is the 3×3 gradient tensor of the k-th VF at point i.\n",
    "    \"\"\"\n",
    "    p, coeff_len = V_NN.shape\n",
    "    N, _         = delta_xyz.shape\n",
    "    if coeff_len != 30:\n",
    "        raise ValueError(f\"Expected V_NN with 30 coefficients, got {coeff_len}\")\n",
    "\n",
    "    # Prepare delta for broadcasting: [1, N]\n",
    "    dx = delta_xyz[:, 0].unsqueeze(0)\n",
    "    dy = delta_xyz[:, 1].unsqueeze(0)\n",
    "    dz = delta_xyz[:, 2].unsqueeze(0)\n",
    "\n",
    "    # Split into Vx, Vy, Vz coefficient blocks [p,10]\n",
    "    a = V_NN[:,  0:10]\n",
    "    b = V_NN[:, 10:20]\n",
    "    c = V_NN[:, 20:30]\n",
    "\n",
    "    # Helper to extract and unsqueeze a given index\n",
    "    def e(block, idx):\n",
    "        return block[:, idx].unsqueeze(1)  # [p,1]\n",
    "\n",
    "    # Extract and unsqueeze needed coeffs\n",
    "    a1,a2,a3 = e(a,1), e(a,2), e(a,3)\n",
    "    a4,a5,a6 = e(a,4), e(a,5), e(a,6)\n",
    "    a7,a8,a9 = e(a,7), e(a,8), e(a,9)\n",
    "    b1,b2,b3 = e(b,1), e(b,2), e(b,3)\n",
    "    b4,b5,b6 = e(b,4), e(b,5), e(b,6)\n",
    "    b7,b8,b9 = e(b,7), e(b,8), e(b,9)\n",
    "    c1,c2,c3 = e(c,1), e(c,2), e(c,3)\n",
    "    c4,c5,c6 = e(c,4), e(c,5), e(c,6)\n",
    "    c7,c8,c9 = e(c,7), e(c,8), e(c,9)\n",
    "\n",
    "    # Compute partials [p,N]\n",
    "    dVx_dx = +a1 + 2*a4*dx +    a7*dy +    a8*dz\n",
    "    dVx_dy = +a2 +    a7*dx + 2*a5*dy +    a9*dz\n",
    "    dVx_dz = +a3 +    a8*dx +    a9*dy + 2*a6*dz\n",
    "\n",
    "    dVy_dx = +b1 + 2*b4*dx +    b7*dy +    b8*dz\n",
    "    dVy_dy = +b2 +    b7*dx + 2*b5*dy +    b9*dz\n",
    "    dVy_dz = +b3 +    b8*dx +    b9*dy + 2*b6*dz\n",
    "\n",
    "    dVz_dx = +c1 + 2*c4*dx +    c7*dy +    c8*dz\n",
    "    dVz_dy = +c2 +    c7*dx + 2*c5*dy +    c9*dz\n",
    "    dVz_dz = +c3 +    c8*dx +    c9*dy + 2*c6*dz\n",
    "\n",
    "    # Stack into [p,N,3,3]\n",
    "    grad = torch.stack([\n",
    "        torch.stack([dVx_dx, dVx_dy, dVx_dz], dim=2),\n",
    "        torch.stack([dVy_dx, dVy_dy, dVy_dz], dim=2),\n",
    "        torch.stack([dVz_dx, dVz_dy, dVz_dz], dim=2)\n",
    "    ], dim=2)\n",
    "\n",
    "    return grad\n"
   ]
  },
  {
   "cell_type": "markdown",
   "metadata": {},
   "source": [
    "#### Train\n",
    "If we keep the strain pointwise throughout the solid we can get a map of parameters..."
   ]
  },
  {
   "cell_type": "code",
   "execution_count": 67,
   "metadata": {},
   "outputs": [
    {
     "name": "stdout",
     "output_type": "stream",
     "text": [
      "Epoch    0 │ W_int (internal work): -1.87e-01 │ W_ext (external work): -1.53e-01 │ Zero Displacement term:  1.31e-01 │ Special Loss term:  1.0738e+00 │ Loss:  1.31e+00\n",
      "Epoch   50 │ W_int (internal work): -1.53e-01 │ W_ext (external work): -1.75e-01 │ Zero Displacement term:  1.20e-01 │ Special Loss term:  1.0907e+00 │ Loss:  1.28e+00\n",
      "Epoch  100 │ W_int (internal work): -1.27e-01 │ W_ext (external work): -1.36e-01 │ Zero Displacement term:  1.06e-01 │ Special Loss term:  1.1182e+00 │ Loss:  1.25e+00\n",
      "Epoch  150 │ W_int (internal work): -6.34e-02 │ W_ext (external work):  6.05e-03 │ Zero Displacement term:  8.76e-02 │ Special Loss term:  1.1411e+00 │ Loss:  1.23e+00\n",
      "Epoch  200 │ W_int (internal work): -3.27e-02 │ W_ext (external work):  6.64e-02 │ Zero Displacement term:  6.42e-02 │ Special Loss term:  1.1798e+00 │ Loss:  1.21e+00\n",
      "Epoch  250 │ W_int (internal work): -4.05e-02 │ W_ext (external work): -2.42e-01 │ Zero Displacement term:  3.07e-02 │ Special Loss term:  1.2380e+00 │ Loss:  1.20e+00\n",
      "Epoch  300 │ W_int (internal work):  3.72e-02 │ W_ext (external work): -1.60e-01 │ Zero Displacement term:  1.49e-02 │ Special Loss term:  1.2160e+00 │ Loss:  1.15e+00\n",
      "Epoch  350 │ W_int (internal work):  7.57e-02 │ W_ext (external work):  2.88e-01 │ Zero Displacement term:  9.26e-03 │ Special Loss term:  1.1984e+00 │ Loss:  1.21e+00\n",
      "Epoch  400 │ W_int (internal work):  4.83e-02 │ W_ext (external work): -4.92e-02 │ Zero Displacement term:  6.84e-03 │ Special Loss term:  1.2124e+00 │ Loss:  1.14e+00\n",
      "Epoch  450 │ W_int (internal work):  3.42e-02 │ W_ext (external work): -1.53e-01 │ Zero Displacement term:  5.24e-03 │ Special Loss term:  1.2099e+00 │ Loss:  1.16e+00\n"
     ]
    }
   ],
   "source": [
    "epoch=500\n",
    "# Adam with a learning rate:\n",
    "optimizer = torch.optim.Adam(model.parameters(), lr=1e-3)\n",
    "#Number of states:\n",
    "states=x_input.shape[2]\n",
    "N_pressure_dofs=len(pressure_element_IDs_final)\n",
    "N_ZD_dofs=len(ZD_element_IDs_final)\n",
    "#loss_list=[]\n",
    "keys = ['Internal', 'External', 'ZD','Special']\n",
    "#work_dict = { key: [] for key in keys }\n",
    "for i in range(epoch):\n",
    "    optimizer.zero_grad()#reset gradients\n",
    "    loss = torch.zeros((), device=device)    # scalar, same dtype/device\n",
    "    #Estimate\n",
    "    for s in range(1,states):\n",
    "        V_NN=model(x_input[:,:,s]) #This is VF,30\n",
    "\n",
    "        delta_xyz=calculate_point(centroids_tensor, s) #This is N elements x3\n",
    "\n",
    "        VF_values = evaluate_vf_values(V_NN, delta_xyz) #This is p, N, 3 \n",
    "        \n",
    "        \n",
    "        grad_VF= construct_VF_gradients_batch(V_NN, delta_xyz) #This is p,N,3,3 . \n",
    "\n",
    "        #Strain\n",
    "        virtual_strain=0.5*(grad_VF+grad_VF.transpose(2,3))\n",
    "\n",
    "        #Volume integral:\n",
    "        # element‐wise inner product σ^e : ∇v^e\n",
    "        integrand = torch.sum(stress_tensor_3d[:,:,:,s].unsqueeze(0) * virtual_strain, dim=(2, 3)) # → shape [p,N]\n",
    "       # print(f'Integrand shape: {integrand.shape}')\n",
    "        W_int = torch.sum(integrand * volume_tensor[:,0,s].unsqueeze(0) ,dim=(0,1))/(Nelements*vf_number)\n",
    "\n",
    "       # print(f'W_int shape: {W_int.shape}')\n",
    "        #Surface integral\n",
    "        t_surface=pressure_normals[:,:,s]*10000 #t_surface is N,3 (elements x xyz)\n",
    "     #   print(f'W_int shape: {W_int.shape}')\n",
    "        dot = (VF_values[:,pressure_element_IDs_final,:]* t_surface.unsqueeze(0)).sum(dim=2)  # shape: [3, 100]\n",
    "\n",
    "        W_ext=torch.sum(dot*area_normals[:,:,s].T,dim=(0,1))/(N_pressure_dofs*vf_number)\n",
    "\n",
    "        ## Add ZD term:\n",
    "        ZD_regularization=torch.sum(VF_values[:,ZD_element_IDs_final,:]**2, dim=(0,1,2))/(N_ZD_dofs*vf_number)\n",
    "\n",
    "\n",
    "        ## SPECIAL VIRTUAL FIELDS\n",
    "        # 1) Extract normal & shear strains from strain_tensor (Voigt):\n",
    "        ε_xx = strain_tensor[:, 0, s] #.detach().cpu().numpy()   # (1000,)\n",
    "        ε_yy = strain_tensor[:, 1,s]#.detach().cpu().numpy()\n",
    "        ε_zz = strain_tensor[:, 2,s]#.detach().cpu().numpy()\n",
    "        ε_xy = strain_tensor[:, 3,s]#.detach().cpu().numpy()\n",
    "        ε_yz = strain_tensor[:, 4,s]#.detach().cpu().numpy()\n",
    "        ε_zx = strain_tensor[:, 5,s]#.detach().cpu().numpy()\n",
    "\n",
    "        # 2) Extract corresponding dotted strains from virtual_strain:\n",
    "        εd_xx = virtual_strain[:,:, 0, 0]\n",
    "        εd_yy = virtual_strain[:,:, 1, 1]\n",
    "        εd_zz = virtual_strain[:,:, 2, 2]\n",
    "        εd_xy = virtual_strain[:,:, 0, 1]  # = virtual_strain[:,1,0]\n",
    "        εd_yz = virtual_strain[:,:, 1, 2]  # = virtual_strain[:,2,1]\n",
    "        εd_zx = virtual_strain[:,:, 2, 0]  # = virtual_strain[:,0,2]\n",
    "\n",
    "\n",
    "        #Now the A matrix:\n",
    "\n",
    "        A1= (ε_xx+ε_yy+ε_zz)*(εd_xx+εd_yy+εd_zz)* volume_tensor[:,0,s]\n",
    "        A2= (ε_xx * εd_xx + ε_yy * εd_yy +ε_zz * εd_zz +2 * (ε_xy * εd_xy +ε_yz * εd_yz +ε_zx * εd_zx))* volume_tensor[:,0,s]\n",
    "\n",
    "       # print(A1.sum().item())\n",
    "        #print(A2.sum().item())\n",
    "#\n",
    "        A = torch.stack([A1, A2], dim=1)  # -> (1000,6)\n",
    "        M = A.mean(dim=2)                   # shape (2, 2):  M[k] = [ I_v^(k), I_d^(k) ]\n",
    "\n",
    "      #  print(A.sum().item())\n",
    "        # 1) make a [6,6,1] identity tensor\n",
    "\n",
    "        I = torch.eye(2, device=A.device) #.unsqueeze(2)   # now I.shape == (6,6,1)\n",
    "\n",
    "        # 2) subtract it from each slice of A\n",
    "        A_minus_I = A.mean(dim=2)*1e5 - I   # broadcasts I to (6,6,1000)\n",
    "        #print(A_minus_I.sum().item())\n",
    "        \n",
    "        special_loss = torch.sum(A_minus_I**2)\n",
    "\n",
    "        #Loss:\n",
    "        loss+=(W_int-W_ext)**2+ZD_regularization+special_loss*0.1\n",
    "\n",
    "    loss/=states\n",
    "    loss_list.append(loss.item())\n",
    "    work_dict['Internal'].append(W_int.item())\n",
    "    work_dict['External'].append(W_ext.item())\n",
    "    work_dict['ZD'].append(ZD_regularization.item())\n",
    "\n",
    "    if i % 50 == 0:\n",
    "        W_int_item = W_int.item()\n",
    "        W_ext_item = W_ext.item()\n",
    "        ZD_regularization_item= ZD_regularization.item()\n",
    "        special_loss_item= special_loss.item()\n",
    "        L_item    = loss.item()\n",
    "        print(\n",
    "            f\"Epoch {i:4d} │ \"\n",
    "            f\"W_int (internal work): {W_int_item: .2e} │ \"\n",
    "            f\"W_ext (external work): {W_ext_item: .2e} │ \"\n",
    "            f\"Zero Displacement term: {ZD_regularization_item: .2e} │ \"\n",
    "            f\"Special Loss term: {special_loss_item: .4e} │ \"\n",
    "            f\"Loss: {L_item: .2e}\"\n",
    "        )\n",
    "\n",
    "    loss.backward()\n",
    "\n",
    "    optimizer.step()"
   ]
  },
  {
   "cell_type": "code",
   "execution_count": 68,
   "metadata": {},
   "outputs": [
    {
     "name": "stdout",
     "output_type": "stream",
     "text": [
      "Vx(x,y,z) = -0.003*1 + -0.235*x + +0.023*y + +0.277*z + -0.045*x**2 + -0.036*x*y + -0.634*x*z + +0.025*y**2 + +1.794*y*z + -0.571*z**2\n",
      "Vy(x,y,z) = -0.036*1 + -0.008*x + -0.092*y + +0.400*z + +0.087*x**2 + +0.014*x*y + -0.116*x*z + +0.010*y**2 + -0.051*y*z + -0.582*z**2\n",
      "Vz(x,y,z) = +0.029*1 + -0.044*x + -0.011*y + +0.116*z + +0.052*x**2 + -0.227*x*y + +0.150*x*z + -0.136*y**2 + -0.012*y*z + +0.047*z**2\n"
     ]
    }
   ],
   "source": [
    "print_vf_equations(V_NN[0], fmt=\"{:+.3f}\")"
   ]
  },
  {
   "cell_type": "code",
   "execution_count": 44,
   "metadata": {},
   "outputs": [
    {
     "name": "stdout",
     "output_type": "stream",
     "text": [
      "Vx(x,y,z) = -0.029*1 + +0.119*x + -0.032*y + +0.291*z + +0.580*x**2 + -0.505*x*y + +0.134*x*z + -0.414*y**2 + -0.047*y*z + -0.874*z**2\n",
      "Vy(x,y,z) = +0.289*1 + -0.232*x + -0.234*y + -0.074*z + -0.240*x**2 + -0.128*x*y + -0.069*x*z + +0.196*y**2 + -0.141*y*z + +0.163*z**2\n",
      "Vz(x,y,z) = +0.005*1 + -0.144*x + -0.182*y + +0.368*z + +0.323*x**2 + +0.166*x*y + -0.359*x*z + -0.780*y**2 + -0.235*y*z + +0.214*z**2\n"
     ]
    }
   ],
   "source": [
    "print_vf_equations(V_NN[1], fmt=\"{:+.3f}\")"
   ]
  },
  {
   "cell_type": "code",
   "execution_count": 47,
   "metadata": {},
   "outputs": [
    {
     "data": {
      "image/png": "[encoded data removed]",
      "text/plain": [
       "<Figure size 640x480 with 1 Axes>"
      ]
     },
     "metadata": {},
     "output_type": "display_data"
    }
   ],
   "source": [
    "import matplotlib.pyplot as plt\n",
    "\n",
    "# assume work_dict already exists, with lists of length N for each key\n",
    "epochs = list(range(1, len(work_dict['Internal']) + 1))\n",
    "\n",
    "plt.figure()\n",
    "plt.plot(epochs, work_dict['Internal'], label='Internal')\n",
    "plt.plot(epochs, work_dict['External'], label='External')\n",
    "plt.plot(epochs, work_dict['ZD'], label='ZD')\n",
    "#plt.plot(epochs, work_dict['Special'], label='Special')\n",
    "plt.xlabel('Epoch')\n",
    "plt.ylabel('Value')\n",
    "plt.title('Work & ZD Regularization vs. Epoch')\n",
    "\n",
    "plt.legend()\n",
    "plt.tight_layout()\n",
    "plt.show()\n"
   ]
  },
  {
   "cell_type": "markdown",
   "metadata": {},
   "source": [
    "## Export"
   ]
  },
  {
   "cell_type": "code",
   "execution_count": 48,
   "metadata": {},
   "outputs": [],
   "source": [
    "model.eval()\n",
    "time_idx=9\n",
    "\n",
    "V_NN=model(x_input[:,:,time_idx]) #This is N elements x12 , output is 30,1\n",
    "\n",
    "delta_xyz=calculate_point(centroids_tensor, time_idx) #This is N elements x3\n",
    "\n",
    "#Vx=construct_VF_gradients_batch(V_NN[0:10],delta_xyz)\n",
    "VF_values = evaluate_vf_values(V_NN, delta_xyz) #This is p, N, 3 (V_NN[10:20],delta_xyz)"
   ]
  },
  {
   "cell_type": "code",
   "execution_count": 49,
   "metadata": {},
   "outputs": [],
   "source": [
    "for i in range(vf_number):\n",
    "    tensor1 = VF_values[i,:,:].cpu()        # shape [1000,3]\n",
    "\n",
    "    name='multi_VF_'+str(i)+'.txt'\n",
    "    with open(name,'w') as f:\n",
    "        for i, (x, y, z) in enumerate(tensor1.tolist(), start=1):\n",
    "            f.write(f\"{i},{x},{y},{z}\\n\")\n"
   ]
  },
  {
   "cell_type": "markdown",
   "metadata": {},
   "source": [
    "# Parameter Recovery"
   ]
  },
  {
   "cell_type": "code",
   "execution_count": 50,
   "metadata": {},
   "outputs": [],
   "source": [
    "model.eval()\n",
    "time_idx=9\n",
    "\n",
    "V_NN=model(x_input[:,:,time_idx]) #This is N elements x12 , output is 30,1\n",
    "\n",
    "delta_xyz=calculate_point(centroids_tensor, time_idx) #This is N elements x3\n",
    "\n",
    "#Vx=construct_VF_gradients_batch(V_NN[0:10],delta_xyz)\n",
    "VF_values = evaluate_vf_values(V_NN, delta_xyz) #This is p, N, 3 (V_NN[10:20],delta_xyz)\n",
    "#Vz=construct_VF(V_NN[20:30],delta_xyz)\n",
    "\n",
    "#VF=torch.cat((Vx.unsqueeze(1),Vy.unsqueeze(1),Vz.unsqueeze(1)), dim=1)\n",
    "grad_VF= construct_VF_gradients_batch(V_NN, delta_xyz)\n",
    "\n",
    "#Strain\n",
    "virtual_strain=0.5*(grad_VF+grad_VF.transpose(2,3)).detach().cpu().numpy()"
   ]
  },
  {
   "cell_type": "code",
   "execution_count": 51,
   "metadata": {},
   "outputs": [
    {
     "data": {
      "text/plain": [
       "torch.Size([2, 30])"
      ]
     },
     "execution_count": 51,
     "metadata": {},
     "output_type": "execute_result"
    }
   ],
   "source": [
    "V_NN.shape"
   ]
  },
  {
   "cell_type": "code",
   "execution_count": 52,
   "metadata": {},
   "outputs": [
    {
     "name": "stdout",
     "output_type": "stream",
     "text": [
      "Vx(x,y,z) = +0.023*1 + -0.049*x + -0.017*y + +0.271*z + -0.086*x**2 + -0.254*x*y + +0.455*x*z + -0.344*y**2 + +0.130*y*z + -0.284*z**2\n",
      "Vy(x,y,z) = +0.249*1 + -0.084*x + -0.414*y + +0.038*z + +0.172*x**2 + +0.309*x*y + -0.271*x*z + -0.069*y**2 + +0.013*y*z + +0.230*z**2\n",
      "Vz(x,y,z) = -0.064*1 + +0.219*x + +0.324*y + +0.254*z + -0.139*x**2 + +0.018*x*y + -0.343*x*z + -0.849*y**2 + -0.198*y*z + +0.008*z**2\n"
     ]
    }
   ],
   "source": [
    "print_vf_equations(V_NN[0], fmt=\"{:+.3f}\")"
   ]
  },
  {
   "cell_type": "code",
   "execution_count": 53,
   "metadata": {},
   "outputs": [
    {
     "name": "stdout",
     "output_type": "stream",
     "text": [
      "Vx(x,y,z) = -0.029*1 + +0.118*x + -0.033*y + +0.291*z + +0.579*x**2 + -0.504*x*y + +0.136*x*z + -0.413*y**2 + -0.048*y*z + -0.877*z**2\n",
      "Vy(x,y,z) = +0.288*1 + -0.232*x + -0.235*y + -0.074*z + -0.239*x**2 + -0.129*x*y + -0.069*x*z + +0.196*y**2 + -0.140*y*z + +0.163*z**2\n",
      "Vz(x,y,z) = +0.006*1 + -0.144*x + -0.180*y + +0.369*z + +0.322*x**2 + +0.166*x*y + -0.359*x*z + -0.779*y**2 + -0.234*y*z + +0.214*z**2\n"
     ]
    }
   ],
   "source": [
    "print_vf_equations(V_NN[1], fmt=\"{:+.3f}\")"
   ]
  },
  {
   "cell_type": "code",
   "execution_count": 54,
   "metadata": {},
   "outputs": [
    {
     "data": {
      "text/plain": [
       "torch.Size([2, 1000, 3])"
      ]
     },
     "execution_count": 54,
     "metadata": {},
     "output_type": "execute_result"
    }
   ],
   "source": [
    "VF_values.shape"
   ]
  },
  {
   "cell_type": "code",
   "execution_count": 60,
   "metadata": {},
   "outputs": [],
   "source": [
    "#Surface integral\n",
    "t_surface=pressure_normals[:,:,s]*10000 #t_surface is N,3 (elements x xyz)\n",
    "#   print(f'W_int shape: {W_int.shape}')\n",
    "dot = (VF_values[:,pressure_element_IDs_final,:]* t_surface.unsqueeze(0)).sum(dim=2)  # shape: [3, 100]\n",
    "\n",
    "W_ext=(dot*area_normals[:,:,s].T)"
   ]
  },
  {
   "cell_type": "code",
   "execution_count": 63,
   "metadata": {},
   "outputs": [
    {
     "data": {
      "text/plain": [
       "(torch.Size([2, 100]),\n",
       " tensor([ 54421752., -52926372.], dtype=torch.float32, grad_fn=<DivBackward0>))"
      ]
     },
     "execution_count": 63,
     "metadata": {},
     "output_type": "execute_result"
    }
   ],
   "source": [
    "W_ext.shape, W_ext.mean(dim=1)/(1.27*1e-7)"
   ]
  },
  {
   "cell_type": "code",
   "execution_count": 62,
   "metadata": {},
   "outputs": [
    {
     "data": {
      "text/plain": [
       "tensor([[ 1.2740e-07,  5.7640e-10],\n",
       "        [-1.1111e-08,  1.4529e-07]], dtype=torch.float32,\n",
       "       grad_fn=<MeanBackward1>)"
      ]
     },
     "execution_count": 62,
     "metadata": {},
     "output_type": "execute_result"
    }
   ],
   "source": [
    "M"
   ]
  },
  {
   "cell_type": "code",
   "execution_count": null,
   "metadata": {},
   "outputs": [],
   "source": []
  }
 ],
 "metadata": {
  "kernelspec": {
   "display_name": "NNEUCLID",
   "language": "python",
   "name": "python3"
  },
  "language_info": {
   "codemirror_mode": {
    "name": "ipython",
    "version": 3
   },
   "file_extension": ".py",
   "mimetype": "text/x-python",
   "name": "python",
   "nbconvert_exporter": "python",
   "pygments_lexer": "ipython3",
   "version": "3.9.0"
  }
 },
 "nbformat": 4,
 "nbformat_minor": 2
}
