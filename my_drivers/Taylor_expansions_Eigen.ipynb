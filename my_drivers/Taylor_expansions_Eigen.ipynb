{
 "cells": [
  {
   "cell_type": "markdown",
   "metadata": {},
   "source": [
    "# Pseudo Virtual Fields: Neural Networks act as Taylor expansions to find optimal virtual fields via weak equilibrium minimization"
   ]
  },
  {
   "cell_type": "code",
   "execution_count": 130,
   "metadata": {},
   "outputs": [],
   "source": [
    "import numpy as np\n",
    "import torch\n",
    "import pandas as pd\n",
    "import matplotlib.pyplot as plt"
   ]
  },
  {
   "cell_type": "code",
   "execution_count": 131,
   "metadata": {},
   "outputs": [
    {
     "name": "stdout",
     "output_type": "stream",
     "text": [
      "The autoreload extension is already loaded. To reload it, use:\n",
      "  %reload_ext autoreload\n"
     ]
    }
   ],
   "source": [
    "%load_ext autoreload\n",
    "%autoreload 2"
   ]
  },
  {
   "cell_type": "code",
   "execution_count": 132,
   "metadata": {},
   "outputs": [],
   "source": [
    "from helper_FEBIO import *\n",
    "from VF_helper import *\n",
    "from model import *\n",
    "from plot_helper import *"
   ]
  },
  {
   "cell_type": "code",
   "execution_count": 133,
   "metadata": {},
   "outputs": [
    {
     "name": "stdout",
     "output_type": "stream",
     "text": [
      "\n",
      "-----------------------------------------------------\n",
      "Setting device to:  0\n",
      "Test:  cuda:0\n",
      "-----------------------------------------------------\n",
      "\n"
     ]
    }
   ],
   "source": [
    "import sys\n",
    "sys.path.insert(0, '../')\n",
    "from core import *\n",
    "#config\n",
    "from config import *\n",
    "#CUDA\n",
    "cuda=0\n",
    "device=initCUDA(cuda)\n",
    "#supporting files"
   ]
  },
  {
   "cell_type": "markdown",
   "metadata": {},
   "source": [
    "# Read FEBIO data"
   ]
  },
  {
   "cell_type": "code",
   "execution_count": 5,
   "metadata": {},
   "outputs": [
    {
     "data": {
      "text/html": [
       "<div>\n",
       "<style scoped>\n",
       "    .dataframe tbody tr th:only-of-type {\n",
       "        vertical-align: middle;\n",
       "    }\n",
       "\n",
       "    .dataframe tbody tr th {\n",
       "        vertical-align: top;\n",
       "    }\n",
       "\n",
       "    .dataframe thead th {\n",
       "        text-align: right;\n",
       "    }\n",
       "</style>\n",
       "<table border=\"1\" class=\"dataframe\">\n",
       "  <thead>\n",
       "    <tr style=\"text-align: right;\">\n",
       "      <th></th>\n",
       "      <th>1</th>\n",
       "      <th>1</th>\n",
       "      <th>9</th>\n",
       "      <th>133</th>\n",
       "      <th>52</th>\n",
       "      <th>24</th>\n",
       "      <th>57</th>\n",
       "      <th>153</th>\n",
       "      <th>108</th>\n",
       "    </tr>\n",
       "  </thead>\n",
       "  <tbody>\n",
       "    <tr>\n",
       "      <th>0</th>\n",
       "      <td>2</td>\n",
       "      <td>9</td>\n",
       "      <td>10</td>\n",
       "      <td>134</td>\n",
       "      <td>133</td>\n",
       "      <td>57</td>\n",
       "      <td>58</td>\n",
       "      <td>154</td>\n",
       "      <td>153</td>\n",
       "    </tr>\n",
       "    <tr>\n",
       "      <th>1</th>\n",
       "      <td>3</td>\n",
       "      <td>10</td>\n",
       "      <td>11</td>\n",
       "      <td>135</td>\n",
       "      <td>134</td>\n",
       "      <td>58</td>\n",
       "      <td>59</td>\n",
       "      <td>155</td>\n",
       "      <td>154</td>\n",
       "    </tr>\n",
       "    <tr>\n",
       "      <th>2</th>\n",
       "      <td>4</td>\n",
       "      <td>11</td>\n",
       "      <td>12</td>\n",
       "      <td>136</td>\n",
       "      <td>135</td>\n",
       "      <td>59</td>\n",
       "      <td>60</td>\n",
       "      <td>156</td>\n",
       "      <td>155</td>\n",
       "    </tr>\n",
       "    <tr>\n",
       "      <th>3</th>\n",
       "      <td>5</td>\n",
       "      <td>12</td>\n",
       "      <td>2</td>\n",
       "      <td>25</td>\n",
       "      <td>136</td>\n",
       "      <td>60</td>\n",
       "      <td>13</td>\n",
       "      <td>73</td>\n",
       "      <td>156</td>\n",
       "    </tr>\n",
       "    <tr>\n",
       "      <th>4</th>\n",
       "      <td>6</td>\n",
       "      <td>52</td>\n",
       "      <td>133</td>\n",
       "      <td>129</td>\n",
       "      <td>51</td>\n",
       "      <td>108</td>\n",
       "      <td>153</td>\n",
       "      <td>157</td>\n",
       "      <td>107</td>\n",
       "    </tr>\n",
       "    <tr>\n",
       "      <th>...</th>\n",
       "      <td>...</td>\n",
       "      <td>...</td>\n",
       "      <td>...</td>\n",
       "      <td>...</td>\n",
       "      <td>...</td>\n",
       "      <td>...</td>\n",
       "      <td>...</td>\n",
       "      <td>...</td>\n",
       "      <td>...</td>\n",
       "    </tr>\n",
       "    <tr>\n",
       "      <th>119</th>\n",
       "      <td>121</td>\n",
       "      <td>117</td>\n",
       "      <td>213</td>\n",
       "      <td>104</td>\n",
       "      <td>44</td>\n",
       "      <td>56</td>\n",
       "      <td>149</td>\n",
       "      <td>45</td>\n",
       "      <td>8</td>\n",
       "    </tr>\n",
       "    <tr>\n",
       "      <th>120</th>\n",
       "      <td>122</td>\n",
       "      <td>213</td>\n",
       "      <td>214</td>\n",
       "      <td>103</td>\n",
       "      <td>104</td>\n",
       "      <td>149</td>\n",
       "      <td>150</td>\n",
       "      <td>46</td>\n",
       "      <td>45</td>\n",
       "    </tr>\n",
       "    <tr>\n",
       "      <th>121</th>\n",
       "      <td>123</td>\n",
       "      <td>214</td>\n",
       "      <td>215</td>\n",
       "      <td>102</td>\n",
       "      <td>103</td>\n",
       "      <td>150</td>\n",
       "      <td>151</td>\n",
       "      <td>47</td>\n",
       "      <td>46</td>\n",
       "    </tr>\n",
       "    <tr>\n",
       "      <th>122</th>\n",
       "      <td>124</td>\n",
       "      <td>215</td>\n",
       "      <td>216</td>\n",
       "      <td>101</td>\n",
       "      <td>102</td>\n",
       "      <td>151</td>\n",
       "      <td>152</td>\n",
       "      <td>48</td>\n",
       "      <td>47</td>\n",
       "    </tr>\n",
       "    <tr>\n",
       "      <th>123</th>\n",
       "      <td>125</td>\n",
       "      <td>216</td>\n",
       "      <td>88</td>\n",
       "      <td>32</td>\n",
       "      <td>101</td>\n",
       "      <td>152</td>\n",
       "      <td>33</td>\n",
       "      <td>7</td>\n",
       "      <td>48</td>\n",
       "    </tr>\n",
       "  </tbody>\n",
       "</table>\n",
       "<p>124 rows × 9 columns</p>\n",
       "</div>"
      ],
      "text/plain": [
       "       1    1    9   133   52   24   57   153   108\n",
       "0      2    9   10   134  133   57   58   154   153\n",
       "1      3   10   11   135  134   58   59   155   154\n",
       "2      4   11   12   136  135   59   60   156   155\n",
       "3      5   12    2    25  136   60   13    73   156\n",
       "4      6   52  133   129   51  108  153   157   107\n",
       "..   ...  ...  ...   ...  ...  ...  ...   ...   ...\n",
       "119  121  117  213   104   44   56  149    45     8\n",
       "120  122  213  214   103  104  149  150    46    45\n",
       "121  123  214  215   102  103  150  151    47    46\n",
       "122  124  215  216   101  102  151  152    48    47\n",
       "123  125  216   88    32  101  152   33     7    48\n",
       "\n",
       "[124 rows x 9 columns]"
      ]
     },
     "execution_count": 5,
     "metadata": {},
     "output_type": "execute_result"
    }
   ],
   "source": [
    "#Read connectivity\n",
    "connectivity = pd.read_csv(\"/home/feolalab/Desktop/EUCLID-hyperelasticity-NN/my_data/Cube/output_files/connectivity\")\n",
    "connectivity"
   ]
  },
  {
   "cell_type": "code",
   "execution_count": 6,
   "metadata": {},
   "outputs": [
    {
     "data": {
      "text/html": [
       "<div>\n",
       "<style scoped>\n",
       "    .dataframe tbody tr th:only-of-type {\n",
       "        vertical-align: middle;\n",
       "    }\n",
       "\n",
       "    .dataframe tbody tr th {\n",
       "        vertical-align: top;\n",
       "    }\n",
       "\n",
       "    .dataframe thead th {\n",
       "        text-align: right;\n",
       "    }\n",
       "</style>\n",
       "<table border=\"1\" class=\"dataframe\">\n",
       "  <thead>\n",
       "    <tr style=\"text-align: right;\">\n",
       "      <th></th>\n",
       "      <th>1</th>\n",
       "      <th>1</th>\n",
       "      <th>9</th>\n",
       "      <th>57</th>\n",
       "      <th>24</th>\n",
       "    </tr>\n",
       "  </thead>\n",
       "  <tbody>\n",
       "    <tr>\n",
       "      <th>0</th>\n",
       "      <td>2</td>\n",
       "      <td>52</td>\n",
       "      <td>1</td>\n",
       "      <td>24</td>\n",
       "      <td>108</td>\n",
       "    </tr>\n",
       "    <tr>\n",
       "      <th>1</th>\n",
       "      <td>3</td>\n",
       "      <td>52</td>\n",
       "      <td>133</td>\n",
       "      <td>9</td>\n",
       "      <td>1</td>\n",
       "    </tr>\n",
       "    <tr>\n",
       "      <th>2</th>\n",
       "      <td>4</td>\n",
       "      <td>9</td>\n",
       "      <td>10</td>\n",
       "      <td>58</td>\n",
       "      <td>57</td>\n",
       "    </tr>\n",
       "    <tr>\n",
       "      <th>3</th>\n",
       "      <td>5</td>\n",
       "      <td>133</td>\n",
       "      <td>134</td>\n",
       "      <td>10</td>\n",
       "      <td>9</td>\n",
       "    </tr>\n",
       "    <tr>\n",
       "      <th>4</th>\n",
       "      <td>6</td>\n",
       "      <td>10</td>\n",
       "      <td>11</td>\n",
       "      <td>59</td>\n",
       "      <td>58</td>\n",
       "    </tr>\n",
       "    <tr>\n",
       "      <th>...</th>\n",
       "      <td>...</td>\n",
       "      <td>...</td>\n",
       "      <td>...</td>\n",
       "      <td>...</td>\n",
       "      <td>...</td>\n",
       "    </tr>\n",
       "    <tr>\n",
       "      <th>144</th>\n",
       "      <td>146</td>\n",
       "      <td>101</td>\n",
       "      <td>102</td>\n",
       "      <td>47</td>\n",
       "      <td>48</td>\n",
       "    </tr>\n",
       "    <tr>\n",
       "      <th>145</th>\n",
       "      <td>147</td>\n",
       "      <td>151</td>\n",
       "      <td>152</td>\n",
       "      <td>48</td>\n",
       "      <td>47</td>\n",
       "    </tr>\n",
       "    <tr>\n",
       "      <th>146</th>\n",
       "      <td>148</td>\n",
       "      <td>88</td>\n",
       "      <td>32</td>\n",
       "      <td>7</td>\n",
       "      <td>33</td>\n",
       "    </tr>\n",
       "    <tr>\n",
       "      <th>147</th>\n",
       "      <td>149</td>\n",
       "      <td>32</td>\n",
       "      <td>101</td>\n",
       "      <td>48</td>\n",
       "      <td>7</td>\n",
       "    </tr>\n",
       "    <tr>\n",
       "      <th>148</th>\n",
       "      <td>150</td>\n",
       "      <td>152</td>\n",
       "      <td>33</td>\n",
       "      <td>7</td>\n",
       "      <td>48</td>\n",
       "    </tr>\n",
       "  </tbody>\n",
       "</table>\n",
       "<p>149 rows × 5 columns</p>\n",
       "</div>"
      ],
      "text/plain": [
       "       1    1    9   57   24\n",
       "0      2   52    1   24  108\n",
       "1      3   52  133    9    1\n",
       "2      4    9   10   58   57\n",
       "3      5  133  134   10    9\n",
       "4      6   10   11   59   58\n",
       "..   ...  ...  ...  ...  ...\n",
       "144  146  101  102   47   48\n",
       "145  147  151  152   48   47\n",
       "146  148   88   32    7   33\n",
       "147  149   32  101   48    7\n",
       "148  150  152   33    7   48\n",
       "\n",
       "[149 rows x 5 columns]"
      ]
     },
     "execution_count": 6,
     "metadata": {},
     "output_type": "execute_result"
    }
   ],
   "source": [
    "#Read connectivity\n",
    "facet_connectivity = pd.read_csv(\"/home/feolalab/Desktop/EUCLID-hyperelasticity-NN/my_data/Cube/output_files/facet_area_connectivity\")\n",
    "facet_connectivity"
   ]
  },
  {
   "cell_type": "markdown",
   "metadata": {},
   "source": [
    "### Function to read multiple states from FEBIO file"
   ]
  },
  {
   "cell_type": "code",
   "execution_count": 7,
   "metadata": {},
   "outputs": [
    {
     "name": "stdout",
     "output_type": "stream",
     "text": [
      "Detected 1-field blocks → ['element']\n",
      "Number of states: 11\n",
      " State 1: element=125\n",
      " State 2: element=125\n",
      " State 3: element=125\n",
      " State 4: element=125\n",
      " State 5: element=125\n",
      " State 6: element=125\n",
      " State 7: element=125\n",
      " State 8: element=125\n",
      " State 9: element=125\n",
      " State 10: element=125\n",
      " State 11: element=125\n"
     ]
    }
   ],
   "source": [
    "volume_file=\"/home/feolalab/Desktop/EUCLID-hyperelasticity-NN/my_data/Cube/output_files/volume\"\n",
    "volume=read_multi_ste_output2(volume_file,p=True) "
   ]
  },
  {
   "cell_type": "code",
   "execution_count": 8,
   "metadata": {},
   "outputs": [
    {
     "name": "stdout",
     "output_type": "stream",
     "text": [
      "Detected 1-field blocks → ['element']\n",
      "Number of states: 11\n",
      " State 1: element=150\n",
      " State 2: element=150\n",
      " State 3: element=150\n",
      " State 4: element=150\n",
      " State 5: element=150\n",
      " State 6: element=150\n",
      " State 7: element=150\n",
      " State 8: element=150\n",
      " State 9: element=150\n",
      " State 10: element=150\n",
      " State 11: element=150\n"
     ]
    }
   ],
   "source": [
    "area_file=\"/home/feolalab/Desktop/EUCLID-hyperelasticity-NN/my_data/Cube/output_files/facet_area\"\n",
    "area=read_multi_ste_output2(area_file,p=True) "
   ]
  },
  {
   "cell_type": "code",
   "execution_count": 9,
   "metadata": {},
   "outputs": [
    {
     "name": "stdout",
     "output_type": "stream",
     "text": [
      "Detected 6-field blocks → ['xx', 'yy', 'zz', 'xy', 'yz', 'xz']\n",
      "Number of states: 11\n",
      " State 1: xx=125, yy=125, zz=125, xy=125, yz=125, xz=125\n",
      " State 2: xx=125, yy=125, zz=125, xy=125, yz=125, xz=125\n",
      " State 3: xx=125, yy=125, zz=125, xy=125, yz=125, xz=125\n",
      " State 4: xx=125, yy=125, zz=125, xy=125, yz=125, xz=125\n",
      " State 5: xx=125, yy=125, zz=125, xy=125, yz=125, xz=125\n",
      " State 6: xx=125, yy=125, zz=125, xy=125, yz=125, xz=125\n",
      " State 7: xx=125, yy=125, zz=125, xy=125, yz=125, xz=125\n",
      " State 8: xx=125, yy=125, zz=125, xy=125, yz=125, xz=125\n",
      " State 9: xx=125, yy=125, zz=125, xy=125, yz=125, xz=125\n",
      " State 10: xx=125, yy=125, zz=125, xy=125, yz=125, xz=125\n",
      " State 11: xx=125, yy=125, zz=125, xy=125, yz=125, xz=125\n"
     ]
    }
   ],
   "source": [
    "stress_file=\"/home/feolalab/Desktop/EUCLID-hyperelasticity-NN/my_data/Cube/output_files/stress\"\n",
    "stress=read_multi_ste_output_VOIGT(stress_file,p=True)"
   ]
  },
  {
   "cell_type": "code",
   "execution_count": 10,
   "metadata": {},
   "outputs": [
    {
     "name": "stdout",
     "output_type": "stream",
     "text": [
      "Step 0: Fxx=125, Fxy=125, Fxz=125, Fyx=125, Fyy=125, Fyz=125, Fzx=125, Fzy=125, Fzz=125\n",
      "Step 1: Fxx=125, Fxy=125, Fxz=125, Fyx=125, Fyy=125, Fyz=125, Fzx=125, Fzy=125, Fzz=125\n",
      "Step 2: Fxx=125, Fxy=125, Fxz=125, Fyx=125, Fyy=125, Fyz=125, Fzx=125, Fzy=125, Fzz=125\n",
      "Step 3: Fxx=125, Fxy=125, Fxz=125, Fyx=125, Fyy=125, Fyz=125, Fzx=125, Fzy=125, Fzz=125\n",
      "Step 4: Fxx=125, Fxy=125, Fxz=125, Fyx=125, Fyy=125, Fyz=125, Fzx=125, Fzy=125, Fzz=125\n",
      "Step 5: Fxx=125, Fxy=125, Fxz=125, Fyx=125, Fyy=125, Fyz=125, Fzx=125, Fzy=125, Fzz=125\n",
      "Step 6: Fxx=125, Fxy=125, Fxz=125, Fyx=125, Fyy=125, Fyz=125, Fzx=125, Fzy=125, Fzz=125\n",
      "Step 7: Fxx=125, Fxy=125, Fxz=125, Fyx=125, Fyy=125, Fyz=125, Fzx=125, Fzy=125, Fzz=125\n",
      "Step 8: Fxx=125, Fxy=125, Fxz=125, Fyx=125, Fyy=125, Fyz=125, Fzx=125, Fzy=125, Fzz=125\n",
      "Step 9: Fxx=125, Fxy=125, Fxz=125, Fyx=125, Fyy=125, Fyz=125, Fzx=125, Fzy=125, Fzz=125\n",
      "Step 10: Fxx=125, Fxy=125, Fxz=125, Fyx=125, Fyy=125, Fyz=125, Fzx=125, Fzy=125, Fzz=125\n"
     ]
    }
   ],
   "source": [
    "F_file=\"/home/feolalab/Desktop/EUCLID-hyperelasticity-NN/my_data/Cube/jobs/deformation.txt\"\n",
    "F=read_multi_stepped_output_txt(F_file,p=True)"
   ]
  },
  {
   "cell_type": "code",
   "execution_count": 11,
   "metadata": {},
   "outputs": [
    {
     "name": "stdout",
     "output_type": "stream",
     "text": [
      "Detected 3-field blocks → ['x', 'y', 'z']\n",
      "Number of states: 11\n",
      " State 1: x=150, y=150, z=150\n",
      " State 2: x=150, y=150, z=150\n",
      " State 3: x=150, y=150, z=150\n",
      " State 4: x=150, y=150, z=150\n",
      " State 5: x=150, y=150, z=150\n",
      " State 6: x=150, y=150, z=150\n",
      " State 7: x=150, y=150, z=150\n",
      " State 8: x=150, y=150, z=150\n",
      " State 9: x=150, y=150, z=150\n",
      " State 10: x=150, y=150, z=150\n",
      " State 11: x=150, y=150, z=150\n"
     ]
    }
   ],
   "source": [
    "surface_normal_file=\"/home/feolalab/Desktop/EUCLID-hyperelasticity-NN/my_data/Cube/output_files/surface_normal\"\n",
    "surface_normal=read_multi_ste_output_VOIGT(surface_normal_file,p=True)"
   ]
  },
  {
   "cell_type": "code",
   "execution_count": 12,
   "metadata": {},
   "outputs": [
    {
     "name": "stdout",
     "output_type": "stream",
     "text": [
      "Detected 3-field blocks → ['x', 'y', 'z']\n",
      "Number of states: 11\n",
      " State 1: x=216, y=216, z=216\n",
      " State 2: x=216, y=216, z=216\n",
      " State 3: x=216, y=216, z=216\n",
      " State 4: x=216, y=216, z=216\n",
      " State 5: x=216, y=216, z=216\n",
      " State 6: x=216, y=216, z=216\n",
      " State 7: x=216, y=216, z=216\n",
      " State 8: x=216, y=216, z=216\n",
      " State 9: x=216, y=216, z=216\n",
      " State 10: x=216, y=216, z=216\n",
      " State 11: x=216, y=216, z=216\n"
     ]
    }
   ],
   "source": [
    "position_file=\"/home/feolalab/Desktop/EUCLID-hyperelasticity-NN/my_data/Cube/output_files/position\"\n",
    "position=read_multi_ste_output_VOIGT(position_file,p=True)"
   ]
  },
  {
   "cell_type": "code",
   "execution_count": 13,
   "metadata": {},
   "outputs": [
    {
     "name": "stdout",
     "output_type": "stream",
     "text": [
      "Detected 6-field blocks → ['xx', 'yy', 'zz', 'xy', 'yz', 'xz']\n",
      "Number of states: 11\n",
      " State 1: xx=125, yy=125, zz=125, xy=125, yz=125, xz=125\n",
      " State 2: xx=125, yy=125, zz=125, xy=125, yz=125, xz=125\n",
      " State 3: xx=125, yy=125, zz=125, xy=125, yz=125, xz=125\n",
      " State 4: xx=125, yy=125, zz=125, xy=125, yz=125, xz=125\n",
      " State 5: xx=125, yy=125, zz=125, xy=125, yz=125, xz=125\n",
      " State 6: xx=125, yy=125, zz=125, xy=125, yz=125, xz=125\n",
      " State 7: xx=125, yy=125, zz=125, xy=125, yz=125, xz=125\n",
      " State 8: xx=125, yy=125, zz=125, xy=125, yz=125, xz=125\n",
      " State 9: xx=125, yy=125, zz=125, xy=125, yz=125, xz=125\n",
      " State 10: xx=125, yy=125, zz=125, xy=125, yz=125, xz=125\n",
      " State 11: xx=125, yy=125, zz=125, xy=125, yz=125, xz=125\n"
     ]
    }
   ],
   "source": [
    "strain_file=\"/home/feolalab/Desktop/EUCLID-hyperelasticity-NN/my_data/Cube/output_files/lagrange_strain\"\n",
    "strain=read_multi_ste_output_VOIGT(strain_file,p=True)"
   ]
  },
  {
   "cell_type": "markdown",
   "metadata": {},
   "source": [
    "### Log file data"
   ]
  },
  {
   "cell_type": "code",
   "execution_count": 14,
   "metadata": {},
   "outputs": [
    {
     "name": "stdout",
     "output_type": "stream",
     "text": [
      "states found: [0, 1, 2, 3, 4, 5, 6, 7, 8, 9, 10]\n",
      " step  0: x=125 pts, y=125, z=125\n",
      " step  1: x=125 pts, y=125, z=125\n",
      " step  2: x=125 pts, y=125, z=125\n",
      " step  3: x=125 pts, y=125, z=125\n",
      " step  4: x=125 pts, y=125, z=125\n",
      " step  5: x=125 pts, y=125, z=125\n",
      " step  6: x=125 pts, y=125, z=125\n",
      " step  7: x=125 pts, y=125, z=125\n",
      " step  8: x=125 pts, y=125, z=125\n",
      " step  9: x=125 pts, y=125, z=125\n",
      " step 10: x=125 pts, y=125, z=125\n"
     ]
    }
   ],
   "source": [
    "#Centroids from log file\n",
    "centroids_file='/home/feolalab/Desktop/EUCLID-hyperelasticity-NN/my_data/Cube/jobs/Cube_v1.log'\n",
    "centroids_dict  = parse_states(centroids_file)\n",
    "\n",
    "#Should get 11 states, each with exactly 1000 x/y/z values:\n",
    "print(\"states found:\", sorted(centroids_dict.keys()))\n",
    "for step, d in centroids_dict.items():\n",
    "    print(f\" step {step:2d}: x={len(d['x'])} pts, y={len(d['y'])}, z={len(d['z'])}\")"
   ]
  },
  {
   "cell_type": "markdown",
   "metadata": {},
   "source": [
    "### State dict to tensor"
   ]
  },
  {
   "cell_type": "code",
   "execution_count": 15,
   "metadata": {},
   "outputs": [
    {
     "name": "stdout",
     "output_type": "stream",
     "text": [
      "centroids_tensor.shape: torch.Size([125, 3, 11])\n",
      "stress_tensor.shape: torch.Size([125, 6, 11])\n",
      "volume_tensor.shape: torch.Size([125, 1, 11])\n",
      "F_tensor.shape: torch.Size([125, 9, 11])\n",
      "surface_normal_tensor.shape: torch.Size([150, 3, 11])\n",
      "area_tensor.shape: torch.Size([150, 1, 11])\n",
      "strain_tensor.shape: torch.Size([125, 6, 11])\n",
      "strain_tensor.shape: torch.Size([216, 3, 11])\n"
     ]
    }
   ],
   "source": [
    "# 1) Build a (Nelements,3,nstates) tensor for centroids:\n",
    "centroids_tensor = states_to_tensor(centroids_dict, ['x','y','z'])\n",
    "print(\"centroids_tensor.shape:\", centroids_tensor.shape)\n",
    "# → (Nelements, 3, nstates)\n",
    "\n",
    "# 2) Build a (Nelements,6,nstates) tensor for volume‐stress:\n",
    "stress_tensor = states_to_tensor(stress,\n",
    "                                ['xx','yy','zz','xy','xz','yz'])\n",
    "print(\"stress_tensor.shape:\", stress_tensor.shape)\n",
    "# → (Nelements, 6, nstates)\n",
    "\n",
    "# 3) If you just want the x‐only channel across states:\n",
    "#x_only = states_to_tensor(centroids_dict, ['x'])\n",
    "#print(\"x_only.shape:\", x_only.shape)\n",
    "# → (Nelements, 1, nstates)\n",
    "\n",
    "# 3) Volume:\n",
    "volume_tensor = states_to_tensor(volume, ['element'])\n",
    "print(\"volume_tensor.shape:\", volume_tensor.shape)\n",
    "# → (Nelements, 1, nstates)\n",
    "\n",
    "# 4) Deformation tensor:\n",
    "F_tensor = states_to_tensor(F, ['Fxx','Fxy','Fxz','Fyx','Fyy','Fyz','Fzx','Fzy','Fzz'])\n",
    "print(\"F_tensor.shape:\", F_tensor.shape)\n",
    "\n",
    "# 4) Surface Normal:\n",
    "surface_normal_tensor = states_to_tensor(surface_normal, ['x','y','z'])\n",
    "print(\"surface_normal_tensor.shape:\", surface_normal_tensor.shape)\n",
    "\n",
    "\n",
    "# 5) Area:\n",
    "area_tensor = states_to_tensor(area, ['element'])\n",
    "print(\"area_tensor.shape:\", area_tensor.shape)\n",
    "\n",
    "\n",
    "# 6) Strain:\n",
    "#del strain[1]\n",
    "strain_tensor = states_to_tensor(strain, ['xx','yy','zz','xy','xz','yz'])\n",
    "print(\"strain_tensor.shape:\", strain_tensor.shape)\n",
    "\n",
    "position_tensor = states_to_tensor(position, ['x','y','z'])\n",
    "print(\"strain_tensor.shape:\", position_tensor.shape)"
   ]
  },
  {
   "cell_type": "code",
   "execution_count": 16,
   "metadata": {},
   "outputs": [
    {
     "name": "stdout",
     "output_type": "stream",
     "text": [
      "strain_tensor.shape: torch.Size([216, 3, 11])\n"
     ]
    }
   ],
   "source": [
    "position_tensor = states_to_tensor(position, ['x','y','z'])\n",
    "print(\"strain_tensor.shape:\", position_tensor.shape)"
   ]
  },
  {
   "cell_type": "code",
   "execution_count": 17,
   "metadata": {},
   "outputs": [
    {
     "data": {
      "text/plain": [
       "tensor(62.5000, dtype=torch.float32)"
      ]
     },
     "execution_count": 17,
     "metadata": {},
     "output_type": "execute_result"
    }
   ],
   "source": [
    "torch.sum(centroids_tensor[:,:,0], dim=(0,1))"
   ]
  },
  {
   "cell_type": "code",
   "execution_count": 18,
   "metadata": {},
   "outputs": [
    {
     "data": {
      "text/plain": [
       "125"
      ]
     },
     "execution_count": 18,
     "metadata": {},
     "output_type": "execute_result"
    }
   ],
   "source": [
    "Nelements=F_tensor.shape[0]\n",
    "Nelements"
   ]
  },
  {
   "cell_type": "markdown",
   "metadata": {},
   "source": [
    "## Where pressure is applied and Zero Displacement Boundary Conditions"
   ]
  },
  {
   "cell_type": "code",
   "execution_count": 19,
   "metadata": {},
   "outputs": [],
   "source": [
    "pressure_nodes = parse_quad4_from_feb(\"/home/feolalab/Desktop/EUCLID-hyperelasticity-NN/my_data/Cube/jobs/Cube_v1.feb\", surface_name=\"Pressure1\")\n",
    "pressure_node_ids = list(pressure_nodes.keys())"
   ]
  },
  {
   "cell_type": "code",
   "execution_count": 20,
   "metadata": {},
   "outputs": [
    {
     "data": {
      "text/plain": [
       "([5, 20, 137, 53], dict)"
      ]
     },
     "execution_count": 20,
     "metadata": {},
     "output_type": "execute_result"
    }
   ],
   "source": [
    "pressure_nodes[1], type(pressure_nodes)"
   ]
  },
  {
   "cell_type": "code",
   "execution_count": 21,
   "metadata": {},
   "outputs": [
    {
     "data": {
      "text/plain": [
       "(tensor([0, 1, 2, 3, 4, 5, 6, 7, 8, 9]), [1, 2, 3, 4, 5, 6, 7, 8, 9, 10])"
      ]
     },
     "execution_count": 21,
     "metadata": {},
     "output_type": "execute_result"
    }
   ],
   "source": [
    "ZD_nodes = parse_quad4_from_feb(\"/home/feolalab/Desktop/EUCLID-hyperelasticity-NN/my_data/Cube/jobs/Cube_v1.feb\", surface_name=\"ZeroDisplacement1\")\n",
    "ZD_node_ids = list(ZD_nodes.keys())\n",
    "ZD_idx = torch.tensor([nid - 1 for nid in ZD_node_ids], dtype=torch.long)\n",
    "ZD_idx[:10], ZD_node_ids[:10]"
   ]
  },
  {
   "cell_type": "code",
   "execution_count": 22,
   "metadata": {},
   "outputs": [
    {
     "data": {
      "text/plain": [
       "([4, 40, 121, 49], 25)"
      ]
     },
     "execution_count": 22,
     "metadata": {},
     "output_type": "execute_result"
    }
   ],
   "source": [
    "ZD_nodes[1], len(ZD_node_ids)"
   ]
  },
  {
   "cell_type": "code",
   "execution_count": 23,
   "metadata": {},
   "outputs": [],
   "source": [
    "connectivity_list = [\n",
    "    tuple(map(int, row))           # ensure ints\n",
    "    for row in connectivity.values\n",
    "]"
   ]
  },
  {
   "cell_type": "code",
   "execution_count": 24,
   "metadata": {},
   "outputs": [
    {
     "name": "stdout",
     "output_type": "stream",
     "text": [
      "Element 101:\n",
      "  all_nodes:      [21, 69, 201, 120, 5, 20, 137, 53]\n",
      "  pressure_nodes: [5, 20, 137, 53]\n",
      "Element 102:\n",
      "  all_nodes:      [69, 70, 202, 201, 20, 19, 138, 137]\n",
      "  pressure_nodes: [20, 19, 138, 137]\n",
      "Element 103:\n",
      "  all_nodes:      [70, 71, 203, 202, 19, 18, 139, 138]\n",
      "  pressure_nodes: [19, 18, 139, 138]\n",
      "Element 104:\n",
      "  all_nodes:      [71, 72, 204, 203, 18, 17, 140, 139]\n",
      "  pressure_nodes: [18, 17, 140, 139]\n",
      "Element 105:\n",
      "  all_nodes:      [72, 16, 85, 204, 17, 6, 36, 140]\n",
      "  pressure_nodes: [17, 6, 36, 140]\n",
      "Element 106:\n",
      "  all_nodes:      [120, 201, 205, 119, 53, 137, 141, 54]\n",
      "  pressure_nodes: [53, 137, 141, 54]\n",
      "Element 107:\n",
      "  all_nodes:      [201, 202, 206, 205, 137, 138, 142, 141]\n",
      "  pressure_nodes: [137, 138, 142, 141]\n",
      "Element 108:\n",
      "  all_nodes:      [202, 203, 207, 206, 138, 139, 143, 142]\n",
      "  pressure_nodes: [138, 139, 143, 142]\n",
      "Element 109:\n",
      "  all_nodes:      [203, 204, 208, 207, 139, 140, 144, 143]\n",
      "  pressure_nodes: [139, 140, 144, 143]\n",
      "Element 110:\n",
      "  all_nodes:      [204, 85, 86, 208, 140, 36, 35, 144]\n",
      "  pressure_nodes: [140, 36, 35, 144]\n",
      "Element 111:\n",
      "  all_nodes:      [119, 205, 209, 118, 54, 141, 145, 55]\n",
      "  pressure_nodes: [54, 141, 145, 55]\n",
      "Element 112:\n",
      "  all_nodes:      [205, 206, 210, 209, 141, 142, 146, 145]\n",
      "  pressure_nodes: [141, 142, 146, 145]\n",
      "Element 113:\n",
      "  all_nodes:      [206, 207, 211, 210, 142, 143, 147, 146]\n",
      "  pressure_nodes: [142, 143, 147, 146]\n",
      "Element 114:\n",
      "  all_nodes:      [207, 208, 212, 211, 143, 144, 148, 147]\n",
      "  pressure_nodes: [143, 144, 148, 147]\n",
      "Element 115:\n",
      "  all_nodes:      [208, 86, 87, 212, 144, 35, 34, 148]\n",
      "  pressure_nodes: [144, 35, 34, 148]\n",
      "Element 116:\n",
      "  all_nodes:      [118, 209, 213, 117, 55, 145, 149, 56]\n",
      "  pressure_nodes: [55, 145, 149, 56]\n",
      "Element 117:\n",
      "  all_nodes:      [209, 210, 214, 213, 145, 146, 150, 149]\n",
      "  pressure_nodes: [145, 146, 150, 149]\n",
      "Element 118:\n",
      "  all_nodes:      [210, 211, 215, 214, 146, 147, 151, 150]\n",
      "  pressure_nodes: [146, 147, 151, 150]\n",
      "Element 119:\n",
      "  all_nodes:      [211, 212, 216, 215, 147, 148, 152, 151]\n",
      "  pressure_nodes: [147, 148, 152, 151]\n",
      "Element 120:\n",
      "  all_nodes:      [212, 87, 88, 216, 148, 34, 33, 152]\n",
      "  pressure_nodes: [148, 34, 33, 152]\n",
      "Element 121:\n",
      "  all_nodes:      [117, 213, 104, 44, 56, 149, 45, 8]\n",
      "  pressure_nodes: [56, 149, 45, 8]\n",
      "Element 122:\n",
      "  all_nodes:      [213, 214, 103, 104, 149, 150, 46, 45]\n",
      "  pressure_nodes: [149, 150, 46, 45]\n",
      "Element 123:\n",
      "  all_nodes:      [214, 215, 102, 103, 150, 151, 47, 46]\n",
      "  pressure_nodes: [150, 151, 47, 46]\n",
      "Element 124:\n",
      "  all_nodes:      [215, 216, 101, 102, 151, 152, 48, 47]\n",
      "  pressure_nodes: [151, 152, 48, 47]\n",
      "Element 125:\n",
      "  all_nodes:      [216, 88, 32, 101, 152, 33, 7, 48]\n",
      "  pressure_nodes: [152, 33, 7, 48]\n"
     ]
    }
   ],
   "source": [
    "# 2) Flatten pressure-node dict into a set of node IDs\n",
    "pressure_nodes_set = {\n",
    "    n\n",
    "    for nodes in pressure_nodes.values()\n",
    "    for n in nodes\n",
    "}\n",
    "\n",
    "mapping_element_pressure = map_pressure_to_elements(connectivity_list, pressure_nodes_set)\n",
    "#print(mapping.keys())\n",
    "# (3) inspect\n",
    "for eid, info in mapping_element_pressure.items():\n",
    "    print(f\"Element {eid}:\")\n",
    "    print(\"  all_nodes:     \", info['all_nodes'])\n",
    "    print(\"  pressure_nodes:\", info['pressure_nodes'])"
   ]
  },
  {
   "cell_type": "code",
   "execution_count": 25,
   "metadata": {},
   "outputs": [
    {
     "name": "stdout",
     "output_type": "stream",
     "text": [
      "Element 2:\n",
      "  all_nodes:      [9, 10, 134, 133, 57, 58, 154, 153]\n",
      "  pressure_nodes: [9, 10, 134, 133]\n",
      "Element 3:\n",
      "  all_nodes:      [10, 11, 135, 134, 58, 59, 155, 154]\n",
      "  pressure_nodes: [10, 11, 135, 134]\n",
      "Element 4:\n",
      "  all_nodes:      [11, 12, 136, 135, 59, 60, 156, 155]\n",
      "  pressure_nodes: [11, 12, 136, 135]\n",
      "Element 5:\n",
      "  all_nodes:      [12, 2, 25, 136, 60, 13, 73, 156]\n",
      "  pressure_nodes: [12, 2, 25, 136]\n",
      "Element 6:\n",
      "  all_nodes:      [52, 133, 129, 51, 108, 153, 157, 107]\n",
      "  pressure_nodes: [52, 133, 129, 51]\n",
      "Element 7:\n",
      "  all_nodes:      [133, 134, 130, 129, 153, 154, 158, 157]\n",
      "  pressure_nodes: [133, 134, 130, 129]\n",
      "Element 8:\n",
      "  all_nodes:      [134, 135, 131, 130, 154, 155, 159, 158]\n",
      "  pressure_nodes: [134, 135, 131, 130]\n",
      "Element 9:\n",
      "  all_nodes:      [135, 136, 132, 131, 155, 156, 160, 159]\n",
      "  pressure_nodes: [135, 136, 132, 131]\n",
      "Element 10:\n",
      "  all_nodes:      [136, 25, 26, 132, 156, 73, 74, 160]\n",
      "  pressure_nodes: [136, 25, 26, 132]\n",
      "Element 11:\n",
      "  all_nodes:      [51, 129, 125, 50, 107, 157, 161, 106]\n",
      "  pressure_nodes: [51, 129, 125, 50]\n",
      "Element 12:\n",
      "  all_nodes:      [129, 130, 126, 125, 157, 158, 162, 161]\n",
      "  pressure_nodes: [129, 130, 126, 125]\n",
      "Element 13:\n",
      "  all_nodes:      [130, 131, 127, 126, 158, 159, 163, 162]\n",
      "  pressure_nodes: [130, 131, 127, 126]\n",
      "Element 14:\n",
      "  all_nodes:      [131, 132, 128, 127, 159, 160, 164, 163]\n",
      "  pressure_nodes: [131, 132, 128, 127]\n",
      "Element 15:\n",
      "  all_nodes:      [132, 26, 27, 128, 160, 74, 75, 164]\n",
      "  pressure_nodes: [132, 26, 27, 128]\n",
      "Element 16:\n",
      "  all_nodes:      [50, 125, 121, 49, 106, 161, 165, 105]\n",
      "  pressure_nodes: [50, 125, 121, 49]\n",
      "Element 17:\n",
      "  all_nodes:      [125, 126, 122, 121, 161, 162, 166, 165]\n",
      "  pressure_nodes: [125, 126, 122, 121]\n",
      "Element 18:\n",
      "  all_nodes:      [126, 127, 123, 122, 162, 163, 167, 166]\n",
      "  pressure_nodes: [126, 127, 123, 122]\n",
      "Element 19:\n",
      "  all_nodes:      [127, 128, 124, 123, 163, 164, 168, 167]\n",
      "  pressure_nodes: [127, 128, 124, 123]\n",
      "Element 20:\n",
      "  all_nodes:      [128, 27, 28, 124, 164, 75, 76, 168]\n",
      "  pressure_nodes: [128, 27, 28, 124]\n",
      "Element 21:\n",
      "  all_nodes:      [49, 121, 40, 4, 105, 165, 92, 41]\n",
      "  pressure_nodes: [49, 121, 40, 4]\n",
      "Element 22:\n",
      "  all_nodes:      [121, 122, 39, 40, 165, 166, 91, 92]\n",
      "  pressure_nodes: [121, 122, 39, 40]\n",
      "Element 23:\n",
      "  all_nodes:      [122, 123, 38, 39, 166, 167, 90, 91]\n",
      "  pressure_nodes: [122, 123, 38, 39]\n",
      "Element 24:\n",
      "  all_nodes:      [123, 124, 37, 38, 167, 168, 89, 90]\n",
      "  pressure_nodes: [123, 124, 37, 38]\n",
      "Element 25:\n",
      "  all_nodes:      [124, 28, 3, 37, 168, 76, 29, 89]\n",
      "  pressure_nodes: [124, 28, 3, 37]\n"
     ]
    }
   ],
   "source": [
    "# 2) Flatten pressure-node dict into a set of node IDs\n",
    "ZD_nodes_set = {\n",
    "    n\n",
    "    for nodes in ZD_nodes.values()\n",
    "    for n in nodes\n",
    "}\n",
    "\n",
    "mapping_element_ZD = map_pressure_to_elements(connectivity_list, ZD_nodes_set)\n",
    "#print(mapping.keys())\n",
    "# (3) inspect\n",
    "for eid, info in mapping_element_ZD.items():\n",
    "    print(f\"Element {eid}:\")\n",
    "    print(\"  all_nodes:     \", info['all_nodes'])\n",
    "    print(\"  pressure_nodes:\", info['pressure_nodes'])"
   ]
  },
  {
   "cell_type": "code",
   "execution_count": 26,
   "metadata": {},
   "outputs": [],
   "source": [
    "pressure_element_IDs=list(mapping_element_pressure.keys())\n",
    "\n",
    "pressure_element_IDs_final = torch.tensor([nid - 1 for nid in pressure_element_IDs], dtype=torch.long)\n",
    "\n",
    "#len(pressure_element_IDs_final)"
   ]
  },
  {
   "cell_type": "code",
   "execution_count": 27,
   "metadata": {},
   "outputs": [],
   "source": [
    "ZD_element_IDs=list(mapping_element_ZD.keys())\n",
    "\n",
    "ZD_element_IDs_final = torch.tensor([nid - 1 for nid in ZD_element_IDs], dtype=torch.long)\n",
    "\n",
    "#len(pressure_element_IDs_final)"
   ]
  },
  {
   "cell_type": "code",
   "execution_count": 28,
   "metadata": {},
   "outputs": [
    {
     "name": "stdout",
     "output_type": "stream",
     "text": [
      "torch.Size([25, 3, 11])\n",
      "torch.Size([25, 3, 11])\n"
     ]
    }
   ],
   "source": [
    "#Get normals of surfaces where pressure is applied\n",
    "# 1) zero‐based indices for those nodes:\n",
    "idx = torch.tensor([nid - 1 for nid in pressure_node_ids], dtype=torch.long)\n",
    "idx_ZD = torch.tensor([nid - 1 for nid in ZD_node_ids], dtype=torch.long)\n",
    "\n",
    "# 2) index into the first dimension:\n",
    "#    result has shape (100, 3, 11)\n",
    "pressure_normals = surface_normal_tensor[idx, :, :]\n",
    "area_normals = area_tensor[idx, :, :]\n",
    "\n",
    "#ZD:\n",
    "ZD_normals = surface_normal_tensor[idx_ZD, :, :]\n",
    "ZD_areas = area_tensor[idx_ZD, :, :]\n",
    "\n",
    "\n",
    "print(pressure_normals.shape)  # → torch.Size([100, 3, 11])\n",
    "print(ZD_normals.shape)  # → torch.Size([100, 3, 11])"
   ]
  },
  {
   "cell_type": "code",
   "execution_count": 29,
   "metadata": {},
   "outputs": [
    {
     "name": "stdout",
     "output_type": "stream",
     "text": [
      "max idx = 124\n",
      "min idx = 100\n"
     ]
    }
   ],
   "source": [
    "#print(\"VF.shape =\", VF.shape)\n",
    "print(\"max idx =\", max(pressure_element_IDs_final).item())\n",
    "print(\"min idx =\", min(pressure_element_IDs_final).item())\n"
   ]
  },
  {
   "cell_type": "markdown",
   "metadata": {},
   "source": [
    "# Surface Normals"
   ]
  },
  {
   "cell_type": "code",
   "execution_count": 30,
   "metadata": {},
   "outputs": [
    {
     "data": {
      "text/plain": [
       "torch.Size([150, 3, 11])"
      ]
     },
     "execution_count": 30,
     "metadata": {},
     "output_type": "execute_result"
    }
   ],
   "source": [
    "surface_normal_tensor.shape"
   ]
  },
  {
   "cell_type": "code",
   "execution_count": 31,
   "metadata": {},
   "outputs": [],
   "source": [
    "facet_connectivity_list = [\n",
    "    tuple(map(int, row))           # ensure ints\n",
    "    for row in facet_connectivity.values\n",
    "]"
   ]
  },
  {
   "cell_type": "code",
   "execution_count": 32,
   "metadata": {},
   "outputs": [
    {
     "data": {
      "text/plain": [
       "[(2, 52, 1, 24, 108),\n",
       " (3, 52, 133, 9, 1),\n",
       " (4, 9, 10, 58, 57),\n",
       " (5, 133, 134, 10, 9),\n",
       " (6, 10, 11, 59, 58),\n",
       " (7, 134, 135, 11, 10),\n",
       " (8, 11, 12, 60, 59),\n",
       " (9, 135, 136, 12, 11),\n",
       " (10, 12, 2, 13, 60),\n",
       " (11, 2, 25, 73, 13),\n",
       " (12, 136, 25, 2, 12),\n",
       " (13, 51, 52, 108, 107),\n",
       " (14, 51, 129, 133, 52),\n",
       " (15, 129, 130, 134, 133),\n",
       " (16, 130, 131, 135, 134),\n",
       " (17, 131, 132, 136, 135),\n",
       " (18, 25, 26, 74, 73),\n",
       " (19, 132, 26, 25, 136),\n",
       " (20, 50, 51, 107, 106),\n",
       " (21, 50, 125, 129, 51),\n",
       " (22, 125, 126, 130, 129),\n",
       " (23, 126, 127, 131, 130),\n",
       " (24, 127, 128, 132, 131),\n",
       " (25, 26, 27, 75, 74),\n",
       " (26, 128, 27, 26, 132),\n",
       " (27, 49, 50, 106, 105),\n",
       " (28, 49, 121, 125, 50),\n",
       " (29, 121, 122, 126, 125),\n",
       " (30, 122, 123, 127, 126),\n",
       " (31, 123, 124, 128, 127),\n",
       " (32, 27, 28, 76, 75),\n",
       " (33, 124, 28, 27, 128),\n",
       " (34, 40, 4, 41, 92),\n",
       " (35, 4, 49, 105, 41),\n",
       " (36, 4, 40, 121, 49),\n",
       " (37, 39, 40, 92, 91),\n",
       " (38, 40, 39, 122, 121),\n",
       " (39, 38, 39, 91, 90),\n",
       " (40, 39, 38, 123, 122),\n",
       " (41, 37, 38, 90, 89),\n",
       " (42, 38, 37, 124, 123),\n",
       " (43, 28, 3, 29, 76),\n",
       " (44, 3, 37, 89, 29),\n",
       " (45, 37, 3, 28, 124),\n",
       " (46, 24, 57, 61, 23),\n",
       " (47, 108, 24, 23, 112),\n",
       " (48, 57, 58, 62, 61),\n",
       " (49, 58, 59, 63, 62),\n",
       " (50, 59, 60, 64, 63),\n",
       " (51, 60, 13, 14, 64),\n",
       " (52, 13, 73, 77, 14),\n",
       " (53, 107, 108, 112, 111),\n",
       " (54, 73, 74, 78, 77),\n",
       " (55, 106, 107, 111, 110),\n",
       " (56, 74, 75, 79, 78),\n",
       " (57, 105, 106, 110, 109),\n",
       " (58, 75, 76, 80, 79),\n",
       " (59, 92, 41, 42, 96),\n",
       " (60, 41, 105, 109, 42),\n",
       " (61, 91, 92, 96, 95),\n",
       " (62, 90, 91, 95, 94),\n",
       " (63, 89, 90, 94, 93),\n",
       " (64, 76, 29, 30, 80),\n",
       " (65, 29, 89, 93, 30),\n",
       " (66, 23, 61, 65, 22),\n",
       " (67, 112, 23, 22, 116),\n",
       " (68, 61, 62, 66, 65),\n",
       " (69, 62, 63, 67, 66),\n",
       " (70, 63, 64, 68, 67),\n",
       " (71, 64, 14, 15, 68),\n",
       " (72, 14, 77, 81, 15),\n",
       " (73, 111, 112, 116, 115),\n",
       " (74, 77, 78, 82, 81),\n",
       " (75, 110, 111, 115, 114),\n",
       " (76, 78, 79, 83, 82),\n",
       " (77, 109, 110, 114, 113),\n",
       " (78, 79, 80, 84, 83),\n",
       " (79, 96, 42, 43, 100),\n",
       " (80, 42, 109, 113, 43),\n",
       " (81, 95, 96, 100, 99),\n",
       " (82, 94, 95, 99, 98),\n",
       " (83, 93, 94, 98, 97),\n",
       " (84, 80, 30, 31, 84),\n",
       " (85, 30, 93, 97, 31),\n",
       " (86, 22, 65, 69, 21),\n",
       " (87, 116, 22, 21, 120),\n",
       " (88, 65, 66, 70, 69),\n",
       " (89, 66, 67, 71, 70),\n",
       " (90, 67, 68, 72, 71),\n",
       " (91, 68, 15, 16, 72),\n",
       " (92, 15, 81, 85, 16),\n",
       " (93, 115, 116, 120, 119),\n",
       " (94, 81, 82, 86, 85),\n",
       " (95, 114, 115, 119, 118),\n",
       " (96, 82, 83, 87, 86),\n",
       " (97, 113, 114, 118, 117),\n",
       " (98, 83, 84, 88, 87),\n",
       " (99, 100, 43, 44, 104),\n",
       " (100, 43, 113, 117, 44),\n",
       " (101, 99, 100, 104, 103),\n",
       " (102, 98, 99, 103, 102),\n",
       " (103, 97, 98, 102, 101),\n",
       " (104, 84, 31, 32, 88),\n",
       " (105, 31, 97, 101, 32),\n",
       " (106, 21, 69, 20, 5),\n",
       " (107, 120, 21, 5, 53),\n",
       " (108, 5, 20, 137, 53),\n",
       " (109, 69, 70, 19, 20),\n",
       " (110, 20, 19, 138, 137),\n",
       " (111, 70, 71, 18, 19),\n",
       " (112, 19, 18, 139, 138),\n",
       " (113, 71, 72, 17, 18),\n",
       " (114, 18, 17, 140, 139),\n",
       " (115, 72, 16, 6, 17),\n",
       " (116, 16, 85, 36, 6),\n",
       " (117, 17, 6, 36, 140),\n",
       " (118, 119, 120, 53, 54),\n",
       " (119, 53, 137, 141, 54),\n",
       " (120, 137, 138, 142, 141),\n",
       " (121, 138, 139, 143, 142),\n",
       " (122, 139, 140, 144, 143),\n",
       " (123, 85, 86, 35, 36),\n",
       " (124, 140, 36, 35, 144),\n",
       " (125, 118, 119, 54, 55),\n",
       " (126, 54, 141, 145, 55),\n",
       " (127, 141, 142, 146, 145),\n",
       " (128, 142, 143, 147, 146),\n",
       " (129, 143, 144, 148, 147),\n",
       " (130, 86, 87, 34, 35),\n",
       " (131, 144, 35, 34, 148),\n",
       " (132, 117, 118, 55, 56),\n",
       " (133, 55, 145, 149, 56),\n",
       " (134, 145, 146, 150, 149),\n",
       " (135, 146, 147, 151, 150),\n",
       " (136, 147, 148, 152, 151),\n",
       " (137, 87, 88, 33, 34),\n",
       " (138, 148, 34, 33, 152),\n",
       " (139, 104, 44, 8, 45),\n",
       " (140, 44, 117, 56, 8),\n",
       " (141, 56, 149, 45, 8),\n",
       " (142, 103, 104, 45, 46),\n",
       " (143, 149, 150, 46, 45),\n",
       " (144, 102, 103, 46, 47),\n",
       " (145, 150, 151, 47, 46),\n",
       " (146, 101, 102, 47, 48),\n",
       " (147, 151, 152, 48, 47),\n",
       " (148, 88, 32, 7, 33),\n",
       " (149, 32, 101, 48, 7),\n",
       " (150, 152, 33, 7, 48)]"
      ]
     },
     "execution_count": 32,
     "metadata": {},
     "output_type": "execute_result"
    }
   ],
   "source": [
    "facet_connectivity_list"
   ]
  },
  {
   "cell_type": "code",
   "execution_count": 33,
   "metadata": {},
   "outputs": [
    {
     "name": "stdout",
     "output_type": "stream",
     "text": [
      "Facet 4 with nodes [9, 10, 58, 57] → elements [2]\n",
      "Facet 5 with nodes [133, 134, 10, 9] → elements [2]\n",
      "Facet 6 with nodes [10, 11, 59, 58] → elements [3]\n",
      "Facet 7 with nodes [134, 135, 11, 10] → elements [3]\n",
      "Facet 8 with nodes [11, 12, 60, 59] → elements [4]\n",
      "Facet 9 with nodes [135, 136, 12, 11] → elements [4]\n",
      "Facet 10 with nodes [12, 2, 13, 60] → elements [5]\n",
      "Facet 11 with nodes [2, 25, 73, 13] → elements [5]\n",
      "Facet 12 with nodes [136, 25, 2, 12] → elements [5]\n",
      "Facet 13 with nodes [51, 52, 108, 107] → elements [6]\n",
      "Facet 14 with nodes [51, 129, 133, 52] → elements [6]\n",
      "Facet 15 with nodes [129, 130, 134, 133] → elements [7]\n",
      "Facet 16 with nodes [130, 131, 135, 134] → elements [8]\n",
      "Facet 17 with nodes [131, 132, 136, 135] → elements [9]\n",
      "Facet 18 with nodes [25, 26, 74, 73] → elements [10]\n",
      "Facet 19 with nodes [132, 26, 25, 136] → elements [10]\n",
      "Facet 20 with nodes [50, 51, 107, 106] → elements [11]\n",
      "Facet 21 with nodes [50, 125, 129, 51] → elements [11]\n",
      "Facet 22 with nodes [125, 126, 130, 129] → elements [12]\n",
      "Facet 23 with nodes [126, 127, 131, 130] → elements [13]\n",
      "Facet 24 with nodes [127, 128, 132, 131] → elements [14]\n",
      "Facet 25 with nodes [26, 27, 75, 74] → elements [15]\n",
      "Facet 26 with nodes [128, 27, 26, 132] → elements [15]\n",
      "Facet 27 with nodes [49, 50, 106, 105] → elements [16]\n",
      "Facet 28 with nodes [49, 121, 125, 50] → elements [16]\n",
      "Facet 29 with nodes [121, 122, 126, 125] → elements [17]\n",
      "Facet 30 with nodes [122, 123, 127, 126] → elements [18]\n",
      "Facet 31 with nodes [123, 124, 128, 127] → elements [19]\n",
      "Facet 32 with nodes [27, 28, 76, 75] → elements [20]\n",
      "Facet 33 with nodes [124, 28, 27, 128] → elements [20]\n",
      "Facet 34 with nodes [40, 4, 41, 92] → elements [21]\n",
      "Facet 35 with nodes [4, 49, 105, 41] → elements [21]\n",
      "Facet 36 with nodes [4, 40, 121, 49] → elements [21]\n",
      "Facet 37 with nodes [39, 40, 92, 91] → elements [22]\n",
      "Facet 38 with nodes [40, 39, 122, 121] → elements [22]\n",
      "Facet 39 with nodes [38, 39, 91, 90] → elements [23]\n",
      "Facet 40 with nodes [39, 38, 123, 122] → elements [23]\n",
      "Facet 41 with nodes [37, 38, 90, 89] → elements [24]\n",
      "Facet 42 with nodes [38, 37, 124, 123] → elements [24]\n",
      "Facet 43 with nodes [28, 3, 29, 76] → elements [25]\n",
      "Facet 44 with nodes [3, 37, 89, 29] → elements [25]\n",
      "Facet 45 with nodes [37, 3, 28, 124] → elements [25]\n",
      "Facet 46 with nodes [24, 57, 61, 23] → elements [26]\n",
      "Facet 47 with nodes [108, 24, 23, 112] → elements [26]\n",
      "Facet 48 with nodes [57, 58, 62, 61] → elements [27]\n",
      "Facet 49 with nodes [58, 59, 63, 62] → elements [28]\n",
      "Facet 50 with nodes [59, 60, 64, 63] → elements [29]\n",
      "Facet 51 with nodes [60, 13, 14, 64] → elements [30]\n",
      "Facet 52 with nodes [13, 73, 77, 14] → elements [30]\n",
      "Facet 53 with nodes [107, 108, 112, 111] → elements [31]\n",
      "Facet 54 with nodes [73, 74, 78, 77] → elements [35]\n",
      "Facet 55 with nodes [106, 107, 111, 110] → elements [36]\n",
      "Facet 56 with nodes [74, 75, 79, 78] → elements [40]\n",
      "Facet 57 with nodes [105, 106, 110, 109] → elements [41]\n",
      "Facet 58 with nodes [75, 76, 80, 79] → elements [45]\n",
      "Facet 59 with nodes [92, 41, 42, 96] → elements [46]\n",
      "Facet 60 with nodes [41, 105, 109, 42] → elements [46]\n",
      "Facet 61 with nodes [91, 92, 96, 95] → elements [47]\n",
      "Facet 62 with nodes [90, 91, 95, 94] → elements [48]\n",
      "Facet 63 with nodes [89, 90, 94, 93] → elements [49]\n",
      "Facet 64 with nodes [76, 29, 30, 80] → elements [50]\n",
      "Facet 65 with nodes [29, 89, 93, 30] → elements [50]\n",
      "Facet 66 with nodes [23, 61, 65, 22] → elements [51]\n",
      "Facet 67 with nodes [112, 23, 22, 116] → elements [51]\n",
      "Facet 68 with nodes [61, 62, 66, 65] → elements [52]\n",
      "Facet 69 with nodes [62, 63, 67, 66] → elements [53]\n",
      "Facet 70 with nodes [63, 64, 68, 67] → elements [54]\n",
      "Facet 71 with nodes [64, 14, 15, 68] → elements [55]\n",
      "Facet 72 with nodes [14, 77, 81, 15] → elements [55]\n",
      "Facet 73 with nodes [111, 112, 116, 115] → elements [56]\n",
      "Facet 74 with nodes [77, 78, 82, 81] → elements [60]\n",
      "Facet 75 with nodes [110, 111, 115, 114] → elements [61]\n",
      "Facet 76 with nodes [78, 79, 83, 82] → elements [65]\n",
      "Facet 77 with nodes [109, 110, 114, 113] → elements [66]\n",
      "Facet 78 with nodes [79, 80, 84, 83] → elements [70]\n",
      "Facet 79 with nodes [96, 42, 43, 100] → elements [71]\n",
      "Facet 80 with nodes [42, 109, 113, 43] → elements [71]\n",
      "Facet 81 with nodes [95, 96, 100, 99] → elements [72]\n",
      "Facet 82 with nodes [94, 95, 99, 98] → elements [73]\n",
      "Facet 83 with nodes [93, 94, 98, 97] → elements [74]\n",
      "Facet 84 with nodes [80, 30, 31, 84] → elements [75]\n",
      "Facet 85 with nodes [30, 93, 97, 31] → elements [75]\n",
      "Facet 86 with nodes [22, 65, 69, 21] → elements [76]\n",
      "Facet 87 with nodes [116, 22, 21, 120] → elements [76]\n",
      "Facet 88 with nodes [65, 66, 70, 69] → elements [77]\n",
      "Facet 89 with nodes [66, 67, 71, 70] → elements [78]\n",
      "Facet 90 with nodes [67, 68, 72, 71] → elements [79]\n",
      "Facet 91 with nodes [68, 15, 16, 72] → elements [80]\n",
      "Facet 92 with nodes [15, 81, 85, 16] → elements [80]\n",
      "Facet 93 with nodes [115, 116, 120, 119] → elements [81]\n",
      "Facet 94 with nodes [81, 82, 86, 85] → elements [85]\n",
      "Facet 95 with nodes [114, 115, 119, 118] → elements [86]\n",
      "Facet 96 with nodes [82, 83, 87, 86] → elements [90]\n",
      "Facet 97 with nodes [113, 114, 118, 117] → elements [91]\n",
      "Facet 98 with nodes [83, 84, 88, 87] → elements [95]\n",
      "Facet 99 with nodes [100, 43, 44, 104] → elements [96]\n",
      "Facet 100 with nodes [43, 113, 117, 44] → elements [96]\n",
      "Facet 101 with nodes [99, 100, 104, 103] → elements [97]\n",
      "Facet 102 with nodes [98, 99, 103, 102] → elements [98]\n",
      "Facet 103 with nodes [97, 98, 102, 101] → elements [99]\n",
      "Facet 104 with nodes [84, 31, 32, 88] → elements [100]\n",
      "Facet 105 with nodes [31, 97, 101, 32] → elements [100]\n",
      "Facet 106 with nodes [21, 69, 20, 5] → elements [101]\n",
      "Facet 107 with nodes [120, 21, 5, 53] → elements [101]\n",
      "Facet 108 with nodes [5, 20, 137, 53] → elements [101]\n",
      "Facet 109 with nodes [69, 70, 19, 20] → elements [102]\n",
      "Facet 110 with nodes [20, 19, 138, 137] → elements [102]\n",
      "Facet 111 with nodes [70, 71, 18, 19] → elements [103]\n",
      "Facet 112 with nodes [19, 18, 139, 138] → elements [103]\n",
      "Facet 113 with nodes [71, 72, 17, 18] → elements [104]\n",
      "Facet 114 with nodes [18, 17, 140, 139] → elements [104]\n",
      "Facet 115 with nodes [72, 16, 6, 17] → elements [105]\n",
      "Facet 116 with nodes [16, 85, 36, 6] → elements [105]\n",
      "Facet 117 with nodes [17, 6, 36, 140] → elements [105]\n",
      "Facet 118 with nodes [119, 120, 53, 54] → elements [106]\n",
      "Facet 119 with nodes [53, 137, 141, 54] → elements [106]\n",
      "Facet 120 with nodes [137, 138, 142, 141] → elements [107]\n",
      "Facet 121 with nodes [138, 139, 143, 142] → elements [108]\n",
      "Facet 122 with nodes [139, 140, 144, 143] → elements [109]\n",
      "Facet 123 with nodes [85, 86, 35, 36] → elements [110]\n",
      "Facet 124 with nodes [140, 36, 35, 144] → elements [110]\n",
      "Facet 125 with nodes [118, 119, 54, 55] → elements [111]\n",
      "Facet 126 with nodes [54, 141, 145, 55] → elements [111]\n",
      "Facet 127 with nodes [141, 142, 146, 145] → elements [112]\n",
      "Facet 128 with nodes [142, 143, 147, 146] → elements [113]\n",
      "Facet 129 with nodes [143, 144, 148, 147] → elements [114]\n",
      "Facet 130 with nodes [86, 87, 34, 35] → elements [115]\n",
      "Facet 131 with nodes [144, 35, 34, 148] → elements [115]\n",
      "Facet 132 with nodes [117, 118, 55, 56] → elements [116]\n",
      "Facet 133 with nodes [55, 145, 149, 56] → elements [116]\n",
      "Facet 134 with nodes [145, 146, 150, 149] → elements [117]\n",
      "Facet 135 with nodes [146, 147, 151, 150] → elements [118]\n",
      "Facet 136 with nodes [147, 148, 152, 151] → elements [119]\n",
      "Facet 137 with nodes [87, 88, 33, 34] → elements [120]\n",
      "Facet 138 with nodes [148, 34, 33, 152] → elements [120]\n",
      "Facet 139 with nodes [104, 44, 8, 45] → elements [121]\n",
      "Facet 140 with nodes [44, 117, 56, 8] → elements [121]\n",
      "Facet 141 with nodes [56, 149, 45, 8] → elements [121]\n",
      "Facet 142 with nodes [103, 104, 45, 46] → elements [122]\n",
      "Facet 143 with nodes [149, 150, 46, 45] → elements [122]\n",
      "Facet 144 with nodes [102, 103, 46, 47] → elements [123]\n",
      "Facet 145 with nodes [150, 151, 47, 46] → elements [123]\n",
      "Facet 146 with nodes [101, 102, 47, 48] → elements [124]\n",
      "Facet 147 with nodes [151, 152, 48, 47] → elements [124]\n",
      "Facet 148 with nodes [88, 32, 7, 33] → elements [125]\n",
      "Facet 149 with nodes [32, 101, 48, 7] → elements [125]\n",
      "Facet 150 with nodes [152, 33, 7, 48] → elements [125]\n"
     ]
    }
   ],
   "source": [
    "facet2elems = map_facets_to_elements(connectivity_list, facet_connectivity_list)\n",
    "for fid, info in facet2elems.items():\n",
    "    print(f\"Facet {fid} with nodes {info['facet_nodes']} → elements {info['element_ids']}\")"
   ]
  },
  {
   "cell_type": "code",
   "execution_count": 34,
   "metadata": {},
   "outputs": [
    {
     "data": {
      "text/plain": [
       "{2: [4, 5],\n",
       " 3: [6, 7],\n",
       " 4: [8, 9],\n",
       " 5: [10, 11, 12],\n",
       " 6: [13, 14],\n",
       " 7: [15],\n",
       " 8: [16],\n",
       " 9: [17],\n",
       " 10: [18, 19],\n",
       " 11: [20, 21],\n",
       " 12: [22],\n",
       " 13: [23],\n",
       " 14: [24],\n",
       " 15: [25, 26],\n",
       " 16: [27, 28],\n",
       " 17: [29],\n",
       " 18: [30],\n",
       " 19: [31],\n",
       " 20: [32, 33],\n",
       " 21: [34, 35, 36],\n",
       " 22: [37, 38],\n",
       " 23: [39, 40],\n",
       " 24: [41, 42],\n",
       " 25: [43, 44, 45],\n",
       " 26: [46, 47],\n",
       " 27: [48],\n",
       " 28: [49],\n",
       " 29: [50],\n",
       " 30: [51, 52],\n",
       " 31: [53],\n",
       " 35: [54],\n",
       " 36: [55],\n",
       " 40: [56],\n",
       " 41: [57],\n",
       " 45: [58],\n",
       " 46: [59, 60],\n",
       " 47: [61],\n",
       " 48: [62],\n",
       " 49: [63],\n",
       " 50: [64, 65],\n",
       " 51: [66, 67],\n",
       " 52: [68],\n",
       " 53: [69],\n",
       " 54: [70],\n",
       " 55: [71, 72],\n",
       " 56: [73],\n",
       " 60: [74],\n",
       " 61: [75],\n",
       " 65: [76],\n",
       " 66: [77],\n",
       " 70: [78],\n",
       " 71: [79, 80],\n",
       " 72: [81],\n",
       " 73: [82],\n",
       " 74: [83],\n",
       " 75: [84, 85],\n",
       " 76: [86, 87],\n",
       " 77: [88],\n",
       " 78: [89],\n",
       " 79: [90],\n",
       " 80: [91, 92],\n",
       " 81: [93],\n",
       " 85: [94],\n",
       " 86: [95],\n",
       " 90: [96],\n",
       " 91: [97],\n",
       " 95: [98],\n",
       " 96: [99, 100],\n",
       " 97: [101],\n",
       " 98: [102],\n",
       " 99: [103],\n",
       " 100: [104, 105],\n",
       " 101: [106, 107, 108],\n",
       " 102: [109, 110],\n",
       " 103: [111, 112],\n",
       " 104: [113, 114],\n",
       " 105: [115, 116, 117],\n",
       " 106: [118, 119],\n",
       " 107: [120],\n",
       " 108: [121],\n",
       " 109: [122],\n",
       " 110: [123, 124],\n",
       " 111: [125, 126],\n",
       " 112: [127],\n",
       " 113: [128],\n",
       " 114: [129],\n",
       " 115: [130, 131],\n",
       " 116: [132, 133],\n",
       " 117: [134],\n",
       " 118: [135],\n",
       " 119: [136],\n",
       " 120: [137, 138],\n",
       " 121: [139, 140, 141],\n",
       " 122: [142, 143],\n",
       " 123: [144, 145],\n",
       " 124: [146, 147],\n",
       " 125: [148, 149, 150]}"
      ]
     },
     "execution_count": 34,
     "metadata": {},
     "output_type": "execute_result"
    }
   ],
   "source": [
    "element2facets = {}\n",
    "for facet_id, info in facet2elems.items():\n",
    "    for eid in info['element_ids']:\n",
    "        element2facets.setdefault(eid, []).append(facet_id) \n",
    "element2facets"
   ]
  },
  {
   "cell_type": "code",
   "execution_count": 35,
   "metadata": {},
   "outputs": [
    {
     "data": {
      "text/plain": [
       "(125,\n",
       " tensor([ 0,  1,  2,  3,  4,  5,  6,  7,  8,  9, 10, 11, 12, 13, 14, 15, 16, 17,\n",
       "         18, 19, 20, 21, 22, 23, 24]))"
      ]
     },
     "execution_count": 35,
     "metadata": {},
     "output_type": "execute_result"
    }
   ],
   "source": [
    "eid, idx"
   ]
  },
  {
   "cell_type": "code",
   "execution_count": 36,
   "metadata": {},
   "outputs": [],
   "source": [
    "# 1) select only the pressured elements\n",
    "pressure_elements_facets = {\n",
    "    eid-1: element2facets[eid] #minus one to account for python indexing\n",
    "    for eid in pressure_element_IDs\n",
    "    if eid in element2facets\n",
    "}"
   ]
  },
  {
   "cell_type": "code",
   "execution_count": 37,
   "metadata": {},
   "outputs": [
    {
     "name": "stdout",
     "output_type": "stream",
     "text": [
      "Element 101:\n",
      "  all_nodes:       [21, 69, 201, 120, 5, 20, 137, 53]\n",
      "  pressure_nodes:  [5, 20, 137, 53]\n",
      "  facet_ids:       [108]\n",
      "Element 102:\n",
      "  all_nodes:       [69, 70, 202, 201, 20, 19, 138, 137]\n",
      "  pressure_nodes:  [20, 19, 138, 137]\n",
      "  facet_ids:       [110]\n",
      "Element 103:\n",
      "  all_nodes:       [70, 71, 203, 202, 19, 18, 139, 138]\n",
      "  pressure_nodes:  [19, 18, 139, 138]\n",
      "  facet_ids:       [112]\n",
      "Element 104:\n",
      "  all_nodes:       [71, 72, 204, 203, 18, 17, 140, 139]\n",
      "  pressure_nodes:  [18, 17, 140, 139]\n",
      "  facet_ids:       [114]\n",
      "Element 105:\n",
      "  all_nodes:       [72, 16, 85, 204, 17, 6, 36, 140]\n",
      "  pressure_nodes:  [17, 6, 36, 140]\n",
      "  facet_ids:       [117]\n",
      "Element 106:\n",
      "  all_nodes:       [120, 201, 205, 119, 53, 137, 141, 54]\n",
      "  pressure_nodes:  [53, 137, 141, 54]\n",
      "  facet_ids:       [119]\n",
      "Element 107:\n",
      "  all_nodes:       [201, 202, 206, 205, 137, 138, 142, 141]\n",
      "  pressure_nodes:  [137, 138, 142, 141]\n",
      "  facet_ids:       [120]\n",
      "Element 108:\n",
      "  all_nodes:       [202, 203, 207, 206, 138, 139, 143, 142]\n",
      "  pressure_nodes:  [138, 139, 143, 142]\n",
      "  facet_ids:       [121]\n",
      "Element 109:\n",
      "  all_nodes:       [203, 204, 208, 207, 139, 140, 144, 143]\n",
      "  pressure_nodes:  [139, 140, 144, 143]\n",
      "  facet_ids:       [122]\n",
      "Element 110:\n",
      "  all_nodes:       [204, 85, 86, 208, 140, 36, 35, 144]\n",
      "  pressure_nodes:  [140, 36, 35, 144]\n",
      "  facet_ids:       [124]\n",
      "Element 111:\n",
      "  all_nodes:       [119, 205, 209, 118, 54, 141, 145, 55]\n",
      "  pressure_nodes:  [54, 141, 145, 55]\n",
      "  facet_ids:       [126]\n",
      "Element 112:\n",
      "  all_nodes:       [205, 206, 210, 209, 141, 142, 146, 145]\n",
      "  pressure_nodes:  [141, 142, 146, 145]\n",
      "  facet_ids:       [127]\n",
      "Element 113:\n",
      "  all_nodes:       [206, 207, 211, 210, 142, 143, 147, 146]\n",
      "  pressure_nodes:  [142, 143, 147, 146]\n",
      "  facet_ids:       [128]\n",
      "Element 114:\n",
      "  all_nodes:       [207, 208, 212, 211, 143, 144, 148, 147]\n",
      "  pressure_nodes:  [143, 144, 148, 147]\n",
      "  facet_ids:       [129]\n",
      "Element 115:\n",
      "  all_nodes:       [208, 86, 87, 212, 144, 35, 34, 148]\n",
      "  pressure_nodes:  [144, 35, 34, 148]\n",
      "  facet_ids:       [131]\n",
      "Element 116:\n",
      "  all_nodes:       [118, 209, 213, 117, 55, 145, 149, 56]\n",
      "  pressure_nodes:  [55, 145, 149, 56]\n",
      "  facet_ids:       [133]\n",
      "Element 117:\n",
      "  all_nodes:       [209, 210, 214, 213, 145, 146, 150, 149]\n",
      "  pressure_nodes:  [145, 146, 150, 149]\n",
      "  facet_ids:       [134]\n",
      "Element 118:\n",
      "  all_nodes:       [210, 211, 215, 214, 146, 147, 151, 150]\n",
      "  pressure_nodes:  [146, 147, 151, 150]\n",
      "  facet_ids:       [135]\n",
      "Element 119:\n",
      "  all_nodes:       [211, 212, 216, 215, 147, 148, 152, 151]\n",
      "  pressure_nodes:  [147, 148, 152, 151]\n",
      "  facet_ids:       [136]\n",
      "Element 120:\n",
      "  all_nodes:       [212, 87, 88, 216, 148, 34, 33, 152]\n",
      "  pressure_nodes:  [148, 34, 33, 152]\n",
      "  facet_ids:       [138]\n",
      "Element 121:\n",
      "  all_nodes:       [117, 213, 104, 44, 56, 149, 45, 8]\n",
      "  pressure_nodes:  [56, 149, 45, 8]\n",
      "  facet_ids:       [141]\n",
      "Element 122:\n",
      "  all_nodes:       [213, 214, 103, 104, 149, 150, 46, 45]\n",
      "  pressure_nodes:  [149, 150, 46, 45]\n",
      "  facet_ids:       [143]\n",
      "Element 123:\n",
      "  all_nodes:       [214, 215, 102, 103, 150, 151, 47, 46]\n",
      "  pressure_nodes:  [150, 151, 47, 46]\n",
      "  facet_ids:       [145]\n",
      "Element 124:\n",
      "  all_nodes:       [215, 216, 101, 102, 151, 152, 48, 47]\n",
      "  pressure_nodes:  [151, 152, 48, 47]\n",
      "  facet_ids:       [147]\n",
      "Element 125:\n",
      "  all_nodes:       [216, 88, 32, 101, 152, 33, 7, 48]\n",
      "  pressure_nodes:  [152, 33, 7, 48]\n",
      "  facet_ids:       [150]\n"
     ]
    }
   ],
   "source": [
    "for eid, info in mapping_element_pressure.items():\n",
    "    pset = set(info['pressure_nodes'])\n",
    "    # find the facet(s) whose node-set exactly matches the pressure nodes\n",
    "    facet_ids = [\n",
    "        fid\n",
    "        for fid, n1, n2, n3, n4 in facet_connectivity_list\n",
    "        if set((n1, n2, n3, n4)) == pset\n",
    "    ]\n",
    "    info['facet_ids'] = facet_ids\n",
    "\n",
    "# inspect\n",
    "for eid, info in mapping_element_pressure.items():\n",
    "    print(f\"Element {eid}:\")\n",
    "    print(\"  all_nodes:      \", info['all_nodes'])\n",
    "    print(\"  pressure_nodes: \", info['pressure_nodes'])\n",
    "    print(\"  facet_ids:      \", info.get('facet_ids', []))"
   ]
  },
  {
   "cell_type": "code",
   "execution_count": 38,
   "metadata": {},
   "outputs": [
    {
     "data": {
      "text/plain": [
       "(100, 107)"
      ]
     },
     "execution_count": 38,
     "metadata": {},
     "output_type": "execute_result"
    }
   ],
   "source": [
    "pressure_elem_facets_indexes = [\n",
    "    (eid-1, fid-1)\n",
    "    for eid, info in mapping_element_pressure.items()\n",
    "    for fid in info.get('facet_ids', [])\n",
    "]\n",
    "pressure_elem_facets_indexes[0]"
   ]
  },
  {
   "cell_type": "code",
   "execution_count": 39,
   "metadata": {},
   "outputs": [],
   "source": [
    "# 1) Extract index lists\n",
    "elem_idxs  = torch.tensor([e for e, f in pressure_elem_facets_indexes], dtype=torch.long)\n",
    "facet_idxs = torch.tensor([f for e, f in pressure_elem_facets_indexes], dtype=torch.long)"
   ]
  },
  {
   "cell_type": "markdown",
   "metadata": {},
   "source": [
    "# Architecture"
   ]
  },
  {
   "cell_type": "code",
   "execution_count": 325,
   "metadata": {},
   "outputs": [
    {
     "name": "stdout",
     "output_type": "stream",
     "text": [
      "The autoreload extension is already loaded. To reload it, use:\n",
      "  %reload_ext autoreload\n"
     ]
    }
   ],
   "source": [
    "%load_ext autoreload\n",
    "%autoreload 2"
   ]
  },
  {
   "cell_type": "code",
   "execution_count": 326,
   "metadata": {},
   "outputs": [],
   "source": [
    "del model"
   ]
  },
  {
   "cell_type": "code",
   "execution_count": 327,
   "metadata": {},
   "outputs": [],
   "source": [
    "from model import *\n",
    "\n",
    "vf_number=2 #linear elastic is 2 parameters\n",
    "model = ICNN3D_Taylor_multifield_with_neg(n_input=3,\n",
    "                n_hidden=[128,64,32],\n",
    "                n_output=30,\n",
    "                use_dropout=True,\n",
    "                dropout_rate=0.2,\n",
    "                centroids=True, p_fields=vf_number)"
   ]
  },
  {
   "cell_type": "code",
   "execution_count": 328,
   "metadata": {},
   "outputs": [
    {
     "data": {
      "text/plain": [
       "=================================================================\n",
       "Layer (type:depth-idx)                   Param #\n",
       "=================================================================\n",
       "ICNN3D_Taylor_multifield_with_neg        --\n",
       "├─ModuleDict: 1-1                        --\n",
       "│    └─Linear: 2-1                       896\n",
       "│    └─Linear: 2-2                       8,256\n",
       "│    └─Linear: 2-3                       2,080\n",
       "│    └─Linear: 2-4                       1,980\n",
       "├─ModuleDict: 1-2                        --\n",
       "│    └─Linear: 2-5                       448\n",
       "│    └─Linear: 2-6                       224\n",
       "│    └─Linear: 2-7                       420\n",
       "├─AdaptiveAvgPool1d: 1-3                 --\n",
       "=================================================================\n",
       "Total params: 14,304\n",
       "Trainable params: 14,304\n",
       "Non-trainable params: 0\n",
       "================================================================="
      ]
     },
     "execution_count": 328,
     "metadata": {},
     "output_type": "execute_result"
    }
   ],
   "source": [
    "from torchinfo import summary\n",
    "model = model.to(device)\n",
    "summary(model)"
   ]
  },
  {
   "cell_type": "markdown",
   "metadata": {},
   "source": [
    "## Training loop"
   ]
  },
  {
   "cell_type": "code",
   "execution_count": 43,
   "metadata": {},
   "outputs": [
    {
     "data": {
      "text/plain": [
       "(torch.Size([125, 9, 11]), torch.Size([125, 6, 11]), torch.Size([125, 3, 11]))"
      ]
     },
     "execution_count": 43,
     "metadata": {},
     "output_type": "execute_result"
    }
   ],
   "source": [
    "F_tensor.shape, stress_tensor.shape, centroids_tensor.shape"
   ]
  },
  {
   "cell_type": "code",
   "execution_count": 44,
   "metadata": {},
   "outputs": [
    {
     "data": {
      "text/plain": [
       "torch.Size([125, 12, 11])"
      ]
     },
     "execution_count": 44,
     "metadata": {},
     "output_type": "execute_result"
    }
   ],
   "source": [
    "x_input= torch.cat(( F_tensor.to(device),centroids_tensor.to(device)), dim=1)\n",
    "#x_input= F_tensor.to(device)\n",
    "x_input.shape"
   ]
  },
  {
   "cell_type": "code",
   "execution_count": 45,
   "metadata": {},
   "outputs": [
    {
     "name": "stdout",
     "output_type": "stream",
     "text": [
      "V2\n"
     ]
    }
   ],
   "source": [
    "stress_tensor_3d=Voigt_to_3d_v2(stress_tensor)"
   ]
  },
  {
   "cell_type": "code",
   "execution_count": 46,
   "metadata": {},
   "outputs": [
    {
     "name": "stdout",
     "output_type": "stream",
     "text": [
      "V2\n"
     ]
    }
   ],
   "source": [
    "strain_tensor_3d=Voigt_to_3d_v2(strain_tensor)"
   ]
  },
  {
   "cell_type": "code",
   "execution_count": 330,
   "metadata": {},
   "outputs": [
    {
     "data": {
      "text/plain": [
       "ICNN3D_Taylor_multifield_with_neg(\n",
       "  (layers): ModuleDict(\n",
       "    (0): Linear(in_features=6, out_features=128, bias=True)\n",
       "    (1): Linear(in_features=128, out_features=64, bias=True)\n",
       "    (2): Linear(in_features=64, out_features=32, bias=True)\n",
       "    (3): Linear(in_features=32, out_features=60, bias=True)\n",
       "  )\n",
       "  (skip_layers): ModuleDict(\n",
       "    (1): Linear(in_features=6, out_features=64, bias=True)\n",
       "    (2): Linear(in_features=6, out_features=32, bias=True)\n",
       "    (3): Linear(in_features=6, out_features=60, bias=True)\n",
       "  )\n",
       "  (global_pooling): AdaptiveAvgPool1d(output_size=1)\n",
       ")"
      ]
     },
     "execution_count": 330,
     "metadata": {},
     "output_type": "execute_result"
    }
   ],
   "source": [
    "model.apply(init_weights)"
   ]
  },
  {
   "cell_type": "markdown",
   "metadata": {},
   "source": [
    "#### Train\n",
    "If we keep the strain pointwise throughout the solid we can get a map of parameters..."
   ]
  },
  {
   "cell_type": "code",
   "execution_count": 331,
   "metadata": {},
   "outputs": [
    {
     "name": "stdout",
     "output_type": "stream",
     "text": [
      "Epoch    0 │ W_int (internal work): -8.08e+01 │ W_ext (external work): -1.47e+03 │ Zero Displacement term:  9.87e+00 │ Special Loss term:  2.2069e+04 │ Gram Loss:  9.5093e-02 │ Loss:  6.86e+05\n",
      "Epoch   50 │ W_int (internal work):  8.93e+01 │ W_ext (external work):  8.06e+01 │ Zero Displacement term:  2.47e+00 │ Special Loss term:  2.2372e+00 │ Gram Loss:  2.7167e-03 │ Loss:  6.01e+02\n",
      "Epoch  100 │ W_int (internal work):  9.47e+01 │ W_ext (external work):  5.80e+01 │ Zero Displacement term:  2.26e+00 │ Special Loss term:  2.1857e+00 │ Gram Loss:  7.5990e-04 │ Loss:  2.86e+02\n",
      "Epoch  150 │ W_int (internal work):  8.40e+01 │ W_ext (external work):  5.92e+01 │ Zero Displacement term:  2.29e+00 │ Special Loss term:  2.2449e+00 │ Gram Loss:  4.1417e-04 │ Loss:  2.23e+02\n",
      "Epoch  200 │ W_int (internal work):  8.63e+01 │ W_ext (external work):  6.51e+01 │ Zero Displacement term:  2.44e+00 │ Special Loss term:  2.2232e+00 │ Gram Loss:  4.3884e-04 │ Loss:  1.45e+02\n",
      "Epoch  250 │ W_int (internal work):  9.05e+01 │ W_ext (external work):  6.48e+01 │ Zero Displacement term:  2.57e+00 │ Special Loss term:  2.2229e+00 │ Gram Loss:  2.0215e-04 │ Loss:  1.10e+02\n",
      "Epoch  300 │ W_int (internal work):  9.00e+01 │ W_ext (external work):  6.85e+01 │ Zero Displacement term:  2.73e+00 │ Special Loss term:  2.2030e+00 │ Gram Loss:  6.9171e-04 │ Loss:  8.22e+01\n",
      "Epoch  350 │ W_int (internal work):  8.11e+01 │ W_ext (external work):  7.90e+01 │ Zero Displacement term:  2.74e+00 │ Special Loss term:  2.2816e+00 │ Gram Loss:  1.7448e-04 │ Loss:  4.32e+01\n",
      "Epoch  400 │ W_int (internal work):  8.35e+01 │ W_ext (external work):  7.27e+01 │ Zero Displacement term:  2.81e+00 │ Special Loss term:  2.2705e+00 │ Gram Loss:  1.6519e-04 │ Loss:  2.63e+01\n",
      "Epoch  450 │ W_int (internal work):  8.85e+01 │ W_ext (external work):  6.98e+01 │ Zero Displacement term:  2.89e+00 │ Special Loss term:  2.2341e+00 │ Gram Loss:  3.1705e-04 │ Loss:  7.74e+01\n",
      "Epoch  500 │ W_int (internal work):  8.63e+01 │ W_ext (external work):  7.34e+01 │ Zero Displacement term:  2.87e+00 │ Special Loss term:  2.2474e+00 │ Gram Loss:  2.7491e-04 │ Loss:  3.93e+01\n",
      "Epoch  550 │ W_int (internal work):  8.12e+01 │ W_ext (external work):  7.42e+01 │ Zero Displacement term:  2.78e+00 │ Special Loss term:  2.2837e+00 │ Gram Loss:  1.3090e-04 │ Loss:  1.73e+01\n",
      "Epoch  600 │ W_int (internal work):  7.53e+01 │ W_ext (external work):  7.16e+01 │ Zero Displacement term:  2.68e+00 │ Special Loss term:  2.3053e+00 │ Gram Loss:  1.2638e-04 │ Loss:  2.35e+01\n",
      "Epoch  650 │ W_int (internal work):  6.73e+01 │ W_ext (external work):  8.19e+01 │ Zero Displacement term:  2.58e+00 │ Special Loss term:  2.3581e+00 │ Gram Loss:  5.5987e-04 │ Loss:  4.47e+01\n",
      "Epoch  700 │ W_int (internal work):  6.89e+01 │ W_ext (external work):  7.51e+01 │ Zero Displacement term:  2.51e+00 │ Special Loss term:  2.3391e+00 │ Gram Loss:  2.5691e-04 │ Loss:  1.24e+01\n"
     ]
    }
   ],
   "source": [
    "epoch=750\n",
    "# Adam with a learning rate:\n",
    "optimizer = torch.optim.Adam(model.parameters(), lr=1e-2)\n",
    "#Number of states:\n",
    "states=x_input.shape[2]\n",
    "N_pressure_dofs=len(pressure_element_IDs_final)\n",
    "N_ZD_dofs=len(ZD_element_IDs_final)\n",
    "loss_list=[]\n",
    "keys = ['Internal', 'External', 'ZD','Special']\n",
    "work_dict = { key: [] for key in keys }\n",
    "P_max  = -100000.0            # negative = compression\n",
    "# make a “linear ramp” of 11 pressures from 0 → P_max\n",
    "pressure_curve = torch.linspace(0.0, P_max, steps=states, device=device)\n",
    "# pressure_curve.shape == (11,)\n",
    "#new_lr = 1e-1\n",
    "#for pg in optimizer.param_groups:\n",
    "   # pg['lr'] = new_lr\n",
    "\n",
    "for i in range(epoch):\n",
    "    optimizer.zero_grad()#reset gradients\n",
    "    loss = torch.zeros((), device=device)    # scalar, same dtype/device\n",
    "    #Estimate\n",
    "    for s in range(1,states):\n",
    "        V_NN=model(x_input[:,:,s]) #This is numVF,30\n",
    "\n",
    "        delta_xyz=calculate_point(centroids_tensor, s) #This is N elements x3\n",
    "\n",
    "        VF_values = evaluate_vf_values(V_NN, delta_xyz) #This is p, N, 3 \n",
    "        \n",
    "        grad_VF= construct_VF_gradients_batch(V_NN, delta_xyz) #This is p,N,3,3 . \n",
    "\n",
    "        #Strain\n",
    "        virtual_strain=0.5*(grad_VF+grad_VF.transpose(2,3))\n",
    "\n",
    "        #Volume integral:\n",
    "        \n",
    "        # element‐wise inner product σ^e : ∇v^e\n",
    "        integrand = torch.sum(stress_tensor_3d[:,:,:,s].unsqueeze(0) * virtual_strain, dim=(2, 3)) # → shape [p,N]\n",
    "       # print(f'Integrand shape: {integrand.shape}')\n",
    "        W_int = torch.sum(integrand * volume_tensor[:,0,s].unsqueeze(0) ,dim=(0,1))/(Nelements*vf_number)\n",
    "\n",
    "       # print(f'W_int shape: {W_int.shape}')\n",
    "        #Surface integral\n",
    "        #Adding negative to the pressure becuase it is applied downwards...\n",
    "        t_surface=surface_normal_tensor[facet_idxs,:,s]*(pressure_curve[s])*torch.sum(area_tensor[facet_idxs,:,s]) #t_surface is N_pressure,3 (elements x xyz), add area because pressure is not force\n",
    "     #   print(f'W_int shape: {W_int.shape}')\n",
    "        dot = (VF_values[:,elem_idxs,:]* t_surface.unsqueeze(0)).sum(dim=2)  # shape: [3, 100]\n",
    "\n",
    "        W_ext=torch.sum(dot*area_tensor[facet_idxs,:,s].T,dim=(0,1))/(N_pressure_dofs*vf_number)\n",
    "\n",
    "        ## Add ZD term:\n",
    "        #ZD_regularization=torch.sum(VF_values[:,ZD_element_IDs_final,:]**2, dim=(0,1,2))/(N_ZD_dofs*vf_number)\n",
    "        VF_values_NODES = evaluate_vf_values(V_NN, position_tensor[ZD_idx,:,s]) #This is p, N, 3 \n",
    "        ZD_regularization=torch.sum(VF_values_NODES[:,ZD_idx,:]**2, dim=(0,1,2))/(len(ZD_idx)*vf_number)\n",
    "        \n",
    "        ## SPECIAL VIRTUAL FIELDS\n",
    "        # volumetric term:  ∑e  tr(Ereal)[e] * tr(Vvirt)[k,e] * vol_s[e]\n",
    "        A1 = torch.einsum('eii,kejj,e->ke',\n",
    "                        strain_tensor_3d[:,:,:,s],    # <-- must be first, shape [125,3,3]\n",
    "                        virtual_strain,      # <-- second, shape [2,125,3,3]\n",
    "                        volume_tensor[:,0,s])# <-- third, shape [125]\n",
    "       # A1.shape == [vf_number, Nelements] == [2,125]\n",
    "\n",
    "        # deviatoric (full inner‐product) term:\n",
    "        A2 = torch.einsum('eij,keij,e->ke',\n",
    "                        strain_tensor_3d[:,:,:,s],    # [125,3,3]\n",
    "                        virtual_strain,      # [2,125,3,3]|\n",
    "                        volume_tensor[:,0,s])# [125]\n",
    "\n",
    "\n",
    "        A = torch.stack([A1, A2], dim=1)       # → [2, n_vf, Ne]\n",
    "        M = A.mean(dim=2)                      # → [2, n_vf]\n",
    "\n",
    "        I = torch.eye(2, device=A.device) #.unsqueeze(2)   # now I.shape == (6,6,1)\n",
    "\n",
    "        # 2) subtract it from each slice of A\n",
    "        A_minus_I = A.mean(dim=2)*1e4 - I   # broadcasts I to (6,6,1000)\n",
    "        #print(A_minus_I.sum().item())\n",
    "        \n",
    "        special_loss = ((M / (M.sum(dim=0, keepdim=True) + 1e-8) #Norm \n",
    "                  - torch.eye(2, device=M.device, dtype=M.dtype))**2).sum()\n",
    "\n",
    "\n",
    "        # 1) build Gram matrix G_{kl} = ∫ ε*:ε* dV\n",
    "        G = torch.einsum(\n",
    "            'keij,leij,e->kl',\n",
    "            virtual_strain,    # [m,Ne,3,3]\n",
    "            virtual_strain,    # [m,Ne,3,3]\n",
    "            volume_tensor[:,0,s]  # [Ne]\n",
    "        )  # → [m,m]\n",
    "\n",
    "        # 2) special loss = ||G - I||^2\n",
    "        I_m = torch.eye(vf_number, device=G.device, dtype=G.dtype)\n",
    "        gram_loss = torch.norm(G - I_m)**2\n",
    "        #Loss:\n",
    "        loss+=(W_int-W_ext)**2+ZD_regularization*10+special_loss +gram_loss*10\n",
    "\n",
    "\n",
    "\n",
    "\n",
    "    loss/=states\n",
    "    loss_list.append(loss.item())\n",
    "    work_dict['Internal'].append(W_int.item())\n",
    "    work_dict['External'].append(W_ext.item())\n",
    "    work_dict['ZD'].append(ZD_regularization.item())\n",
    "\n",
    "    if i % 50 == 0:\n",
    "        W_int_item = W_int.item()\n",
    "        W_ext_item = W_ext.item()\n",
    "        ZD_regularization_item= ZD_regularization.item()*10\n",
    "        special_loss_item= special_loss.item()\n",
    "        L_item    = loss.item()\n",
    "        print(\n",
    "            f\"Epoch {i:4d} │ \"\n",
    "            f\"W_int (internal work): {W_int_item: .2e} │ \"\n",
    "            f\"W_ext (external work): {W_ext_item: .2e} │ \"\n",
    "            f\"Zero Displacement term: {ZD_regularization_item: .2e} │ \"\n",
    "            f\"Special Loss term: {special_loss_item: .4e} │ \"\n",
    "            f\"Gram Loss: {gram_loss.item(): .4e} │ \"\n",
    "            f\"Loss: {L_item: .2e}\"\n",
    "        )\n",
    "\n",
    "    loss.backward()\n",
    "\n",
    "    optimizer.step()"
   ]
  },
  {
   "cell_type": "code",
   "execution_count": 319,
   "metadata": {},
   "outputs": [
    {
     "data": {
      "text/plain": [
       "tensor([[0.9349, 0.6793],\n",
       "        [0.0651, 0.3207]], dtype=torch.float32, grad_fn=<DivBackward0>)"
      ]
     },
     "execution_count": 319,
     "metadata": {},
     "output_type": "execute_result"
    }
   ],
   "source": [
    "M /M.sum(dim=0, keepdim=True) "
   ]
  },
  {
   "cell_type": "code",
   "execution_count": 315,
   "metadata": {},
   "outputs": [
    {
     "data": {
      "text/plain": [
       "torch.Size([2, 125])"
      ]
     },
     "execution_count": 315,
     "metadata": {},
     "output_type": "execute_result"
    }
   ],
   "source": [
    "A1.shape"
   ]
  },
  {
   "cell_type": "code",
   "execution_count": 316,
   "metadata": {},
   "outputs": [
    {
     "data": {
      "text/plain": [
       "(tensor([-7.0113e-05, -1.3731e-06], dtype=torch.float32,\n",
       "        grad_fn=<SelectBackward0>),\n",
       " tensor([0.0001, 0.0002], dtype=torch.float32, grad_fn=<SelectBackward0>))"
      ]
     },
     "execution_count": 316,
     "metadata": {},
     "output_type": "execute_result"
    }
   ],
   "source": [
    "A1[:,0], A2[:,0]"
   ]
  },
  {
   "cell_type": "code",
   "execution_count": 298,
   "metadata": {},
   "outputs": [
    {
     "name": "stdout",
     "output_type": "stream",
     "text": [
      "Vx(x,y,z) = +0.162*1 + -0.022*x + +0.386*y + -0.005*z + -0.157*x**2 + -0.112*x*y + -0.180*x*z + -0.120*y**2 + -0.201*y*z + -0.588*z**2\n",
      "Vy(x,y,z) = +0.002*1 + +0.276*x + +0.241*y + -0.695*z + +0.162*x**2 + +0.274*x*y + +0.613*x*z + +0.047*y**2 + -0.552*y*z + -0.416*z**2\n",
      "Vz(x,y,z) = +0.008*1 + -0.135*x + -0.195*y + +0.463*z + +0.014*x**2 + -0.341*x*y + -0.152*x*z + -0.121*y**2 + +0.058*y*z + +0.548*z**2\n"
     ]
    }
   ],
   "source": [
    "print_vf_equations(V_NN[0], fmt=\"{:+.3f}\")"
   ]
  },
  {
   "cell_type": "code",
   "execution_count": 299,
   "metadata": {},
   "outputs": [
    {
     "name": "stdout",
     "output_type": "stream",
     "text": [
      "Vx(x,y,z) = -0.228*1 + +0.061*x + -0.196*y + -1.047*z + +0.529*x**2 + +0.603*x*y + +1.131*x*z + -0.046*y**2 + -0.099*y*z + +0.207*z**2\n",
      "Vy(x,y,z) = -0.070*1 + +0.155*x + -0.120*y + +0.165*z + -0.140*x**2 + +0.261*x*y + +0.031*x*z + +0.047*y**2 + -0.204*y*z + +0.541*z**2\n",
      "Vz(x,y,z) = +0.140*1 + -0.210*x + +0.019*y + +0.084*z + -0.628*x**2 + -0.072*x*y + -0.487*x*z + +0.295*y**2 + +0.449*y*z + -0.388*z**2\n"
     ]
    }
   ],
   "source": [
    "print_vf_equations(V_NN[1], fmt=\"{:+.3f}\")"
   ]
  },
  {
   "cell_type": "code",
   "execution_count": 300,
   "metadata": {},
   "outputs": [
    {
     "data": {
      "image/png": "[encoded data removed]",
      "text/plain": [
       "<Figure size 640x480 with 1 Axes>"
      ]
     },
     "metadata": {},
     "output_type": "display_data"
    }
   ],
   "source": [
    "import matplotlib.pyplot as plt\n",
    "\n",
    "# assume work_dict already exists, with lists of length N for each key\n",
    "epochs = list(range(1, len(work_dict['Internal']) + 1))\n",
    "# turn your lists into arrays\n",
    "internal = np.array(work_dict['Internal'])\n",
    "external = np.array(work_dict['External'])\n",
    "\n",
    "# now subtraction works element‐wise\n",
    "diff = internal - external\n",
    "plt.figure()\n",
    "plt.plot(epochs, work_dict['Internal'], label='Internal')\n",
    "plt.plot(epochs, work_dict['External'], label='External')\n",
    "plt.plot(epochs,diff, label='Internal-External')\n",
    "plt.plot(epochs, work_dict['ZD'], label='ZD')\n",
    "#plt.plot(epochs, work_dict['Special'], label='Special')\n",
    "plt.xlabel('Epoch')\n",
    "plt.ylabel('Value')\n",
    "plt.title('Work & ZD Regularization vs. Epoch')\n",
    "\n",
    "plt.legend()\n",
    "plt.tight_layout()\n",
    "plt.show()\n"
   ]
  },
  {
   "cell_type": "markdown",
   "metadata": {},
   "source": [
    "## Export"
   ]
  },
  {
   "cell_type": "code",
   "execution_count": 301,
   "metadata": {},
   "outputs": [],
   "source": [
    "model.eval()\n",
    "time_idx=10\n",
    "\n",
    "V_NN=model(x_input[:,:,time_idx]) #This is N elements x12 , output is 30,1\n",
    "\n",
    "delta_xyz=calculate_point(centroids_tensor, time_idx) #This is N elements x3\n",
    "\n",
    "#Vx=construct_VF_gradients_batch(V_NN[0:10],delta_xyz)\n",
    "VF_values = evaluate_vf_values(V_NN, delta_xyz) #This is p, N, 3 (V_NN[10:20],delta_xyz)"
   ]
  },
  {
   "cell_type": "code",
   "execution_count": 302,
   "metadata": {},
   "outputs": [],
   "source": [
    "for i in range(vf_number):\n",
    "    tensor1 = VF_values[i,:,:].cpu()        # shape [1000,3]\n",
    "\n",
    "    name='multi_VF_'+str(i)+'.txt'\n",
    "    with open(name,'w') as f:\n",
    "        for i, (x, y, z) in enumerate(tensor1.tolist(), start=1):\n",
    "            f.write(f\"{i},{x},{y},{z}\\n\")\n"
   ]
  },
  {
   "cell_type": "markdown",
   "metadata": {},
   "source": [
    "# Parameter Recovery"
   ]
  },
  {
   "cell_type": "code",
   "execution_count": 303,
   "metadata": {},
   "outputs": [],
   "source": [
    "model.eval()\n",
    "time_idx=10\n",
    "\n",
    "V_NN=model(x_input[:,:,time_idx]) #This is N elements x12 , output is 30,1\n",
    "\n",
    "delta_xyz=calculate_point(centroids_tensor, time_idx) #This is N elements x3\n",
    "\n",
    "#Vx=construct_VF_gradients_batch(V_NN[0:10],delta_xyz)\n",
    "VF_values = evaluate_vf_values(V_NN, delta_xyz) #This is p, N, 3 (V_NN[10:20],delta_xyz)\n",
    "#Vz=construct_VF(V_NN[20:30],delta_xyz)\n",
    "\n",
    "#VF=torch.cat((Vx.unsqueeze(1),Vy.unsqueeze(1),Vz.unsqueeze(1)), dim=1)\n",
    "grad_VF= construct_VF_gradients_batch(V_NN, delta_xyz)\n",
    "\n",
    "#Strain\n",
    "virtual_strain=0.5*(grad_VF+grad_VF.transpose(2,3)) #.detach().cpu().numpy()"
   ]
  },
  {
   "cell_type": "code",
   "execution_count": 304,
   "metadata": {},
   "outputs": [],
   "source": [
    "# volumetric term:  ∑e  tr(Ereal)[e] * tr(Vvirt)[k,e] * vol_s[e]\n",
    "A1 = torch.einsum('eii,kejj,e->ke',\n",
    "                strain_tensor_3d[:,:,:,time_idx],    # <-- must be first, shape [125,3,3]\n",
    "                virtual_strain,      # <-- second, shape [2,125,3,3]\n",
    "                volume_tensor[:,0,time_idx])# <-- third, shape [125]\n",
    "# A1.shape == [vf_number, Nelements] == [2,125]\n",
    "\n",
    "# deviatoric (full inner‐product) term:\n",
    "A2 = torch.einsum('eij,keij,e->ke',\n",
    "                strain_tensor_3d[:,:,:,time_idx],    # [125,3,3]\n",
    "                virtual_strain,      # [2,125,3,3]|\n",
    "                volume_tensor[:,0,time_idx])# [125]\n",
    "\n",
    "\n",
    "A = torch.stack([A1, A2], dim=1)       # → [2, n_vf, Ne]\n",
    "M = A.mean(dim=2)                      # → [2, n_vf]"
   ]
  },
  {
   "cell_type": "code",
   "execution_count": 305,
   "metadata": {},
   "outputs": [
    {
     "data": {
      "text/plain": [
       "(tensor(-7.0113e-05, dtype=torch.float32, grad_fn=<MulBackward0>),\n",
       " tensor(-1.3731e-06, dtype=torch.float32, grad_fn=<MulBackward0>))"
      ]
     },
     "execution_count": 305,
     "metadata": {},
     "output_type": "execute_result"
    }
   ],
   "source": [
    "#Sanity check for trace components\n",
    "torch.trace(strain_tensor_3d[0,:,:,time_idx])*torch.trace(virtual_strain[0,0])*volume_tensor[0,0,time_idx],torch.trace(strain_tensor_3d[0,:,:,time_idx])*torch.trace(virtual_strain[1,0])*volume_tensor[0,0,time_idx]"
   ]
  },
  {
   "cell_type": "code",
   "execution_count": 306,
   "metadata": {},
   "outputs": [
    {
     "data": {
      "text/plain": [
       "(tensor([-7.0113e-05,  1.1994e-04], dtype=torch.float32,\n",
       "        grad_fn=<SelectBackward0>),\n",
       " tensor([-7.0113e-05, -1.3731e-06], dtype=torch.float32,\n",
       "        grad_fn=<SelectBackward0>))"
      ]
     },
     "execution_count": 306,
     "metadata": {},
     "output_type": "execute_result"
    }
   ],
   "source": [
    "A[0,:,0],A[:,0,0]"
   ]
  },
  {
   "cell_type": "code",
   "execution_count": 307,
   "metadata": {},
   "outputs": [
    {
     "data": {
      "text/plain": [
       "(tensor(-0.0002, dtype=torch.float32, grad_fn=<SumBackward0>),\n",
       " tensor(-5.2361e-05, dtype=torch.float32, grad_fn=<SumBackward0>))"
      ]
     },
     "execution_count": 307,
     "metadata": {},
     "output_type": "execute_result"
    }
   ],
   "source": [
    "torch.sum(strain_tensor_3d[30,:,:,time_idx]*virtual_strain[0,30]*volume_tensor[30,0,time_idx]), torch.sum(strain_tensor_3d[30,:,:,time_idx]*virtual_strain[1,30]*volume_tensor[30,0,time_idx])"
   ]
  },
  {
   "cell_type": "code",
   "execution_count": 308,
   "metadata": {},
   "outputs": [
    {
     "data": {
      "text/plain": [
       "tensor([-2.2968e-04, -5.2361e-05], dtype=torch.float32,\n",
       "       grad_fn=<SelectBackward0>)"
      ]
     },
     "execution_count": 308,
     "metadata": {},
     "output_type": "execute_result"
    }
   ],
   "source": [
    "A[:,1,30]"
   ]
  },
  {
   "cell_type": "code",
   "execution_count": 309,
   "metadata": {},
   "outputs": [
    {
     "data": {
      "text/plain": [
       "tensor([-7.0113e-05, -1.3731e-06], dtype=torch.float32,\n",
       "       grad_fn=<SelectBackward0>)"
      ]
     },
     "execution_count": 309,
     "metadata": {},
     "output_type": "execute_result"
    }
   ],
   "source": [
    "A[:,0,0]"
   ]
  },
  {
   "cell_type": "code",
   "execution_count": 310,
   "metadata": {},
   "outputs": [
    {
     "data": {
      "text/plain": [
       "(torch.Size([2, 2, 125]),\n",
       " torch.Size([125, 3, 3, 11]),\n",
       " torch.Size([2, 125, 3, 3]))"
      ]
     },
     "execution_count": 310,
     "metadata": {},
     "output_type": "execute_result"
    }
   ],
   "source": [
    "A.shape, strain_tensor_3d.shape, virtual_strain.shape"
   ]
  },
  {
   "cell_type": "code",
   "execution_count": 311,
   "metadata": {},
   "outputs": [],
   "source": [
    "#Adding negative to the pressure becuase it is applied downwards...\n",
    "t_surface=surface_normal_tensor[facet_idxs,:,s]*(100000)*torch.sum(area_tensor[facet_idxs,:,s]) #t_surface is N_pressure,3 (elements x xyz), add area because pressure is not force\n",
    "#   print(f'W_int shape: {W_int.shape}')\n",
    "dot = (VF_values[:,elem_idxs,:]* t_surface.unsqueeze(0)).sum(dim=2)  # shape: [3, 100]\n",
    "\n",
    "W_ext=torch.sum(dot*area_tensor[facet_idxs,:,s].T,dim=(1))/(N_pressure_dofs*vf_number)"
   ]
  },
  {
   "cell_type": "code",
   "execution_count": 312,
   "metadata": {},
   "outputs": [
    {
     "data": {
      "text/plain": [
       "array([ 2361980.5, -7545659. ], dtype=float32)"
      ]
     },
     "execution_count": 312,
     "metadata": {},
     "output_type": "execute_result"
    }
   ],
   "source": [
    "#Parameters\n",
    "torch.matmul(W_ext,torch.inverse(M)).detach().cpu().numpy()"
   ]
  },
  {
   "cell_type": "code",
   "execution_count": 105,
   "metadata": {},
   "outputs": [
    {
     "name": "stdout",
     "output_type": "stream",
     "text": [
      "Vx(x,y,z) = -0.045*1 + +0.226*x + +0.120*y + -0.065*z + -0.008*x**2 + +0.312*x*y + -0.007*x*z + +0.391*y**2 + +0.286*y*z + -0.241*z**2\n",
      "Vy(x,y,z) = +0.019*1 + +0.031*x + -0.066*y + +0.237*z + -0.144*x**2 + -0.067*x*y + -0.168*x*z + +0.000*y**2 + -0.067*y*z + +0.263*z**2\n",
      "Vz(x,y,z) = +0.043*1 + -0.044*x + +0.079*y + -0.212*z + +0.117*x**2 + +0.065*x*y + +0.487*x*z + -0.109*y**2 + +0.018*y*z + +0.263*z**2\n"
     ]
    }
   ],
   "source": [
    "print_vf_equations(V_NN[0], fmt=\"{:+.3f}\")"
   ]
  },
  {
   "cell_type": "code",
   "execution_count": 106,
   "metadata": {},
   "outputs": [
    {
     "name": "stdout",
     "output_type": "stream",
     "text": [
      "Vx(x,y,z) = -0.020*1 + +0.146*x + +0.189*y + -0.163*z + +0.038*x**2 + +0.278*x*y + +0.047*x*z + +0.293*y**2 + +0.259*y*z + -0.404*z**2\n",
      "Vy(x,y,z) = -0.247*1 + -0.078*x + -0.408*y + -0.746*z + +0.724*x**2 + +0.086*x*y + +0.802*x*z + +0.002*y**2 + +0.156*y*z + +0.080*z**2\n",
      "Vz(x,y,z) = -0.000*1 + +0.047*x + -0.133*y + -0.072*z + +0.132*x**2 + -0.463*x*y + -0.206*x*z + +0.192*y**2 + +0.008*y*z + -0.289*z**2\n"
     ]
    }
   ],
   "source": [
    "print_vf_equations(V_NN[1], fmt=\"{:+.3f}\")"
   ]
  },
  {
   "cell_type": "code",
   "execution_count": null,
   "metadata": {},
   "outputs": [],
   "source": []
  }
 ],
 "metadata": {
  "kernelspec": {
   "display_name": "NNEUCLID",
   "language": "python",
   "name": "python3"
  },
  "language_info": {
   "codemirror_mode": {
    "name": "ipython",
    "version": 3
   },
   "file_extension": ".py",
   "mimetype": "text/x-python",
   "name": "python",
   "nbconvert_exporter": "python",
   "pygments_lexer": "ipython3",
   "version": "3.9.0"
  }
 },
 "nbformat": 4,
 "nbformat_minor": 2
}
